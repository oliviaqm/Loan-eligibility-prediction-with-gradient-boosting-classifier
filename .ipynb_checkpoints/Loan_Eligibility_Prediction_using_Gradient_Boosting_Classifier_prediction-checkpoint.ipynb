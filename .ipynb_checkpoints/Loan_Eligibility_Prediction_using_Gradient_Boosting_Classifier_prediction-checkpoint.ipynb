{
 "cells": [
  {
   "cell_type": "code",
   "execution_count": 1,
   "metadata": {
    "colab": {
     "base_uri": "https://localhost:8080/"
    },
    "executionInfo": {
     "elapsed": 47037,
     "status": "ok",
     "timestamp": 1644400652102,
     "user": {
      "displayName": "Siddhi Jadhav",
      "photoUrl": "https://lh3.googleusercontent.com/a/default-user=s64",
      "userId": "08402691859170607175"
     },
     "user_tz": -330
    },
    "id": "vFg_qb7xdl2a",
    "outputId": "576bed18-19e4-43ca-afa7-6657ea24784b"
   },
   "outputs": [],
   "source": [
    "# \"\"\"!pip install fancyimpute==0.7.0\n",
    "# !pip install -U imbalanced-learn\n",
    "# !pip install joblib==1.0.1\n",
    "# !pip install matplotlib==3.3.4\n",
    "# !pip install numpy==1.19.5\n",
    "# !pip install pandas==1.3.5\n",
    "# !pip install scikit_learn==0.24.2\n",
    "# !pip install scipy==1.6.2\n",
    "# !pip install seaborn==0.11.1\n",
    "# !pip install six==1.15.0\n",
    "# !pip install xgboost==1.5.1\n",
    "# !pip install fancyimpute\n",
    "\n",
    "# \"\"\""
   ]
  },
  {
   "cell_type": "code",
   "execution_count": 2,
   "metadata": {},
   "outputs": [],
   "source": [
    "#pip freeze > requirements.txt"
   ]
  },
  {
   "cell_type": "code",
   "execution_count": 3,
   "metadata": {},
   "outputs": [],
   "source": [
    "#pip install -r requirements.txt\n"
   ]
  },
  {
   "cell_type": "code",
   "execution_count": 4,
   "metadata": {
    "id": "lEhGJmvummkV"
   },
   "outputs": [],
   "source": [
    "from fancyimpute import KNN, SoftImpute"
   ]
  },
  {
   "cell_type": "code",
   "execution_count": 5,
   "metadata": {
    "id": "ScNfUPv2nB6-"
   },
   "outputs": [],
   "source": [
    "import pandas as pd\n",
    "import numpy as np\n",
    "import os\n",
    "import matplotlib.pyplot as plt\n",
    "import seaborn as sns\n",
    "import statistics\n",
    "from sklearn.model_selection import train_test_split,GridSearchCV,cross_val_score\n",
    "from sklearn.preprocessing import LabelBinarizer,StandardScaler,OrdinalEncoder\n",
    "from sklearn.metrics import confusion_matrix\n",
    "from sklearn.metrics import roc_auc_score\n",
    "from sklearn.metrics import roc_curve\n",
    "from scipy.stats import boxcox\n",
    "from sklearn.linear_model import LogisticRegression,RidgeClassifier, PassiveAggressiveClassifier\n",
    "from sklearn import metrics\n",
    "from sklearn import preprocessing\n",
    "from sklearn.ensemble import RandomForestClassifier, GradientBoostingClassifier\n",
    "from xgboost import plot_importance\n",
    "from matplotlib import pyplot\n",
    "from sklearn.naive_bayes import BernoulliNB\n",
    "from sklearn.neighbors import KNeighborsClassifier\n",
    "from sklearn.svm import LinearSVC\n",
    "from sklearn.tree import DecisionTreeClassifier\n",
    "from xgboost import XGBClassifier\n",
    "import joblib\n",
    "\n",
    "%matplotlib inline\n"
   ]
  },
  {
   "cell_type": "code",
   "execution_count": 6,
   "metadata": {
    "id": "pRVfVbQM7uP1"
   },
   "outputs": [],
   "source": [
    "import operator"
   ]
  },
  {
   "cell_type": "code",
   "execution_count": 7,
   "metadata": {
    "id": "gxwo4iX1yCQb"
   },
   "outputs": [],
   "source": [
    "import six\n",
    "import sys\n",
    "sys.modules['sklearn.externals.six'] = six"
   ]
  },
  {
   "cell_type": "code",
   "execution_count": 8,
   "metadata": {
    "id": "2kVRJCkhyRSp"
   },
   "outputs": [],
   "source": [
    "import sklearn.neighbors._base\n",
    "sys.modules['sklearn.neighbors.base'] = sklearn.neighbors._base"
   ]
  },
  {
   "cell_type": "code",
   "execution_count": 9,
   "metadata": {
    "id": "JOONLmg7yuah"
   },
   "outputs": [],
   "source": [
    "from sklearn.utils import _safe_indexing\n",
    "sys.modules['sklearn.utils.safe_indexing'] = sklearn.utils._safe_indexing"
   ]
  },
  {
   "cell_type": "code",
   "execution_count": 11,
   "metadata": {
    "id": "Ol8_KYaHxyQ1"
   },
   "outputs": [],
   "source": [
    "from imblearn.over_sampling import SMOTE"
   ]
  },
  {
   "cell_type": "code",
   "execution_count": 12,
   "metadata": {
    "colab": {
     "base_uri": "https://localhost:8080/"
    },
    "executionInfo": {
     "elapsed": 1921,
     "status": "ok",
     "timestamp": 1644400699969,
     "user": {
      "displayName": "Siddhi Jadhav",
      "photoUrl": "https://lh3.googleusercontent.com/a/default-user=s64",
      "userId": "08402691859170607175"
     },
     "user_tz": -330
    },
    "id": "-7XIVyoSemPa",
    "outputId": "d2ace87e-cf46-4df8-8651-3329d840755a"
   },
   "outputs": [
    {
     "name": "stderr",
     "output_type": "stream",
     "text": [
      "C:\\ProgramData\\Anaconda3\\lib\\site-packages\\IPython\\core\\interactiveshell.py:3553: DtypeWarning: Columns (10,16) have mixed types.Specify dtype option on import or set low_memory=False.\n",
      "  exec(code_obj, self.user_global_ns, self.user_ns)\n"
     ]
    }
   ],
   "source": [
    "#Importing the datasets\n",
    "data =pd.read_csv(\"https://s3.amazonaws.com/hackerday.datascience/358/LoansTrainingSetV2.csv\")"
   ]
  },
  {
   "cell_type": "code",
   "execution_count": 13,
   "metadata": {},
   "outputs": [
    {
     "data": {
      "text/html": [
       "<div>\n",
       "<style scoped>\n",
       "    .dataframe tbody tr th:only-of-type {\n",
       "        vertical-align: middle;\n",
       "    }\n",
       "\n",
       "    .dataframe tbody tr th {\n",
       "        vertical-align: top;\n",
       "    }\n",
       "\n",
       "    .dataframe thead th {\n",
       "        text-align: right;\n",
       "    }\n",
       "</style>\n",
       "<table border=\"1\" class=\"dataframe\">\n",
       "  <thead>\n",
       "    <tr style=\"text-align: right;\">\n",
       "      <th></th>\n",
       "      <th>Loan ID</th>\n",
       "      <th>Customer ID</th>\n",
       "      <th>Loan Status</th>\n",
       "      <th>Current Loan Amount</th>\n",
       "      <th>Term</th>\n",
       "      <th>Credit Score</th>\n",
       "      <th>Years in current job</th>\n",
       "      <th>Home Ownership</th>\n",
       "      <th>Annual Income</th>\n",
       "      <th>Purpose</th>\n",
       "      <th>Monthly Debt</th>\n",
       "      <th>Years of Credit History</th>\n",
       "      <th>Months since last delinquent</th>\n",
       "      <th>Number of Open Accounts</th>\n",
       "      <th>Number of Credit Problems</th>\n",
       "      <th>Current Credit Balance</th>\n",
       "      <th>Maximum Open Credit</th>\n",
       "      <th>Bankruptcies</th>\n",
       "      <th>Tax Liens</th>\n",
       "    </tr>\n",
       "  </thead>\n",
       "  <tbody>\n",
       "    <tr>\n",
       "      <th>0</th>\n",
       "      <td>6cf51492-02a2-423e-b93d-676f05b9ad53</td>\n",
       "      <td>7c202b37-2add-44e8-9aea-d5b119aea935</td>\n",
       "      <td>Loan Refused</td>\n",
       "      <td>12232</td>\n",
       "      <td>Short Term</td>\n",
       "      <td>7280.0</td>\n",
       "      <td>&lt; 1 year</td>\n",
       "      <td>Rent</td>\n",
       "      <td>46643.0</td>\n",
       "      <td>Debt Consolidation</td>\n",
       "      <td>777.39</td>\n",
       "      <td>18.0</td>\n",
       "      <td>10.0</td>\n",
       "      <td>12</td>\n",
       "      <td>0</td>\n",
       "      <td>6762</td>\n",
       "      <td>7946</td>\n",
       "      <td>0.0</td>\n",
       "      <td>0.0</td>\n",
       "    </tr>\n",
       "    <tr>\n",
       "      <th>1</th>\n",
       "      <td>552e7ade-4292-4354-9ff9-c48031697d72</td>\n",
       "      <td>e7217b0a-07ac-47dd-b379-577b5a35b7c6</td>\n",
       "      <td>Loan Refused</td>\n",
       "      <td>25014</td>\n",
       "      <td>Long Term</td>\n",
       "      <td>7330.0</td>\n",
       "      <td>10+ years</td>\n",
       "      <td>Home Mortgage</td>\n",
       "      <td>81099.0</td>\n",
       "      <td>Debt Consolidation</td>\n",
       "      <td>892.09</td>\n",
       "      <td>26.7</td>\n",
       "      <td>NaN</td>\n",
       "      <td>14</td>\n",
       "      <td>0</td>\n",
       "      <td>35706</td>\n",
       "      <td>77961</td>\n",
       "      <td>0.0</td>\n",
       "      <td>0.0</td>\n",
       "    </tr>\n",
       "    <tr>\n",
       "      <th>2</th>\n",
       "      <td>9b5e32b3-8d76-4801-afc8-d729d5a2e6b9</td>\n",
       "      <td>0a62fc41-16c8-40b5-92ff-9e4b763ce714</td>\n",
       "      <td>Loan Refused</td>\n",
       "      <td>16117</td>\n",
       "      <td>Short Term</td>\n",
       "      <td>7240.0</td>\n",
       "      <td>9 years</td>\n",
       "      <td>Home Mortgage</td>\n",
       "      <td>60438.0</td>\n",
       "      <td>Home Improvements</td>\n",
       "      <td>1244.02</td>\n",
       "      <td>16.7</td>\n",
       "      <td>32.0</td>\n",
       "      <td>11</td>\n",
       "      <td>1</td>\n",
       "      <td>11275</td>\n",
       "      <td>14815</td>\n",
       "      <td>1.0</td>\n",
       "      <td>0.0</td>\n",
       "    </tr>\n",
       "    <tr>\n",
       "      <th>3</th>\n",
       "      <td>5419b7c7-ac11-4be2-a8a7-b131fb6d6dbe</td>\n",
       "      <td>30f36c59-5182-4482-8bbb-5b736849ae43</td>\n",
       "      <td>Loan Refused</td>\n",
       "      <td>11716</td>\n",
       "      <td>Short Term</td>\n",
       "      <td>7400.0</td>\n",
       "      <td>3 years</td>\n",
       "      <td>Rent</td>\n",
       "      <td>34171.0</td>\n",
       "      <td>Debt Consolidation</td>\n",
       "      <td>990.94</td>\n",
       "      <td>10.0</td>\n",
       "      <td>NaN</td>\n",
       "      <td>21</td>\n",
       "      <td>0</td>\n",
       "      <td>7009</td>\n",
       "      <td>43533</td>\n",
       "      <td>0.0</td>\n",
       "      <td>0.0</td>\n",
       "    </tr>\n",
       "    <tr>\n",
       "      <th>4</th>\n",
       "      <td>1450910f-9495-4fc9-afaf-9bdf4b9821df</td>\n",
       "      <td>70c26012-bba5-42c0-8dcb-75295ada31bb</td>\n",
       "      <td>Loan Refused</td>\n",
       "      <td>9789</td>\n",
       "      <td>Long Term</td>\n",
       "      <td>6860.0</td>\n",
       "      <td>10+ years</td>\n",
       "      <td>Home Mortgage</td>\n",
       "      <td>47003.0</td>\n",
       "      <td>Home Improvements</td>\n",
       "      <td>503.71</td>\n",
       "      <td>16.7</td>\n",
       "      <td>25.0</td>\n",
       "      <td>13</td>\n",
       "      <td>1</td>\n",
       "      <td>16913</td>\n",
       "      <td>19553</td>\n",
       "      <td>1.0</td>\n",
       "      <td>0.0</td>\n",
       "    </tr>\n",
       "  </tbody>\n",
       "</table>\n",
       "</div>"
      ],
      "text/plain": [
       "                                Loan ID                           Customer ID  \\\n",
       "0  6cf51492-02a2-423e-b93d-676f05b9ad53  7c202b37-2add-44e8-9aea-d5b119aea935   \n",
       "1  552e7ade-4292-4354-9ff9-c48031697d72  e7217b0a-07ac-47dd-b379-577b5a35b7c6   \n",
       "2  9b5e32b3-8d76-4801-afc8-d729d5a2e6b9  0a62fc41-16c8-40b5-92ff-9e4b763ce714   \n",
       "3  5419b7c7-ac11-4be2-a8a7-b131fb6d6dbe  30f36c59-5182-4482-8bbb-5b736849ae43   \n",
       "4  1450910f-9495-4fc9-afaf-9bdf4b9821df  70c26012-bba5-42c0-8dcb-75295ada31bb   \n",
       "\n",
       "    Loan Status  Current Loan Amount        Term  Credit Score  \\\n",
       "0  Loan Refused                12232  Short Term        7280.0   \n",
       "1  Loan Refused                25014   Long Term        7330.0   \n",
       "2  Loan Refused                16117  Short Term        7240.0   \n",
       "3  Loan Refused                11716  Short Term        7400.0   \n",
       "4  Loan Refused                 9789   Long Term        6860.0   \n",
       "\n",
       "  Years in current job Home Ownership  Annual Income             Purpose  \\\n",
       "0             < 1 year           Rent        46643.0  Debt Consolidation   \n",
       "1            10+ years  Home Mortgage        81099.0  Debt Consolidation   \n",
       "2              9 years  Home Mortgage        60438.0   Home Improvements   \n",
       "3              3 years           Rent        34171.0  Debt Consolidation   \n",
       "4            10+ years  Home Mortgage        47003.0   Home Improvements   \n",
       "\n",
       "  Monthly Debt  Years of Credit History  Months since last delinquent  \\\n",
       "0       777.39                     18.0                          10.0   \n",
       "1       892.09                     26.7                           NaN   \n",
       "2      1244.02                     16.7                          32.0   \n",
       "3       990.94                     10.0                           NaN   \n",
       "4       503.71                     16.7                          25.0   \n",
       "\n",
       "   Number of Open Accounts  Number of Credit Problems  Current Credit Balance  \\\n",
       "0                       12                          0                    6762   \n",
       "1                       14                          0                   35706   \n",
       "2                       11                          1                   11275   \n",
       "3                       21                          0                    7009   \n",
       "4                       13                          1                   16913   \n",
       "\n",
       "  Maximum Open Credit  Bankruptcies  Tax Liens  \n",
       "0                7946           0.0        0.0  \n",
       "1               77961           0.0        0.0  \n",
       "2               14815           1.0        0.0  \n",
       "3               43533           0.0        0.0  \n",
       "4               19553           1.0        0.0  "
      ]
     },
     "execution_count": 13,
     "metadata": {},
     "output_type": "execute_result"
    }
   ],
   "source": [
    "data.head()"
   ]
  },
  {
   "cell_type": "code",
   "execution_count": 14,
   "metadata": {},
   "outputs": [
    {
     "data": {
      "text/plain": [
       "Index(['Loan ID', 'Customer ID', 'Loan Status', 'Current Loan Amount', 'Term',\n",
       "       'Credit Score', 'Years in current job', 'Home Ownership',\n",
       "       'Annual Income', 'Purpose', 'Monthly Debt', 'Years of Credit History',\n",
       "       'Months since last delinquent', 'Number of Open Accounts',\n",
       "       'Number of Credit Problems', 'Current Credit Balance',\n",
       "       'Maximum Open Credit', 'Bankruptcies', 'Tax Liens'],\n",
       "      dtype='object')"
      ]
     },
     "execution_count": 14,
     "metadata": {},
     "output_type": "execute_result"
    }
   ],
   "source": [
    "data.columns"
   ]
  },
  {
   "cell_type": "code",
   "execution_count": 15,
   "metadata": {
    "colab": {
     "base_uri": "https://localhost:8080/"
    },
    "executionInfo": {
     "elapsed": 6,
     "status": "ok",
     "timestamp": 1644400699969,
     "user": {
      "displayName": "Siddhi Jadhav",
      "photoUrl": "https://lh3.googleusercontent.com/a/default-user=s64",
      "userId": "08402691859170607175"
     },
     "user_tz": -330
    },
    "id": "ADRvAC6H3A07",
    "outputId": "233e402e-1931-43f8-997f-9745d63c7376"
   },
   "outputs": [
    {
     "data": {
      "text/plain": [
       "111107"
      ]
     },
     "execution_count": 15,
     "metadata": {},
     "output_type": "execute_result"
    }
   ],
   "source": [
    "len(data)"
   ]
  },
  {
   "cell_type": "code",
   "execution_count": 16,
   "metadata": {
    "id": "V8UUzb1y3FnV"
   },
   "outputs": [],
   "source": [
    "##Drop the duplicates with respect to LOAN ID\n",
    "data.drop_duplicates(subset=\"Loan ID\",keep='first',inplace=True)"
   ]
  },
  {
   "cell_type": "code",
   "execution_count": 17,
   "metadata": {
    "scrolled": true
   },
   "outputs": [
    {
     "data": {
      "text/plain": [
       "88910"
      ]
     },
     "execution_count": 17,
     "metadata": {},
     "output_type": "execute_result"
    }
   ],
   "source": [
    "len(data)"
   ]
  },
  {
   "cell_type": "code",
   "execution_count": 18,
   "metadata": {},
   "outputs": [
    {
     "data": {
      "text/plain": [
       "(88910, 19)"
      ]
     },
     "execution_count": 18,
     "metadata": {},
     "output_type": "execute_result"
    }
   ],
   "source": [
    "data.shape"
   ]
  },
  {
   "cell_type": "markdown",
   "metadata": {},
   "source": [
    "- EDA: Loan Status (Target var)"
   ]
  },
  {
   "cell_type": "code",
   "execution_count": 19,
   "metadata": {
    "scrolled": false
   },
   "outputs": [
    {
     "data": {
      "text/plain": [
       "0        Loan Refused\n",
       "1        Loan Refused\n",
       "2        Loan Refused\n",
       "3        Loan Refused\n",
       "4        Loan Refused\n",
       "             ...     \n",
       "88905      Loan Given\n",
       "88906      Loan Given\n",
       "88907      Loan Given\n",
       "88908    Loan Refused\n",
       "88909      Loan Given\n",
       "Name: Loan Status, Length: 88910, dtype: object"
      ]
     },
     "execution_count": 19,
     "metadata": {},
     "output_type": "execute_result"
    }
   ],
   "source": [
    "data[\"Loan Status\"]"
   ]
  },
  {
   "cell_type": "markdown",
   "metadata": {},
   "source": [
    "Check for imbalance in distribution of target variable"
   ]
  },
  {
   "cell_type": "code",
   "execution_count": 20,
   "metadata": {
    "colab": {
     "base_uri": "https://localhost:8080/",
     "height": 410
    },
    "executionInfo": {
     "elapsed": 869,
     "status": "ok",
     "timestamp": 1644400700836,
     "user": {
      "displayName": "Siddhi Jadhav",
      "photoUrl": "https://lh3.googleusercontent.com/a/default-user=s64",
      "userId": "08402691859170607175"
     },
     "user_tz": -330
    },
    "id": "ISxmQNST3JHs",
    "outputId": "306e13bf-f9f7-47b1-ab89-d13da37f028c",
    "scrolled": true
   },
   "outputs": [
    {
     "name": "stdout",
     "output_type": "stream",
     "text": [
      "Loan Given      63737\n",
      "Loan Refused    25173\n",
      "Name: Loan Status, dtype: int64\n"
     ]
    },
    {
     "data": {
      "image/png": "[encoded data removed]",
      "text/plain": [
       "<Figure size 720x360 with 1 Axes>"
      ]
     },
     "metadata": {
      "needs_background": "light"
     },
     "output_type": "display_data"
    }
   ],
   "source": [
    "##########PLotting the loan status \n",
    "print(data[\"Loan Status\"].value_counts()) # Check for data-imbalance\n",
    "\n",
    "\n",
    "status=data[\"Loan Status\"].value_counts(normalize=True) # Check for data-imbalance\n",
    "\n",
    "\n",
    "plt.figure(figsize=(10,5))\n",
    "sns.barplot(x=status.index, y=status.values, alpha=0.8)\n",
    "plt.title('Loan Status distribution')\n",
    "plt.ylabel('Number of Occurrences', fontsize=12)\n",
    "plt.xlabel('Loan Status', fontsize=12)\n",
    "plt.show();"
   ]
  },
  {
   "cell_type": "markdown",
   "metadata": {},
   "source": [
    "## EDA-Quartiles and Quantiles\n",
    "\n",
    "- Quartiles\n",
    "  - Found in box plots. \n",
    "  - Each quartile has 1/4 of the dataset.\n",
    "  - IQR (Interquartile Range)=(Q3-Q1)\n",
    "  - Minimum= Q1-1.5xIQR\n",
    "  - Maximum = Q3+1.5xIQR\n",
    "  - Values above max and below min are OUTLIERS.\n",
    "\n",
    "- Quantile\n",
    "  - The nth percent of a dataset.\n",
    "  - 20% (or 0.2) quantile is calculated by 0.2x(n+1), where n is the number of observations. If n=5, then 0.2(6)=1.2, so the 1st observation is the 20% quantile.\n",
    "  - 80% (or 0.8) quantile is calculated by 0.8x(n+1), where n is the number of observations. If n=5, then 0.8(6)=4.8, so the 5th observation is the 80% quantile."
   ]
  },
  {
   "cell_type": "markdown",
   "metadata": {},
   "source": [
    "- EDA: Current Loan Amount"
   ]
  },
  {
   "cell_type": "code",
   "execution_count": 21,
   "metadata": {
    "colab": {
     "base_uri": "https://localhost:8080/",
     "height": 294
    },
    "executionInfo": {
     "elapsed": 596,
     "status": "ok",
     "timestamp": 1644400701430,
     "user": {
      "displayName": "Siddhi Jadhav",
      "photoUrl": "https://lh3.googleusercontent.com/a/default-user=s64",
      "userId": "08402691859170607175"
     },
     "user_tz": -330
    },
    "id": "eZjs1pbe3QK9",
    "outputId": "f8f71b83-2ab7-4de7-dca5-90133556aef9"
   },
   "outputs": [
    {
     "name": "stdout",
     "output_type": "stream",
     "text": [
      "count    8.891000e+04\n",
      "mean     1.433878e+07\n",
      "std      3.502996e+07\n",
      "min      4.910000e+02\n",
      "25%      8.283000e+03\n",
      "50%      1.435500e+04\n",
      "75%      2.448500e+04\n",
      "max      1.000000e+08\n",
      "Name: Current Loan Amount, dtype: float64\n"
     ]
    },
    {
     "data": {
      "image/png": "[encoded data removed]",
      "text/plain": [
       "<Figure size 432x288 with 1 Axes>"
      ]
     },
     "metadata": {
      "needs_background": "light"
     },
     "output_type": "display_data"
    }
   ],
   "source": [
    "###Current Loan Amount ############\n",
    "print(data[\"Current Loan Amount\"].describe())\n",
    "\n",
    "# Visualize with a histogram-Group data into buckets and get the number of observations belonging to each bucket.\n",
    "# We see that there are some very high outliers. (Also identifiable by comparing the magnitude of the 75% percentile and max value) \n",
    "data[\"Current Loan Amount\"].plot.hist(grid=True, bins=20, rwidth=0.9,\n",
    "                   color='#607c8e')\n",
    "plt.title('Histogram of Current Loan Amount')\n",
    "plt.xlabel('Counts')\n",
    "plt.ylabel('Current Loan Amt')\n",
    "plt.grid(axis='y', alpha=0.75)\n"
   ]
  },
  {
   "cell_type": "code",
   "execution_count": 22,
   "metadata": {
    "colab": {
     "base_uri": "https://localhost:8080/"
    },
    "executionInfo": {
     "elapsed": 8,
     "status": "ok",
     "timestamp": 1644400701432,
     "user": {
      "displayName": "Siddhi Jadhav",
      "photoUrl": "https://lh3.googleusercontent.com/a/default-user=s64",
      "userId": "08402691859170607175"
     },
     "user_tz": -330
    },
    "id": "DgOWaS9A3SHA",
    "outputId": "31c20469-dfa2-4611-f48b-c98caf3f7048"
   },
   "outputs": [
    {
     "name": "stdout",
     "output_type": "stream",
     "text": [
      "16202.0\n"
     ]
    }
   ],
   "source": [
    "#Finding IQR's for outlier removal\n",
    "\n",
    "Q1 = data[\"Current Loan Amount\"].quantile(0.25)\n",
    "Q3 = data[\"Current Loan Amount\"].quantile(0.75)\n",
    "IQR = Q3 - Q1\n",
    "print(IQR)"
   ]
  },
  {
   "cell_type": "code",
   "execution_count": 23,
   "metadata": {
    "colab": {
     "base_uri": "https://localhost:8080/"
    },
    "executionInfo": {
     "elapsed": 6,
     "status": "ok",
     "timestamp": 1644400701432,
     "user": {
      "displayName": "Siddhi Jadhav",
      "photoUrl": "https://lh3.googleusercontent.com/a/default-user=s64",
      "userId": "08402691859170607175"
     },
     "user_tz": -330
    },
    "id": "EUkGOb9T3Ur7",
    "outputId": "7f7ebf1d-dfb9-430f-deff-5a49aaa57158"
   },
   "outputs": [
    {
     "data": {
      "text/plain": [
       "5044     99999999\n",
       "5045     99999999\n",
       "5046     99999999\n",
       "5047     99999999\n",
       "5048     99999999\n",
       "           ...   \n",
       "17777    99999999\n",
       "17778    99999999\n",
       "17779    99999999\n",
       "17780    99999999\n",
       "17781    99999999\n",
       "Name: Current Loan Amount, Length: 12738, dtype: int64"
      ]
     },
     "execution_count": 23,
     "metadata": {},
     "output_type": "execute_result"
    }
   ],
   "source": [
    "# Get the outlier datapoints\n",
    "# Outliers are datapoints below the minimum = Q1-1.5*IQR and above the maximum = Q3+1.5*IQR\n",
    "data[\"Current Loan Amount\"][((data[\"Current Loan Amount\"] < (Q1 - 1.5 * IQR)) |(data[\"Current Loan Amount\"] > (Q3 + 1.5 * IQR)))]\n"
   ]
  },
  {
   "cell_type": "markdown",
   "metadata": {},
   "source": [
    "Based on the above, we see that values with  99999999 are probably some fill-in value for missing values."
   ]
  },
  {
   "cell_type": "code",
   "execution_count": 24,
   "metadata": {
    "id": "cGCHNHUt3axb"
   },
   "outputs": [],
   "source": [
    "# Let's replace 99999999 with a single value. First, convert to NaN.\n",
    "temp=np.array(data[\"Current Loan Amount\"].values.tolist()) # convert column to list, then to np array.\n",
    "data[\"Current Loan Amount_temp\"] = np.where(temp > 9999998, 'NaN', temp).tolist() \n",
    "# \"np.where\" performs filtering on an np array, by replacing values > 9999998 with NaN, otherwise keeping the original value.\n"
   ]
  },
  {
   "cell_type": "code",
   "execution_count": 25,
   "metadata": {
    "colab": {
     "base_uri": "https://localhost:8080/",
     "height": 431
    },
    "executionInfo": {
     "elapsed": 1043,
     "status": "ok",
     "timestamp": 1644400702471,
     "user": {
      "displayName": "Siddhi Jadhav",
      "photoUrl": "https://lh3.googleusercontent.com/a/default-user=s64",
      "userId": "08402691859170607175"
     },
     "user_tz": -330
    },
    "id": "yn6qEcfL3dPY",
    "outputId": "81a578f3-9df1-4524-e265-1aafd6846501"
   },
   "outputs": [
    {
     "data": {
      "text/plain": [
       "count    76172.000000\n",
       "mean     13933.915756\n",
       "std       8235.921922\n",
       "min        491.000000\n",
       "25%       7810.000000\n",
       "50%      12038.000000\n",
       "75%      19351.000000\n",
       "max      35875.000000\n",
       "Name: Current Loan Amount_temp, dtype: float64"
      ]
     },
     "execution_count": 25,
     "metadata": {},
     "output_type": "execute_result"
    },
    {
     "data": {
      "image/png": "[encoded data removed]",
      "text/plain": [
       "<Figure size 432x288 with 1 Axes>"
      ]
     },
     "metadata": {
      "needs_background": "light"
     },
     "output_type": "display_data"
    }
   ],
   "source": [
    "# Remove NaN values from \"Current Loan Amount_temp\" and plot a histogram again.\n",
    "temp=data[\"Current Loan Amount_temp\"][data[\"Current Loan Amount_temp\"]!='NaN'].astype(str).astype(int)\n",
    "temp.plot.hist(grid=True, bins=20, rwidth=0.9,\n",
    "                   color='#607c8e')\n",
    "                   \n",
    "temp.describe()\n"
   ]
  },
  {
   "cell_type": "code",
   "execution_count": 26,
   "metadata": {
    "id": "KTgdmyYf3h-P"
   },
   "outputs": [],
   "source": [
    "#Replacing the data with 50% percentile or mean\n",
    "temp=np.array(data[\"Current Loan Amount\"].values.tolist())\n",
    "data[\"Current Loan Amount\"] = np.where(temp > 9999998,12038,temp).tolist()\n",
    "\n",
    "data=data.drop(['Current Loan Amount_temp'],axis=1)"
   ]
  },
  {
   "cell_type": "markdown",
   "metadata": {},
   "source": [
    "- EDA: Term (categorical variable)"
   ]
  },
  {
   "cell_type": "code",
   "execution_count": 27,
   "metadata": {},
   "outputs": [
    {
     "data": {
      "text/plain": [
       "array(['Short Term', 'Long Term'], dtype=object)"
      ]
     },
     "execution_count": 27,
     "metadata": {},
     "output_type": "execute_result"
    }
   ],
   "source": [
    "data[\"Term\"].unique()"
   ]
  },
  {
   "cell_type": "code",
   "execution_count": 28,
   "metadata": {},
   "outputs": [
    {
     "data": {
      "text/plain": [
       "0"
      ]
     },
     "execution_count": 28,
     "metadata": {},
     "output_type": "execute_result"
    }
   ],
   "source": [
    "# Check for any missing values\n",
    "#data[\"Term\"].isnull().values.any()\n",
    "data[\"Term\"].isnull().sum()"
   ]
  },
  {
   "cell_type": "code",
   "execution_count": 29,
   "metadata": {
    "colab": {
     "base_uri": "https://localhost:8080/",
     "height": 410
    },
    "executionInfo": {
     "elapsed": 877,
     "status": "ok",
     "timestamp": 1644400703344,
     "user": {
      "displayName": "Siddhi Jadhav",
      "photoUrl": "https://lh3.googleusercontent.com/a/default-user=s64",
      "userId": "08402691859170607175"
     },
     "user_tz": -330
    },
    "id": "QknzhQ1j3jl5",
    "outputId": "a7fbe35f-cf0b-47cd-b5d0-07987bfdfc5e"
   },
   "outputs": [
    {
     "name": "stderr",
     "output_type": "stream",
     "text": [
      "C:\\ProgramData\\Anaconda3\\lib\\site-packages\\seaborn\\_decorators.py:43: FutureWarning: Pass the following variables as keyword args: x, y. From version 0.12, the only valid positional argument will be `data`, and passing other arguments without an explicit keyword will result in an error or misinterpretation.\n",
      "  FutureWarning\n"
     ]
    },
    {
     "data": {
      "image/png": "[encoded data removed]",
      "text/plain": [
       "<Figure size 720x360 with 1 Axes>"
      ]
     },
     "metadata": {
      "needs_background": "light"
     },
     "output_type": "display_data"
    }
   ],
   "source": [
    "\n",
    "############Term ##############\n",
    "\n",
    "status=data[\"Term\"].value_counts() \n",
    "\n",
    "plt.figure(figsize=(10,5))\n",
    "sns.barplot(status.index, status.values, alpha=0.8)\n",
    "plt.title('Loan Term distribution')\n",
    "plt.ylabel('Number of Occurrences', fontsize=12)\n",
    "plt.xlabel('Loan term', fontsize=12)\n",
    "plt.show()\n"
   ]
  },
  {
   "cell_type": "code",
   "execution_count": 30,
   "metadata": {
    "scrolled": true
   },
   "outputs": [
    {
     "name": "stderr",
     "output_type": "stream",
     "text": [
      "C:\\ProgramData\\Anaconda3\\lib\\site-packages\\seaborn\\_decorators.py:43: FutureWarning: Pass the following variables as keyword args: x, y. From version 0.12, the only valid positional argument will be `data`, and passing other arguments without an explicit keyword will result in an error or misinterpretation.\n",
      "  FutureWarning\n"
     ]
    },
    {
     "data": {
      "image/png": "[encoded data removed]",
      "text/plain": [
       "<Figure size 720x360 with 1 Axes>"
      ]
     },
     "metadata": {
      "needs_background": "light"
     },
     "output_type": "display_data"
    }
   ],
   "source": [
    "status=data[\"Term\"].value_counts(normalize=True) \n",
    "\n",
    "plt.figure(figsize=(10,5))\n",
    "sns.barplot(status.index, status.values, alpha=0.8)\n",
    "plt.title('Loan Term distribution')\n",
    "plt.ylabel('Number of Occurrences', fontsize=12)\n",
    "plt.xlabel('Loan term', fontsize=12)\n",
    "plt.show()\n"
   ]
  },
  {
   "cell_type": "markdown",
   "metadata": {},
   "source": [
    "- EDA: Credit Score\n",
    "- should be between 0-800."
   ]
  },
  {
   "cell_type": "code",
   "execution_count": 31,
   "metadata": {
    "colab": {
     "base_uri": "https://localhost:8080/",
     "height": 412
    },
    "executionInfo": {
     "elapsed": 530,
     "status": "ok",
     "timestamp": 1644400703868,
     "user": {
      "displayName": "Siddhi Jadhav",
      "photoUrl": "https://lh3.googleusercontent.com/a/default-user=s64",
      "userId": "08402691859170607175"
     },
     "user_tz": -330
    },
    "id": "bS39361Q3oW9",
    "outputId": "aa00f62e-440a-4739-fb39-0cfe9c8a1a63"
   },
   "outputs": [
    {
     "name": "stdout",
     "output_type": "stream",
     "text": [
      "count    67572.000000\n",
      "mean      1199.199580\n",
      "std       1680.813805\n",
      "min        585.000000\n",
      "25%        714.000000\n",
      "50%        733.000000\n",
      "75%        744.000000\n",
      "max       7510.000000\n",
      "Name: Credit Score, dtype: float64\n"
     ]
    },
    {
     "data": {
      "image/png": "[encoded data removed]",
      "text/plain": [
       "<Figure size 432x288 with 1 Axes>"
      ]
     },
     "metadata": {
      "needs_background": "light"
     },
     "output_type": "display_data"
    }
   ],
   "source": [
    "#####Credit Score#############\n",
    "\n",
    "print(data[\"Credit Score\"].describe())\n",
    "##Max is 7510. It should be between 0-800. We cannot plot the boxplot, due to some errors present in the data. (Null values and extreme outliers.)\n",
    "plt.boxplot(data[\"Credit Score\"])\n",
    "plt.show()\n"
   ]
  },
  {
   "cell_type": "code",
   "execution_count": 32,
   "metadata": {
    "colab": {
     "base_uri": "https://localhost:8080/"
    },
    "executionInfo": {
     "elapsed": 5,
     "status": "ok",
     "timestamp": 1644400703868,
     "user": {
      "displayName": "Siddhi Jadhav",
      "photoUrl": "https://lh3.googleusercontent.com/a/default-user=s64",
      "userId": "08402691859170607175"
     },
     "user_tz": -330
    },
    "id": "wtRdm_KB3qU4",
    "outputId": "81ba1365-9c9f-46b0-b9cf-6e1e8031838c"
   },
   "outputs": [
    {
     "data": {
      "text/plain": [
       "21338"
      ]
     },
     "execution_count": 32,
     "metadata": {},
     "output_type": "execute_result"
    }
   ],
   "source": [
    "data[\"Credit Score\"].isnull().sum()\n"
   ]
  },
  {
   "cell_type": "code",
   "execution_count": 33,
   "metadata": {
    "id": "_GR08d3O3uJa"
   },
   "outputs": [],
   "source": [
    "#Now lets do treatment of the data at hand. Let us firstly divide the values greater than 800 by 10\n",
    "\n",
    "data[\"Credit Score\"]=np.where(data[\"Credit Score\"]>800, data[\"Credit Score\"]/10, data[\"Credit Score\"])\n"
   ]
  },
  {
   "cell_type": "code",
   "execution_count": 34,
   "metadata": {
    "colab": {
     "base_uri": "https://localhost:8080/",
     "height": 355
    },
    "executionInfo": {
     "elapsed": 2015,
     "status": "ok",
     "timestamp": 1644400705881,
     "user": {
      "displayName": "Siddhi Jadhav",
      "photoUrl": "https://lh3.googleusercontent.com/a/default-user=s64",
      "userId": "08402691859170607175"
     },
     "user_tz": -330
    },
    "id": "NXGFnB8A31ML",
    "outputId": "dedfeb54-0308-41de-f57a-1ce4f22e250d"
   },
   "outputs": [
    {
     "name": "stdout",
     "output_type": "stream",
     "text": [
      "685.0\n"
     ]
    },
    {
     "name": "stderr",
     "output_type": "stream",
     "text": [
      "C:\\ProgramData\\Anaconda3\\lib\\site-packages\\seaborn\\distributions.py:2619: FutureWarning: `distplot` is a deprecated function and will be removed in a future version. Please adapt your code to use either `displot` (a figure-level function with similar flexibility) or `histplot` (an axes-level function for histograms).\n",
      "  warnings.warn(msg, FutureWarning)\n"
     ]
    },
    {
     "data": {
      "text/plain": [
       "<AxesSubplot:xlabel='Credit Score_1', ylabel='Density'>"
      ]
     },
     "execution_count": 34,
     "metadata": {},
     "output_type": "execute_result"
    },
    {
     "data": {
      "image/png": "[encoded data removed]",
      "text/plain": [
       "<Figure size 432x288 with 1 Axes>"
      ]
     },
     "metadata": {
      "needs_background": "light"
     },
     "output_type": "display_data"
    }
   ],
   "source": [
    "#Now lets replace the missing values with median \n",
    "median_score=statistics.median(data[\"Credit Score\"])\n",
    "print(median_score)\n",
    "\n",
    "data[\"Credit Score_1\"]=data[\"Credit Score\"]\n",
    "data[\"Credit Score_1\"].fillna(median_score, inplace = True) \n",
    "\n",
    "sns.distplot(data[\"Credit Score_1\"])\n"
   ]
  },
  {
   "cell_type": "code",
   "execution_count": 35,
   "metadata": {
    "colab": {
     "base_uri": "https://localhost:8080/",
     "height": 391
    },
    "executionInfo": {
     "elapsed": 3118,
     "status": "ok",
     "timestamp": 1644400708993,
     "user": {
      "displayName": "Siddhi Jadhav",
      "photoUrl": "https://lh3.googleusercontent.com/a/default-user=s64",
      "userId": "08402691859170607175"
     },
     "user_tz": -330
    },
    "id": "zWWkfxDS34kb",
    "outputId": "e56f217e-fb28-48c6-88ad-e78e99c3347b"
   },
   "outputs": [
    {
     "name": "stderr",
     "output_type": "stream",
     "text": [
      "C:\\ProgramData\\Anaconda3\\lib\\site-packages\\seaborn\\distributions.py:2619: FutureWarning: `distplot` is a deprecated function and will be removed in a future version. Please adapt your code to use either `displot` (a figure-level function with similar flexibility) or `histplot` (an axes-level function for histograms).\n",
      "  warnings.warn(msg, FutureWarning)\n"
     ]
    },
    {
     "data": {
      "image/png": "[encoded data removed]",
      "text/plain": [
       "<Figure size 432x288 with 1 Axes>"
      ]
     },
     "metadata": {
      "needs_background": "light"
     },
     "output_type": "display_data"
    }
   ],
   "source": [
    "#As we can see this data is skewed so when we replace it with median it is giving us problems. \n",
    "#Replacing with 75th percentile and taking log we get a better distribution\n",
    "\n",
    "\n",
    "data[\"Credit Score\"].fillna(744, inplace = True) \n",
    "\n",
    "sns.distplot(data[\"Credit Score\"]);"
   ]
  },
  {
   "cell_type": "code",
   "execution_count": 36,
   "metadata": {
    "scrolled": true
   },
   "outputs": [
    {
     "name": "stderr",
     "output_type": "stream",
     "text": [
      "C:\\ProgramData\\Anaconda3\\lib\\site-packages\\seaborn\\distributions.py:2619: FutureWarning: `distplot` is a deprecated function and will be removed in a future version. Please adapt your code to use either `displot` (a figure-level function with similar flexibility) or `histplot` (an axes-level function for histograms).\n",
      "  warnings.warn(msg, FutureWarning)\n"
     ]
    },
    {
     "data": {
      "text/plain": [
       "<AxesSubplot:xlabel='Credit Score', ylabel='Density'>"
      ]
     },
     "execution_count": 36,
     "metadata": {},
     "output_type": "execute_result"
    },
    {
     "data": {
      "image/png": "[encoded data removed]",
      "text/plain": [
       "<Figure size 432x288 with 1 Axes>"
      ]
     },
     "metadata": {
      "needs_background": "light"
     },
     "output_type": "display_data"
    }
   ],
   "source": [
    "sns.distplot(np.log(data[\"Credit Score\"]))"
   ]
  },
  {
   "cell_type": "markdown",
   "metadata": {},
   "source": [
    "Still, even after doing a log-transform, the distribution of credit score is skewed, meaning that the imputation of our data is not that good. Later on, we will have to use an imputation algorithm to fill in the NaN values. The imputing algorithm will use all the other variables associated with credit score, instead of just a single value, to fill in the missing values. "
   ]
  },
  {
   "cell_type": "markdown",
   "metadata": {},
   "source": [
    "- EDA: Home Ownership"
   ]
  },
  {
   "cell_type": "code",
   "execution_count": 37,
   "metadata": {
    "colab": {
     "base_uri": "https://localhost:8080/"
    },
    "executionInfo": {
     "elapsed": 14,
     "status": "ok",
     "timestamp": 1644400708994,
     "user": {
      "displayName": "Siddhi Jadhav",
      "photoUrl": "https://lh3.googleusercontent.com/a/default-user=s64",
      "userId": "08402691859170607175"
     },
     "user_tz": -330
    },
    "id": "D11ymr5s4A-D",
    "outputId": "cd410bf0-be88-467e-d98d-cf43a93287c2"
   },
   "outputs": [
    {
     "data": {
      "text/plain": [
       "array(['Rent', 'Home Mortgage', 'Own Home', 'HaveMortgage'], dtype=object)"
      ]
     },
     "execution_count": 37,
     "metadata": {},
     "output_type": "execute_result"
    }
   ],
   "source": [
    "data['Home Ownership'].unique()\n",
    "#As we can see it has Home Mortgage and haveMortgage as 2 different classes. There should be only 3 classes: rent, home mortgage and own home.\n",
    "#Lets fix that.\n"
   ]
  },
  {
   "cell_type": "code",
   "execution_count": 38,
   "metadata": {
    "colab": {
     "base_uri": "https://localhost:8080/"
    },
    "executionInfo": {
     "elapsed": 12,
     "status": "ok",
     "timestamp": 1644400708995,
     "user": {
      "displayName": "Siddhi Jadhav",
      "photoUrl": "https://lh3.googleusercontent.com/a/default-user=s64",
      "userId": "08402691859170607175"
     },
     "user_tz": -330
    },
    "id": "e8YuSicr4CtN",
    "outputId": "e805e5e8-7693-4bc3-bf88-ccac0be261b1"
   },
   "outputs": [
    {
     "data": {
      "text/plain": [
       "array(['Rent', 'Home Mortgage', 'Own Home'], dtype=object)"
      ]
     },
     "execution_count": 38,
     "metadata": {},
     "output_type": "execute_result"
    }
   ],
   "source": [
    "data['Home Ownership']=data['Home Ownership'].str.replace('HaveMortgage', 'Home Mortgage', regex=True)\n",
    "\n",
    "data['Home Ownership'].unique()\n"
   ]
  },
  {
   "cell_type": "markdown",
   "metadata": {},
   "source": [
    "- EDA: Annual Income (Continuous var)"
   ]
  },
  {
   "cell_type": "code",
   "execution_count": 39,
   "metadata": {
    "colab": {
     "base_uri": "https://localhost:8080/"
    },
    "executionInfo": {
     "elapsed": 8,
     "status": "ok",
     "timestamp": 1644400708995,
     "user": {
      "displayName": "Siddhi Jadhav",
      "photoUrl": "https://lh3.googleusercontent.com/a/default-user=s64",
      "userId": "08402691859170607175"
     },
     "user_tz": -330
    },
    "id": "7G_DhsWC4ICh",
    "outputId": "e4a4be96-fc9d-4f3c-a504-752848306fae"
   },
   "outputs": [
    {
     "data": {
      "text/plain": [
       "count    6.757200e+04\n",
       "mean     7.234575e+04\n",
       "std      5.836101e+04\n",
       "min      4.033000e+03\n",
       "25%      4.458600e+04\n",
       "50%      6.149400e+04\n",
       "75%      8.675025e+04\n",
       "max      8.713547e+06\n",
       "Name: Annual Income, dtype: float64"
      ]
     },
     "execution_count": 39,
     "metadata": {},
     "output_type": "execute_result"
    }
   ],
   "source": [
    "##################Annual Income######################\n",
    "data['Annual Income'].describe()\n"
   ]
  },
  {
   "cell_type": "code",
   "execution_count": 40,
   "metadata": {
    "colab": {
     "base_uri": "https://localhost:8080/"
    },
    "executionInfo": {
     "elapsed": 857,
     "status": "ok",
     "timestamp": 1644400709846,
     "user": {
      "displayName": "Siddhi Jadhav",
      "photoUrl": "https://lh3.googleusercontent.com/a/default-user=s64",
      "userId": "08402691859170607175"
     },
     "user_tz": -330
    },
    "id": "0GnaT47z4J7w",
    "outputId": "b1cfd252-feed-4984-900b-857710d92f0e"
   },
   "outputs": [
    {
     "data": {
      "text/plain": [
       "0.200     40764.00\n",
       "0.750     86750.25\n",
       "0.900    119916.00\n",
       "0.950    147645.00\n",
       "0.990    239286.96\n",
       "0.999    491575.77\n",
       "Name: Annual Income, dtype: float64"
      ]
     },
     "execution_count": 40,
     "metadata": {},
     "output_type": "execute_result"
    }
   ],
   "source": [
    "##Lets look at the quantiles of this columns, to see where outliers are present.\n",
    "# 0.2 or 20% quantile is the value at the position: 0,2 x (n+1), where n is the number of observations/data points. \n",
    "\n",
    "data['Annual Income'].quantile([.2,0.75,0.90,.95,0.99,.999])\n"
   ]
  },
  {
   "cell_type": "code",
   "execution_count": 41,
   "metadata": {
    "colab": {
     "base_uri": "https://localhost:8080/"
    },
    "executionInfo": {
     "elapsed": 15,
     "status": "ok",
     "timestamp": 1644400709846,
     "user": {
      "displayName": "Siddhi Jadhav",
      "photoUrl": "https://lh3.googleusercontent.com/a/default-user=s64",
      "userId": "08402691859170607175"
     },
     "user_tz": -330
    },
    "id": "OeXP1lAj4Ngp",
    "outputId": "7699c3dd-e5ae-4485-fb0b-0de4a92929e1"
   },
   "outputs": [
    {
     "data": {
      "text/plain": [
       "21338"
      ]
     },
     "execution_count": 41,
     "metadata": {},
     "output_type": "execute_result"
    }
   ],
   "source": [
    "#As we can see they lie in the 99th percentile of the data.Lets replace them\n",
    "# Capping any values greater than 99% to 99th value\n",
    "data.loc[data['Annual Income'] > 239287, 'Annual Income'] = 239287 #Conditional that returns a boolean Series with column labels specified\n",
    "\n",
    "\n",
    "data['Annual Income'].isna().sum()\n",
    "#So we have about 21000 null values \n",
    "\n",
    "##We will impute the mising data with other columns towards the end\n"
   ]
  },
  {
   "cell_type": "markdown",
   "metadata": {},
   "source": [
    "- EDA: Purpose (Categorical var)"
   ]
  },
  {
   "cell_type": "code",
   "execution_count": 42,
   "metadata": {
    "colab": {
     "base_uri": "https://localhost:8080/"
    },
    "executionInfo": {
     "elapsed": 13,
     "status": "ok",
     "timestamp": 1644400709846,
     "user": {
      "displayName": "Siddhi Jadhav",
      "photoUrl": "https://lh3.googleusercontent.com/a/default-user=s64",
      "userId": "08402691859170607175"
     },
     "user_tz": -330
    },
    "id": "KmJY2oBj4Y84",
    "outputId": "86915f96-1b96-4328-8e55-639dd81d3b63"
   },
   "outputs": [
    {
     "data": {
      "text/plain": [
       "Debt Consolidation      70447\n",
       "Home Improvements        5206\n",
       "other                    4917\n",
       "Other                    2850\n",
       "Business Loan            1328\n",
       "Buy a Car                1196\n",
       "Medical Bills             955\n",
       "Buy House                 559\n",
       "Take a Trip               454\n",
       "major_purchase            344\n",
       "small_business            248\n",
       "moving                    124\n",
       "wedding                    99\n",
       "Educational Expenses       92\n",
       "vacation                   82\n",
       "renewable_energy            9\n",
       "Name: Purpose, dtype: int64"
      ]
     },
     "execution_count": 42,
     "metadata": {},
     "output_type": "execute_result"
    }
   ],
   "source": [
    "\n",
    "\n",
    "###############Loan Purpose ###############\n",
    "\n",
    "data['Purpose'].value_counts()\n",
    "#So other and Other mean the same thing. Lets make it the same\n"
   ]
  },
  {
   "cell_type": "code",
   "execution_count": 43,
   "metadata": {
    "id": "cJbaQeO14aUH"
   },
   "outputs": [],
   "source": [
    "# 'Other' and 'other' are the same category. Need to combine them into 1 catgeory.\n",
    "data['Purpose']=data['Purpose'].str.replace('Other', 'other', regex=True)"
   ]
  },
  {
   "cell_type": "markdown",
   "metadata": {},
   "source": [
    "- EDA: monthly debt"
   ]
  },
  {
   "cell_type": "code",
   "execution_count": 44,
   "metadata": {},
   "outputs": [
    {
     "data": {
      "text/plain": [
       "dtype('O')"
      ]
     },
     "execution_count": 44,
     "metadata": {},
     "output_type": "execute_result"
    }
   ],
   "source": [
    "data['Monthly Debt'].dtype"
   ]
  },
  {
   "cell_type": "code",
   "execution_count": 45,
   "metadata": {
    "colab": {
     "base_uri": "https://localhost:8080/"
    },
    "executionInfo": {
     "elapsed": 11,
     "status": "ok",
     "timestamp": 1644400709846,
     "user": {
      "displayName": "Siddhi Jadhav",
      "photoUrl": "https://lh3.googleusercontent.com/a/default-user=s64",
      "userId": "08402691859170607175"
     },
     "user_tz": -330
    },
    "id": "w212J-Vs4eQ_",
    "outputId": "d20cc0a4-cf61-4688-8444-bd1c5640beb5"
   },
   "outputs": [
    {
     "data": {
      "text/plain": [
       "count     88910\n",
       "unique    76609\n",
       "top           0\n",
       "freq         55\n",
       "Name: Monthly Debt, dtype: object"
      ]
     },
     "execution_count": 45,
     "metadata": {},
     "output_type": "execute_result"
    }
   ],
   "source": [
    "#######Monthly debt ###############\n",
    "\n",
    "\n",
    "data['Monthly Debt'].describe()\n",
    "##So this is not numeric column. Lets explore\n"
   ]
  },
  {
   "cell_type": "code",
   "execution_count": 46,
   "metadata": {
    "colab": {
     "base_uri": "https://localhost:8080/"
    },
    "executionInfo": {
     "elapsed": 9,
     "status": "ok",
     "timestamp": 1644400709847,
     "user": {
      "displayName": "Siddhi Jadhav",
      "photoUrl": "https://lh3.googleusercontent.com/a/default-user=s64",
      "userId": "08402691859170607175"
     },
     "user_tz": -330
    },
    "id": "4Vbj663K4ix1",
    "outputId": "a5fa586a-1bff-4edc-844c-06eebac3eda6"
   },
   "outputs": [
    {
     "data": {
      "text/plain": [
       "0         777.39\n",
       "1         892.09\n",
       "2        1244.02\n",
       "3         990.94\n",
       "4         503.71\n",
       "          ...   \n",
       "88905     567.62\n",
       "88906    2508.63\n",
       "88907      818.2\n",
       "88908     360.17\n",
       "88909     749.13\n",
       "Name: Monthly Debt, Length: 88910, dtype: object"
      ]
     },
     "execution_count": 46,
     "metadata": {},
     "output_type": "execute_result"
    }
   ],
   "source": [
    "data['Monthly Debt'] \n",
    "# But this should be a numeric column. So lets convert it to float\n"
   ]
  },
  {
   "cell_type": "code",
   "execution_count": 47,
   "metadata": {
    "id": "QJE01p0H4kvL"
   },
   "outputs": [],
   "source": [
    "#pd.to_numeric(data['Monthly Debt'] )\n",
    "#As we can see there is a $ symbol present. Lets replace it \n"
   ]
  },
  {
   "cell_type": "code",
   "execution_count": 48,
   "metadata": {
    "colab": {
     "base_uri": "https://localhost:8080/",
     "height": 354
    },
    "executionInfo": {
     "elapsed": 574,
     "status": "ok",
     "timestamp": 1644400710414,
     "user": {
      "displayName": "Siddhi Jadhav",
      "photoUrl": "https://lh3.googleusercontent.com/a/default-user=s64",
      "userId": "08402691859170607175"
     },
     "user_tz": -330
    },
    "id": "eKoFCjtr4sEC",
    "outputId": "a38f2f71-9b93-48b6-92fa-0d35b687f580"
   },
   "outputs": [
    {
     "name": "stderr",
     "output_type": "stream",
     "text": [
      "C:\\ProgramData\\Anaconda3\\lib\\site-packages\\seaborn\\distributions.py:2619: FutureWarning: `distplot` is a deprecated function and will be removed in a future version. Please adapt your code to use either `displot` (a figure-level function with similar flexibility) or `histplot` (an axes-level function for histograms).\n",
      "  warnings.warn(msg, FutureWarning)\n"
     ]
    },
    {
     "data": {
      "text/plain": [
       "<AxesSubplot:xlabel='Monthly Debt', ylabel='Density'>"
      ]
     },
     "execution_count": 48,
     "metadata": {},
     "output_type": "execute_result"
    },
    {
     "data": {
      "image/png": "[encoded data removed]",
      "text/plain": [
       "<Figure size 432x288 with 1 Axes>"
      ]
     },
     "metadata": {
      "needs_background": "light"
     },
     "output_type": "display_data"
    }
   ],
   "source": [
    "data['Monthly Debt']=data['Monthly Debt'].str.replace('$', '', regex=True)\n",
    "\n",
    "data['Monthly Debt']=pd.to_numeric(data['Monthly Debt'] )\n",
    "\n",
    "sns.distplot(data[\"Monthly Debt\"])\n"
   ]
  },
  {
   "cell_type": "code",
   "execution_count": 49,
   "metadata": {
    "colab": {
     "base_uri": "https://localhost:8080/"
    },
    "executionInfo": {
     "elapsed": 39,
     "status": "ok",
     "timestamp": 1644400710415,
     "user": {
      "displayName": "Siddhi Jadhav",
      "photoUrl": "https://lh3.googleusercontent.com/a/default-user=s64",
      "userId": "08402691859170607175"
     },
     "user_tz": -330
    },
    "id": "cMxKo5zX5Mnr",
    "outputId": "042d156d-f0ee-42b7-cd7e-692f1c7198d3"
   },
   "outputs": [
    {
     "data": {
      "text/plain": [
       "count    65536.000000\n",
       "mean       962.406632\n",
       "std        632.799593\n",
       "min          0.000000\n",
       "25%        532.250000\n",
       "50%        843.770000\n",
       "75%       1251.342500\n",
       "max      12055.680000\n",
       "Name: Monthly Debt, dtype: float64"
      ]
     },
     "execution_count": 49,
     "metadata": {},
     "output_type": "execute_result"
    }
   ],
   "source": [
    "#We can see that there are outliers in this data because of the plot\n",
    "#Lets explore\n",
    "\n",
    "data['Monthly Debt'].describe()\n",
    "#The max value is too high here\n"
   ]
  },
  {
   "cell_type": "code",
   "execution_count": 50,
   "metadata": {
    "colab": {
     "base_uri": "https://localhost:8080/"
    },
    "executionInfo": {
     "elapsed": 33,
     "status": "ok",
     "timestamp": 1644400710417,
     "user": {
      "displayName": "Siddhi Jadhav",
      "photoUrl": "https://lh3.googleusercontent.com/a/default-user=s64",
      "userId": "08402691859170607175"
     },
     "user_tz": -330
    },
    "id": "H2o1-coN5QAM",
    "outputId": "b035ef23-fa04-460b-8ba0-88588d14da5e"
   },
   "outputs": [
    {
     "data": {
      "text/plain": [
       "0.200     464.21000\n",
       "0.750    1251.34250\n",
       "0.900    1740.35000\n",
       "0.950    2112.21000\n",
       "0.990    3084.08600\n",
       "0.999    4927.21625\n",
       "Name: Monthly Debt, dtype: float64"
      ]
     },
     "execution_count": 50,
     "metadata": {},
     "output_type": "execute_result"
    }
   ],
   "source": [
    "data['Monthly Debt'].quantile([.2,0.75,0.90,.95,0.99,.999])\n"
   ]
  },
  {
   "cell_type": "code",
   "execution_count": 51,
   "metadata": {
    "colab": {
     "base_uri": "https://localhost:8080/"
    },
    "executionInfo": {
     "elapsed": 29,
     "status": "ok",
     "timestamp": 1644400710418,
     "user": {
      "displayName": "Siddhi Jadhav",
      "photoUrl": "https://lh3.googleusercontent.com/a/default-user=s64",
      "userId": "08402691859170607175"
     },
     "user_tz": -330
    },
    "id": "kuo8L4XO5TFE",
    "outputId": "3d2710b0-b739-45c0-c60d-15a78c8701f7"
   },
   "outputs": [
    {
     "data": {
      "text/plain": [
       "0.9995    5513.352425\n",
       "0.9999    7719.187600\n",
       "Name: Monthly Debt, dtype: float64"
      ]
     },
     "execution_count": 51,
     "metadata": {},
     "output_type": "execute_result"
    }
   ],
   "source": [
    "#Problem is with 99th percentile. lets dig deeper\n",
    "\n",
    "data['Monthly Debt'].quantile([0.9995,.9999])\n",
    "#So problem again is wit 99th percentile\n"
   ]
  },
  {
   "cell_type": "code",
   "execution_count": 52,
   "metadata": {
    "colab": {
     "base_uri": "https://localhost:8080/"
    },
    "executionInfo": {
     "elapsed": 24,
     "status": "ok",
     "timestamp": 1644400710418,
     "user": {
      "displayName": "Siddhi Jadhav",
      "photoUrl": "https://lh3.googleusercontent.com/a/default-user=s64",
      "userId": "08402691859170607175"
     },
     "user_tz": -330
    },
    "id": "5jmNMF-q5U4V",
    "outputId": "652c3a3c-72c1-42b7-8fab-4aaa6ed3bf21"
   },
   "outputs": [
    {
     "data": {
      "text/plain": [
       "0.99970     5979.063765\n",
       "0.99999    11253.511940\n",
       "Name: Monthly Debt, dtype: float64"
      ]
     },
     "execution_count": 52,
     "metadata": {},
     "output_type": "execute_result"
    }
   ],
   "source": [
    "data['Monthly Debt'].quantile([0.9997,.99999])\n",
    "#0.99970     5978.574911\n",
    "#0.99999    13262.762330\n"
   ]
  },
  {
   "cell_type": "code",
   "execution_count": 53,
   "metadata": {
    "colab": {
     "base_uri": "https://localhost:8080/"
    },
    "executionInfo": {
     "elapsed": 21,
     "status": "ok",
     "timestamp": 1644400710419,
     "user": {
      "displayName": "Siddhi Jadhav",
      "photoUrl": "https://lh3.googleusercontent.com/a/default-user=s64",
      "userId": "08402691859170607175"
     },
     "user_tz": -330
    },
    "id": "XDVLS5Iv5XCJ",
    "outputId": "f15c7f34-f7a9-4935-e5a4-21e394773152"
   },
   "outputs": [
    {
     "data": {
      "text/plain": [
       "0.999     4927.21625\n",
       "1.000    12055.68000\n",
       "Name: Monthly Debt, dtype: float64"
      ]
     },
     "execution_count": 53,
     "metadata": {},
     "output_type": "execute_result"
    }
   ],
   "source": [
    "data['Monthly Debt'].quantile([0.999,1])\n"
   ]
  },
  {
   "cell_type": "code",
   "execution_count": 54,
   "metadata": {
    "colab": {
     "base_uri": "https://localhost:8080/",
     "height": 354
    },
    "executionInfo": {
     "elapsed": 681,
     "status": "ok",
     "timestamp": 1644400711083,
     "user": {
      "displayName": "Siddhi Jadhav",
      "photoUrl": "https://lh3.googleusercontent.com/a/default-user=s64",
      "userId": "08402691859170607175"
     },
     "user_tz": -330
    },
    "id": "UUkUQ8A35apF",
    "outputId": "63865723-286f-456a-cbde-97a9c8027792",
    "scrolled": true
   },
   "outputs": [
    {
     "name": "stderr",
     "output_type": "stream",
     "text": [
      "C:\\ProgramData\\Anaconda3\\lib\\site-packages\\seaborn\\distributions.py:2619: FutureWarning: `distplot` is a deprecated function and will be removed in a future version. Please adapt your code to use either `displot` (a figure-level function with similar flexibility) or `histplot` (an axes-level function for histograms).\n",
      "  warnings.warn(msg, FutureWarning)\n"
     ]
    },
    {
     "data": {
      "text/plain": [
       "<AxesSubplot:xlabel='Monthly Debt', ylabel='Density'>"
      ]
     },
     "execution_count": 54,
     "metadata": {},
     "output_type": "execute_result"
    },
    {
     "data": {
      "image/png": "[encoded data removed]",
      "text/plain": [
       "<Figure size 432x288 with 1 Axes>"
      ]
     },
     "metadata": {
      "needs_background": "light"
     },
     "output_type": "display_data"
    }
   ],
   "source": [
    "#Need to replace this\n",
    "data.loc[data['Monthly Debt'] > 4926, 'Monthly Debt'] = 4926\n",
    "\n",
    "sns.distplot(data[\"Monthly Debt\"])\n",
    "#Now we get the right distribution\n"
   ]
  },
  {
   "cell_type": "markdown",
   "metadata": {},
   "source": [
    "- EDA: Years of credit history"
   ]
  },
  {
   "cell_type": "code",
   "execution_count": 55,
   "metadata": {
    "colab": {
     "base_uri": "https://localhost:8080/",
     "height": 354
    },
    "executionInfo": {
     "elapsed": 713,
     "status": "ok",
     "timestamp": 1644400711793,
     "user": {
      "displayName": "Siddhi Jadhav",
      "photoUrl": "https://lh3.googleusercontent.com/a/default-user=s64",
      "userId": "08402691859170607175"
     },
     "user_tz": -330
    },
    "id": "F-sPV37_5dfh",
    "outputId": "3a29b26a-d3b3-4f2d-b03b-3825eb3e0746",
    "scrolled": true
   },
   "outputs": [
    {
     "name": "stdout",
     "output_type": "stream",
     "text": [
      "count    88910.000000\n",
      "mean        18.315313\n",
      "std          7.049175\n",
      "min          3.600000\n",
      "25%         13.500000\n",
      "50%         17.000000\n",
      "75%         21.800000\n",
      "max         70.500000\n",
      "Name: Years of Credit History, dtype: float64\n",
      "16.0    1234\n",
      "15.0    1159\n",
      "17.0    1091\n",
      "16.5    1045\n",
      "14.0    1031\n",
      "        ... \n",
      "51.6       1\n",
      "59.5       1\n",
      "62.5       1\n",
      "65.0       1\n",
      "51.3       1\n",
      "Name: Years of Credit History, Length: 508, dtype: int64\n"
     ]
    },
    {
     "name": "stderr",
     "output_type": "stream",
     "text": [
      "C:\\ProgramData\\Anaconda3\\lib\\site-packages\\seaborn\\distributions.py:2619: FutureWarning: `distplot` is a deprecated function and will be removed in a future version. Please adapt your code to use either `displot` (a figure-level function with similar flexibility) or `histplot` (an axes-level function for histograms).\n",
      "  warnings.warn(msg, FutureWarning)\n"
     ]
    },
    {
     "data": {
      "text/plain": [
       "<AxesSubplot:xlabel='Years of Credit History', ylabel='Density'>"
      ]
     },
     "execution_count": 55,
     "metadata": {},
     "output_type": "execute_result"
    },
    {
     "data": {
      "image/png": "[encoded data removed]",
      "text/plain": [
       "<Figure size 432x288 with 1 Axes>"
      ]
     },
     "metadata": {
      "needs_background": "light"
     },
     "output_type": "display_data"
    }
   ],
   "source": [
    "####################Years of credit history #################\n",
    "print(data['Years of Credit History'].describe())\n",
    "print(data['Years of Credit History'].value_counts())\n",
    "\n",
    "\n",
    "sns.distplot(data[\"Years of Credit History\"])\n",
    "#Over all looks pretty clean! no need of doing anything\n"
   ]
  },
  {
   "cell_type": "markdown",
   "metadata": {},
   "source": [
    "- EDA: Months since last delinquent"
   ]
  },
  {
   "cell_type": "code",
   "execution_count": 56,
   "metadata": {
    "colab": {
     "base_uri": "https://localhost:8080/"
    },
    "executionInfo": {
     "elapsed": 19,
     "status": "ok",
     "timestamp": 1644400711793,
     "user": {
      "displayName": "Siddhi Jadhav",
      "photoUrl": "https://lh3.googleusercontent.com/a/default-user=s64",
      "userId": "08402691859170607175"
     },
     "user_tz": -330
    },
    "id": "QXCgrTLE5hnY",
    "outputId": "10f134eb-8a70-4b12-bf59-cfd822d2b139"
   },
   "outputs": [
    {
     "data": {
      "text/plain": [
       "count    40404.000000\n",
       "mean        35.080289\n",
       "std         22.008583\n",
       "min          0.000000\n",
       "25%         16.000000\n",
       "50%         32.000000\n",
       "75%         51.000000\n",
       "max        176.000000\n",
       "Name: Months since last delinquent, dtype: float64"
      ]
     },
     "execution_count": 56,
     "metadata": {},
     "output_type": "execute_result"
    }
   ],
   "source": [
    "#############Months since last delinquent####################\n",
    "\n",
    "data['Months since last delinquent'].describe()\n"
   ]
  },
  {
   "cell_type": "code",
   "execution_count": 57,
   "metadata": {
    "colab": {
     "base_uri": "https://localhost:8080/"
    },
    "executionInfo": {
     "elapsed": 15,
     "status": "ok",
     "timestamp": 1644400711793,
     "user": {
      "displayName": "Siddhi Jadhav",
      "photoUrl": "https://lh3.googleusercontent.com/a/default-user=s64",
      "userId": "08402691859170607175"
     },
     "user_tz": -330
    },
    "id": "P6SkuptO5jgy",
    "outputId": "7ee9737a-8f08-4ba8-bc6b-18a2657be2d7"
   },
   "outputs": [
    {
     "name": "stdout",
     "output_type": "stream",
     "text": [
      "88910\n"
     ]
    },
    {
     "data": {
      "text/plain": [
       "48506"
      ]
     },
     "execution_count": 57,
     "metadata": {},
     "output_type": "execute_result"
    }
   ],
   "source": [
    "#Lets check if there are any NA's\n",
    "print(len(data))\n",
    "data['Months since last delinquent'].isna().sum()\n",
    "#We have nearly 48506 NA;s. We will try to handle them at last \n"
   ]
  },
  {
   "cell_type": "markdown",
   "metadata": {},
   "source": [
    "- EDA: Number of Open Accounts"
   ]
  },
  {
   "cell_type": "code",
   "execution_count": 58,
   "metadata": {
    "colab": {
     "base_uri": "https://localhost:8080/"
    },
    "executionInfo": {
     "elapsed": 12,
     "status": "ok",
     "timestamp": 1644400711794,
     "user": {
      "displayName": "Siddhi Jadhav",
      "photoUrl": "https://lh3.googleusercontent.com/a/default-user=s64",
      "userId": "08402691859170607175"
     },
     "user_tz": -330
    },
    "id": "UrL8e8gM5vv9",
    "outputId": "e4579cda-9f0e-41cf-a61b-7d9bacc70fce"
   },
   "outputs": [
    {
     "data": {
      "text/plain": [
       "count    88910.000000\n",
       "mean        11.110348\n",
       "std          4.978461\n",
       "min          0.000000\n",
       "25%          8.000000\n",
       "50%         10.000000\n",
       "75%         14.000000\n",
       "max         76.000000\n",
       "Name: Number of Open Accounts, dtype: float64"
      ]
     },
     "execution_count": 58,
     "metadata": {},
     "output_type": "execute_result"
    }
   ],
   "source": [
    "##############Number of open accounts ##############\n",
    "\n",
    "data['Number of Open Accounts'].describe()\n",
    "#The max number seems odd. Lets investigate\n"
   ]
  },
  {
   "cell_type": "code",
   "execution_count": 59,
   "metadata": {
    "colab": {
     "base_uri": "https://localhost:8080/",
     "height": 354
    },
    "executionInfo": {
     "elapsed": 1167,
     "status": "ok",
     "timestamp": 1644400712955,
     "user": {
      "displayName": "Siddhi Jadhav",
      "photoUrl": "https://lh3.googleusercontent.com/a/default-user=s64",
      "userId": "08402691859170607175"
     },
     "user_tz": -330
    },
    "id": "gkeztB-r5y34",
    "outputId": "284ff36f-7dec-4a49-c1a0-fbdbd3e1f135"
   },
   "outputs": [
    {
     "name": "stderr",
     "output_type": "stream",
     "text": [
      "C:\\ProgramData\\Anaconda3\\lib\\site-packages\\seaborn\\distributions.py:2619: FutureWarning: `distplot` is a deprecated function and will be removed in a future version. Please adapt your code to use either `displot` (a figure-level function with similar flexibility) or `histplot` (an axes-level function for histograms).\n",
      "  warnings.warn(msg, FutureWarning)\n"
     ]
    },
    {
     "data": {
      "text/plain": [
       "<AxesSubplot:xlabel='Number of Open Accounts', ylabel='Density'>"
      ]
     },
     "execution_count": 59,
     "metadata": {},
     "output_type": "execute_result"
    },
    {
     "data": {
      "image/png": "[encoded data removed]",
      "text/plain": [
       "<Figure size 432x288 with 1 Axes>"
      ]
     },
     "metadata": {
      "needs_background": "light"
     },
     "output_type": "display_data"
    }
   ],
   "source": [
    "sns.distplot(data['Number of Open Accounts'])\n",
    "#Yes there are outliers in this columns. Let dig deeper\n"
   ]
  },
  {
   "cell_type": "code",
   "execution_count": 60,
   "metadata": {
    "colab": {
     "base_uri": "https://localhost:8080/"
    },
    "executionInfo": {
     "elapsed": 8,
     "status": "ok",
     "timestamp": 1644400712956,
     "user": {
      "displayName": "Siddhi Jadhav",
      "photoUrl": "https://lh3.googleusercontent.com/a/default-user=s64",
      "userId": "08402691859170607175"
     },
     "user_tz": -330
    },
    "id": "4zc6CnDF51X5",
    "outputId": "158bb4ba-88c5-4e86-d47a-abcc673f3c6e"
   },
   "outputs": [
    {
     "data": {
      "text/plain": [
       "0.750    14.0\n",
       "0.999    36.0\n",
       "1.000    76.0\n",
       "Name: Number of Open Accounts, dtype: float64"
      ]
     },
     "execution_count": 60,
     "metadata": {},
     "output_type": "execute_result"
    }
   ],
   "source": [
    "data['Number of Open Accounts'].quantile([0.75,0.999,1])\n",
    "#Ok so replacing anything greater than 99th percentile with 99th percentile values\n"
   ]
  },
  {
   "cell_type": "code",
   "execution_count": 61,
   "metadata": {
    "colab": {
     "base_uri": "https://localhost:8080/",
     "height": 354
    },
    "executionInfo": {
     "elapsed": 787,
     "status": "ok",
     "timestamp": 1644400713738,
     "user": {
      "displayName": "Siddhi Jadhav",
      "photoUrl": "https://lh3.googleusercontent.com/a/default-user=s64",
      "userId": "08402691859170607175"
     },
     "user_tz": -330
    },
    "id": "s9TeoHd253x-",
    "outputId": "e61be011-f84c-4e1b-92c9-104c2d8239da",
    "scrolled": true
   },
   "outputs": [
    {
     "name": "stderr",
     "output_type": "stream",
     "text": [
      "C:\\ProgramData\\Anaconda3\\lib\\site-packages\\seaborn\\distributions.py:2619: FutureWarning: `distplot` is a deprecated function and will be removed in a future version. Please adapt your code to use either `displot` (a figure-level function with similar flexibility) or `histplot` (an axes-level function for histograms).\n",
      "  warnings.warn(msg, FutureWarning)\n"
     ]
    },
    {
     "data": {
      "text/plain": [
       "<AxesSubplot:xlabel='Number of Open Accounts', ylabel='Density'>"
      ]
     },
     "execution_count": 61,
     "metadata": {},
     "output_type": "execute_result"
    },
    {
     "data": {
      "image/png": "[encoded data removed]",
      "text/plain": [
       "<Figure size 432x288 with 1 Axes>"
      ]
     },
     "metadata": {
      "needs_background": "light"
     },
     "output_type": "display_data"
    }
   ],
   "source": [
    "data.loc[data['Number of Open Accounts'] > 36, 'Number of Open Accounts'] = 36\n",
    "\n",
    "\n",
    "sns.distplot(data['Number of Open Accounts'])\n",
    "#Looks good now\n"
   ]
  },
  {
   "cell_type": "markdown",
   "metadata": {},
   "source": [
    "- EDA: Number of credit problems"
   ]
  },
  {
   "cell_type": "code",
   "execution_count": 62,
   "metadata": {
    "colab": {
     "base_uri": "https://localhost:8080/",
     "height": 354
    },
    "executionInfo": {
     "elapsed": 897,
     "status": "ok",
     "timestamp": 1644400714631,
     "user": {
      "displayName": "Siddhi Jadhav",
      "photoUrl": "https://lh3.googleusercontent.com/a/default-user=s64",
      "userId": "08402691859170607175"
     },
     "user_tz": -330
    },
    "id": "bM0vr3CN6Cv0",
    "outputId": "c85c679a-761c-4335-e1bc-a4aeba280fc9"
   },
   "outputs": [
    {
     "name": "stdout",
     "output_type": "stream",
     "text": [
      "count    88910.000000\n",
      "mean         0.160477\n",
      "std          0.473746\n",
      "min          0.000000\n",
      "25%          0.000000\n",
      "50%          0.000000\n",
      "75%          0.000000\n",
      "max         15.000000\n",
      "Name: Number of Credit Problems, dtype: float64\n"
     ]
    },
    {
     "name": "stderr",
     "output_type": "stream",
     "text": [
      "C:\\ProgramData\\Anaconda3\\lib\\site-packages\\seaborn\\distributions.py:2619: FutureWarning: `distplot` is a deprecated function and will be removed in a future version. Please adapt your code to use either `displot` (a figure-level function with similar flexibility) or `histplot` (an axes-level function for histograms).\n",
      "  warnings.warn(msg, FutureWarning)\n"
     ]
    },
    {
     "data": {
      "text/plain": [
       "<AxesSubplot:xlabel='Number of Credit Problems', ylabel='Density'>"
      ]
     },
     "execution_count": 62,
     "metadata": {},
     "output_type": "execute_result"
    },
    {
     "data": {
      "image/png": "[encoded data removed]",
      "text/plain": [
       "<Figure size 432x288 with 1 Axes>"
      ]
     },
     "metadata": {
      "needs_background": "light"
     },
     "output_type": "display_data"
    }
   ],
   "source": [
    "\n",
    "#######################Number of Credit problems##############\n",
    "\n",
    "print(data['Number of Credit Problems'].describe()) \n",
    "#Max looks a bit higher. Lets see\n",
    "\n",
    "sns.distplot(data['Number of Credit Problems'])\n"
   ]
  },
  {
   "cell_type": "code",
   "execution_count": 63,
   "metadata": {
    "colab": {
     "base_uri": "https://localhost:8080/"
    },
    "executionInfo": {
     "elapsed": 6,
     "status": "ok",
     "timestamp": 1644400714632,
     "user": {
      "displayName": "Siddhi Jadhav",
      "photoUrl": "https://lh3.googleusercontent.com/a/default-user=s64",
      "userId": "08402691859170607175"
     },
     "user_tz": -330
    },
    "id": "woLE1MtM6EsG",
    "outputId": "490809fb-a368-400f-c4bf-329f08969a1e"
   },
   "outputs": [
    {
     "data": {
      "text/plain": [
       "0     77057\n",
       "1     10271\n",
       "2      1092\n",
       "3       311\n",
       "4       101\n",
       "5        46\n",
       "6        14\n",
       "7         6\n",
       "9         4\n",
       "10        3\n",
       "8         2\n",
       "12        1\n",
       "15        1\n",
       "11        1\n",
       "Name: Number of Credit Problems, dtype: int64"
      ]
     },
     "execution_count": 63,
     "metadata": {},
     "output_type": "execute_result"
    }
   ],
   "source": [
    "#Okay lets look at value _counts\n",
    "\n",
    "\n",
    "data['Number of Credit Problems'].value_counts()\n",
    "\n",
    "#Okay looks good\n"
   ]
  },
  {
   "cell_type": "markdown",
   "metadata": {},
   "source": [
    "- EDA: Current Credit Balance"
   ]
  },
  {
   "cell_type": "code",
   "execution_count": 64,
   "metadata": {
    "colab": {
     "base_uri": "https://localhost:8080/",
     "height": 365
    },
    "executionInfo": {
     "elapsed": 940,
     "status": "ok",
     "timestamp": 1644400715568,
     "user": {
      "displayName": "Siddhi Jadhav",
      "photoUrl": "https://lh3.googleusercontent.com/a/default-user=s64",
      "userId": "08402691859170607175"
     },
     "user_tz": -330
    },
    "id": "aug_2Xh76Grm",
    "outputId": "31ac476c-7f16-4466-b263-688899a5a81a"
   },
   "outputs": [
    {
     "name": "stdout",
     "output_type": "stream",
     "text": [
      "count    8.891000e+04\n",
      "mean     1.543593e+04\n",
      "std      1.965873e+04\n",
      "min      0.000000e+00\n",
      "25%      5.949000e+03\n",
      "50%      1.103900e+04\n",
      "75%      1.930100e+04\n",
      "max      1.730472e+06\n",
      "Name: Current Credit Balance, dtype: float64\n"
     ]
    },
    {
     "name": "stderr",
     "output_type": "stream",
     "text": [
      "C:\\ProgramData\\Anaconda3\\lib\\site-packages\\seaborn\\distributions.py:2619: FutureWarning: `distplot` is a deprecated function and will be removed in a future version. Please adapt your code to use either `displot` (a figure-level function with similar flexibility) or `histplot` (an axes-level function for histograms).\n",
      "  warnings.warn(msg, FutureWarning)\n"
     ]
    },
    {
     "data": {
      "text/plain": [
       "<AxesSubplot:xlabel='Current Credit Balance', ylabel='Density'>"
      ]
     },
     "execution_count": 64,
     "metadata": {},
     "output_type": "execute_result"
    },
    {
     "data": {
      "image/png": "[encoded data removed]",
      "text/plain": [
       "<Figure size 432x288 with 1 Axes>"
      ]
     },
     "metadata": {
      "needs_background": "light"
     },
     "output_type": "display_data"
    }
   ],
   "source": [
    "##################Current Credit Balance###########\n",
    "\n",
    "print(data['Current Credit Balance'].describe())\n",
    "\n",
    "sns.distplot(data['Current Credit Balance'])\n",
    "#It seems there are outliers in this data. Lets investigate\n"
   ]
  },
  {
   "cell_type": "code",
   "execution_count": 65,
   "metadata": {
    "colab": {
     "base_uri": "https://localhost:8080/"
    },
    "executionInfo": {
     "elapsed": 11,
     "status": "ok",
     "timestamp": 1644400715569,
     "user": {
      "displayName": "Siddhi Jadhav",
      "photoUrl": "https://lh3.googleusercontent.com/a/default-user=s64",
      "userId": "08402691859170607175"
     },
     "user_tz": -330
    },
    "id": "X2CTOTS86H7S",
    "outputId": "691e2a5d-41d8-4f82-cb6a-8aa1e6492c5e"
   },
   "outputs": [
    {
     "data": {
      "text/plain": [
       "0.750      19301.000\n",
       "0.950      39933.300\n",
       "0.999     227670.033\n",
       "1.000    1730472.000\n",
       "Name: Current Credit Balance, dtype: float64"
      ]
     },
     "execution_count": 65,
     "metadata": {},
     "output_type": "execute_result"
    }
   ],
   "source": [
    "data['Current Credit Balance'].quantile([0.75,0.95,0.999,1])\n"
   ]
  },
  {
   "cell_type": "code",
   "execution_count": 66,
   "metadata": {
    "colab": {
     "base_uri": "https://localhost:8080/"
    },
    "executionInfo": {
     "elapsed": 8,
     "status": "ok",
     "timestamp": 1644400715569,
     "user": {
      "displayName": "Siddhi Jadhav",
      "photoUrl": "https://lh3.googleusercontent.com/a/default-user=s64",
      "userId": "08402691859170607175"
     },
     "user_tz": -330
    },
    "id": "PIZ14d9I6Kjw",
    "outputId": "579ef76b-9702-48b0-8f9f-dcc07fe5ef27"
   },
   "outputs": [
    {
     "data": {
      "text/plain": [
       "0.95      39933.30\n",
       "0.96      43501.20\n",
       "0.97      48507.73\n",
       "0.98      57938.12\n",
       "0.99      81007.19\n",
       "1.00    1730472.00\n",
       "Name: Current Credit Balance, dtype: float64"
      ]
     },
     "execution_count": 66,
     "metadata": {},
     "output_type": "execute_result"
    }
   ],
   "source": [
    "#lets dig deeper\n",
    "\n",
    "data['Current Credit Balance'].quantile([0.95,0.96,0.97,0.98,0.99,1])\n"
   ]
  },
  {
   "cell_type": "code",
   "execution_count": 67,
   "metadata": {
    "colab": {
     "base_uri": "https://localhost:8080/"
    },
    "executionInfo": {
     "elapsed": 6,
     "status": "ok",
     "timestamp": 1644400715569,
     "user": {
      "displayName": "Siddhi Jadhav",
      "photoUrl": "https://lh3.googleusercontent.com/a/default-user=s64",
      "userId": "08402691859170607175"
     },
     "user_tz": -330
    },
    "id": "3V665O4R6Mod",
    "outputId": "5904c564-6820-4510-d825-d7a2a09978d9"
   },
   "outputs": [
    {
     "data": {
      "text/plain": [
       "0.55      12295.00\n",
       "0.76      19805.84\n",
       "0.87      27525.66\n",
       "0.98      57938.12\n",
       "0.99      81007.19\n",
       "1.00    1730472.00\n",
       "Name: Current Credit Balance, dtype: float64"
      ]
     },
     "execution_count": 67,
     "metadata": {},
     "output_type": "execute_result"
    }
   ],
   "source": [
    "#So lets replace it with 95th percentile\n",
    "\n",
    "data['Current Credit Balance'].quantile([0.55,0.76,0.87,0.98,0.99,1])\n"
   ]
  },
  {
   "cell_type": "code",
   "execution_count": 68,
   "metadata": {
    "colab": {
     "base_uri": "https://localhost:8080/",
     "height": 354
    },
    "executionInfo": {
     "elapsed": 725,
     "status": "ok",
     "timestamp": 1644400716290,
     "user": {
      "displayName": "Siddhi Jadhav",
      "photoUrl": "https://lh3.googleusercontent.com/a/default-user=s64",
      "userId": "08402691859170607175"
     },
     "user_tz": -330
    },
    "id": "heG831W96Ovi",
    "outputId": "f9b699e0-4cea-4411-f787-bf0458ba1dd3"
   },
   "outputs": [
    {
     "name": "stderr",
     "output_type": "stream",
     "text": [
      "C:\\ProgramData\\Anaconda3\\lib\\site-packages\\seaborn\\distributions.py:2619: FutureWarning: `distplot` is a deprecated function and will be removed in a future version. Please adapt your code to use either `displot` (a figure-level function with similar flexibility) or `histplot` (an axes-level function for histograms).\n",
      "  warnings.warn(msg, FutureWarning)\n"
     ]
    },
    {
     "data": {
      "text/plain": [
       "<AxesSubplot:xlabel='Current Credit Balance', ylabel='Density'>"
      ]
     },
     "execution_count": 68,
     "metadata": {},
     "output_type": "execute_result"
    },
    {
     "data": {
      "image/png": "[encoded data removed]",
      "text/plain": [
       "<Figure size 432x288 with 1 Axes>"
      ]
     },
     "metadata": {
      "needs_background": "light"
     },
     "output_type": "display_data"
    }
   ],
   "source": [
    "data.loc[data['Current Credit Balance'] > 81007, 'Current Credit Balance'] = 81007\n",
    "sns.distplot(data['Current Credit Balance'])\n"
   ]
  },
  {
   "cell_type": "code",
   "execution_count": 69,
   "metadata": {},
   "outputs": [
    {
     "name": "stderr",
     "output_type": "stream",
     "text": [
      "C:\\ProgramData\\Anaconda3\\lib\\site-packages\\seaborn\\distributions.py:2619: FutureWarning: `distplot` is a deprecated function and will be removed in a future version. Please adapt your code to use either `displot` (a figure-level function with similar flexibility) or `histplot` (an axes-level function for histograms).\n",
      "  warnings.warn(msg, FutureWarning)\n"
     ]
    },
    {
     "data": {
      "text/plain": [
       "<AxesSubplot:xlabel='Current Credit Balance', ylabel='Density'>"
      ]
     },
     "execution_count": 69,
     "metadata": {},
     "output_type": "execute_result"
    },
    {
     "data": {
      "image/png": "[encoded data removed]",
      "text/plain": [
       "<Figure size 432x288 with 1 Axes>"
      ]
     },
     "metadata": {
      "needs_background": "light"
     },
     "output_type": "display_data"
    }
   ],
   "source": [
    "#The plot doesnt look good, because it is skewed to the right. We need to transform it by doing a log-transform, or taking a square root.\n",
    "sns.distplot(data['Current Credit Balance']**(1/2))\n",
    "# After taking square root, the distribution looks close to normal."
   ]
  },
  {
   "cell_type": "code",
   "execution_count": 70,
   "metadata": {
    "id": "cxDA0Kz46Q1s"
   },
   "outputs": [],
   "source": [
    "data['Current Credit Balance']=data['Current Credit Balance']**(1/2)\n"
   ]
  },
  {
   "cell_type": "markdown",
   "metadata": {},
   "source": [
    "- EDA: Maximum Open Credit"
   ]
  },
  {
   "cell_type": "code",
   "execution_count": 71,
   "metadata": {
    "colab": {
     "base_uri": "https://localhost:8080/"
    },
    "executionInfo": {
     "elapsed": 10,
     "status": "ok",
     "timestamp": 1644400716291,
     "user": {
      "displayName": "Siddhi Jadhav",
      "photoUrl": "https://lh3.googleusercontent.com/a/default-user=s64",
      "userId": "08402691859170607175"
     },
     "user_tz": -330
    },
    "id": "LmRwOBcQ6UgS",
    "outputId": "12cd22bd-2ab4-429d-f635-ba4d2ddb51c7"
   },
   "outputs": [
    {
     "data": {
      "text/plain": [
       "count     88910\n",
       "unique    58216\n",
       "top           0\n",
       "freq        450\n",
       "Name: Maximum Open Credit, dtype: object"
      ]
     },
     "execution_count": 71,
     "metadata": {},
     "output_type": "execute_result"
    }
   ],
   "source": [
    "#######################Max open credit################\n",
    "\n",
    "data['Maximum Open Credit'].describe()\n"
   ]
  },
  {
   "cell_type": "code",
   "execution_count": 72,
   "metadata": {},
   "outputs": [
    {
     "data": {
      "text/plain": [
       "dtype('O')"
      ]
     },
     "execution_count": 72,
     "metadata": {},
     "output_type": "execute_result"
    }
   ],
   "source": [
    "data['Maximum Open Credit'].dtype"
   ]
  },
  {
   "cell_type": "code",
   "execution_count": 73,
   "metadata": {
    "colab": {
     "base_uri": "https://localhost:8080/"
    },
    "executionInfo": {
     "elapsed": 8,
     "status": "ok",
     "timestamp": 1644400716292,
     "user": {
      "displayName": "Siddhi Jadhav",
      "photoUrl": "https://lh3.googleusercontent.com/a/default-user=s64",
      "userId": "08402691859170607175"
     },
     "user_tz": -330
    },
    "id": "hN6dTA_A6WgQ",
    "outputId": "92037d56-a111-4634-e97e-b40b546686e0"
   },
   "outputs": [
    {
     "data": {
      "text/plain": [
       "0         450\n",
       "0         160\n",
       "15847       9\n",
       "17464       9\n",
       "6827        8\n",
       "         ... \n",
       "28296       1\n",
       "10199       1\n",
       "132602      1\n",
       "10395       1\n",
       "21124       1\n",
       "Name: Maximum Open Credit, Length: 58216, dtype: int64"
      ]
     },
     "execution_count": 73,
     "metadata": {},
     "output_type": "execute_result"
    }
   ],
   "source": [
    "data['Maximum Open Credit'].value_counts()\n"
   ]
  },
  {
   "cell_type": "code",
   "execution_count": 74,
   "metadata": {
    "id": "qIuv-oKR6Yu7"
   },
   "outputs": [],
   "source": [
    "#sns.distplot(data['Maximum Open Credit'])\n",
    "#So there are some str characters present in the data. Lets find them\n",
    "#could not convert string to float: '#VALUE!'\n"
   ]
  },
  {
   "cell_type": "code",
   "execution_count": 75,
   "metadata": {
    "id": "mGP6RWlq6Z8m"
   },
   "outputs": [],
   "source": [
    "#pd.to_numeric(data['Maximum Open Credit'])\n",
    "#Unable to parse string \"#VALUE!\" at position 4930"
   ]
  },
  {
   "cell_type": "code",
   "execution_count": 76,
   "metadata": {
    "id": "7JKwAXW16dAB"
   },
   "outputs": [],
   "source": [
    "#Lets replace #value with Nan\n",
    "data['Maximum Open Credit']=data['Maximum Open Credit'].replace('#VALUE!', np.nan, regex=True)\n"
   ]
  },
  {
   "cell_type": "code",
   "execution_count": 77,
   "metadata": {
    "id": "giIS_wU96erR"
   },
   "outputs": [],
   "source": [
    "data['Maximum Open Credit']=pd.to_numeric(data['Maximum Open Credit'])\n"
   ]
  },
  {
   "cell_type": "code",
   "execution_count": 78,
   "metadata": {
    "colab": {
     "base_uri": "https://localhost:8080/"
    },
    "executionInfo": {
     "elapsed": 29,
     "status": "ok",
     "timestamp": 1644400716778,
     "user": {
      "displayName": "Siddhi Jadhav",
      "photoUrl": "https://lh3.googleusercontent.com/a/default-user=s64",
      "userId": "08402691859170607175"
     },
     "user_tz": -330
    },
    "id": "BgrU60uB6qtn",
    "outputId": "a43c0f20-7198-458d-d9e1-a088f5db8a84"
   },
   "outputs": [
    {
     "data": {
      "text/plain": [
       "2"
      ]
     },
     "execution_count": 78,
     "metadata": {},
     "output_type": "execute_result"
    }
   ],
   "source": [
    "data['Maximum Open Credit'].isnull().sum()\n",
    "#Now we have only 2 Nan;s in the data. Lets replace them with mean  \n"
   ]
  },
  {
   "cell_type": "code",
   "execution_count": 79,
   "metadata": {},
   "outputs": [
    {
     "data": {
      "text/plain": [
       "35965.310174562466"
      ]
     },
     "execution_count": 79,
     "metadata": {},
     "output_type": "execute_result"
    }
   ],
   "source": [
    "data['Maximum Open Credit'].mean()"
   ]
  },
  {
   "cell_type": "code",
   "execution_count": 80,
   "metadata": {
    "id": "80SyQVKg6v9u"
   },
   "outputs": [],
   "source": [
    "data['Maximum Open Credit']=data['Maximum Open Credit'].fillna(35965)\n"
   ]
  },
  {
   "cell_type": "code",
   "execution_count": 81,
   "metadata": {
    "colab": {
     "base_uri": "https://localhost:8080/"
    },
    "executionInfo": {
     "elapsed": 23,
     "status": "ok",
     "timestamp": 1644400716778,
     "user": {
      "displayName": "Siddhi Jadhav",
      "photoUrl": "https://lh3.googleusercontent.com/a/default-user=s64",
      "userId": "08402691859170607175"
     },
     "user_tz": -330
    },
    "id": "tsphMtOl6xlA",
    "outputId": "66dba9f6-63c9-4ae7-b52b-660d9c20ca53"
   },
   "outputs": [
    {
     "data": {
      "text/plain": [
       "0.55       24037.95\n",
       "0.76       37259.84\n",
       "0.87       50736.66\n",
       "0.98      114682.56\n",
       "0.99      171423.91\n",
       "1.00    69988086.00\n",
       "Name: Maximum Open Credit, dtype: float64"
      ]
     },
     "execution_count": 81,
     "metadata": {},
     "output_type": "execute_result"
    }
   ],
   "source": [
    "data['Maximum Open Credit'].quantile([0.55,0.76,0.87,0.98,0.99,1])\n",
    "\n"
   ]
  },
  {
   "cell_type": "code",
   "execution_count": 82,
   "metadata": {
    "id": "Y-bwxysQ6z5e"
   },
   "outputs": [],
   "source": [
    "#Lets replace the outliers\n",
    "data.loc[data['Maximum Open Credit'] > 171423, 'Maximum Open Credit'] = 171423\n"
   ]
  },
  {
   "cell_type": "code",
   "execution_count": 83,
   "metadata": {
    "scrolled": true
   },
   "outputs": [
    {
     "name": "stderr",
     "output_type": "stream",
     "text": [
      "C:\\ProgramData\\Anaconda3\\lib\\site-packages\\seaborn\\distributions.py:2619: FutureWarning: `distplot` is a deprecated function and will be removed in a future version. Please adapt your code to use either `displot` (a figure-level function with similar flexibility) or `histplot` (an axes-level function for histograms).\n",
      "  warnings.warn(msg, FutureWarning)\n"
     ]
    },
    {
     "data": {
      "image/png": "[encoded data removed]",
      "text/plain": [
       "<Figure size 432x288 with 1 Axes>"
      ]
     },
     "metadata": {
      "needs_background": "light"
     },
     "output_type": "display_data"
    }
   ],
   "source": [
    "sns.distplot(data['Maximum Open Credit']);"
   ]
  },
  {
   "cell_type": "markdown",
   "metadata": {},
   "source": [
    "- EDA: Bankruptcies"
   ]
  },
  {
   "cell_type": "code",
   "execution_count": 84,
   "metadata": {
    "colab": {
     "base_uri": "https://localhost:8080/"
    },
    "executionInfo": {
     "elapsed": 19,
     "status": "ok",
     "timestamp": 1644400716779,
     "user": {
      "displayName": "Siddhi Jadhav",
      "photoUrl": "https://lh3.googleusercontent.com/a/default-user=s64",
      "userId": "08402691859170607175"
     },
     "user_tz": -330
    },
    "id": "zGLsq9-G62xh",
    "outputId": "ee35197d-2598-4f07-e0ac-a531fa87f920"
   },
   "outputs": [
    {
     "data": {
      "text/plain": [
       "count    88718.000000\n",
       "mean         0.112672\n",
       "std          0.343300\n",
       "min          0.000000\n",
       "25%          0.000000\n",
       "50%          0.000000\n",
       "75%          0.000000\n",
       "max          7.000000\n",
       "Name: Bankruptcies, dtype: float64"
      ]
     },
     "execution_count": 84,
     "metadata": {},
     "output_type": "execute_result"
    }
   ],
   "source": [
    "###############Bankruptcies##########\n",
    "data['Bankruptcies'].describe()\n"
   ]
  },
  {
   "cell_type": "code",
   "execution_count": 85,
   "metadata": {
    "colab": {
     "base_uri": "https://localhost:8080/"
    },
    "executionInfo": {
     "elapsed": 15,
     "status": "ok",
     "timestamp": 1644400716779,
     "user": {
      "displayName": "Siddhi Jadhav",
      "photoUrl": "https://lh3.googleusercontent.com/a/default-user=s64",
      "userId": "08402691859170607175"
     },
     "user_tz": -330
    },
    "id": "svQF_vyL65Yk",
    "outputId": "4d0696ff-bb86-4f79-9317-e8f9215fb6bb"
   },
   "outputs": [
    {
     "data": {
      "text/plain": [
       "0.0    79323\n",
       "1.0     8936\n",
       "2.0      353\n",
       "3.0       80\n",
       "4.0       19\n",
       "5.0        5\n",
       "7.0        1\n",
       "6.0        1\n",
       "Name: Bankruptcies, dtype: int64"
      ]
     },
     "execution_count": 85,
     "metadata": {},
     "output_type": "execute_result"
    }
   ],
   "source": [
    "data['Bankruptcies'].value_counts()\n"
   ]
  },
  {
   "cell_type": "code",
   "execution_count": 86,
   "metadata": {
    "colab": {
     "base_uri": "https://localhost:8080/"
    },
    "executionInfo": {
     "elapsed": 12,
     "status": "ok",
     "timestamp": 1644400716779,
     "user": {
      "displayName": "Siddhi Jadhav",
      "photoUrl": "https://lh3.googleusercontent.com/a/default-user=s64",
      "userId": "08402691859170607175"
     },
     "user_tz": -330
    },
    "id": "RN3BTL0S69TS",
    "outputId": "884ea139-fc90-4a7c-db4f-e8820e7be4aa"
   },
   "outputs": [
    {
     "data": {
      "text/plain": [
       "array([ 0.,  1., nan,  2.,  4.,  3.,  5.,  7.,  6.])"
      ]
     },
     "execution_count": 86,
     "metadata": {},
     "output_type": "execute_result"
    }
   ],
   "source": [
    "data['Bankruptcies'].unique()\n",
    "\n",
    "#So we have Nan's. Lets fill them with median\n"
   ]
  },
  {
   "cell_type": "code",
   "execution_count": 87,
   "metadata": {
    "id": "1gbCLGqD6-hG"
   },
   "outputs": [],
   "source": [
    "data['Bankruptcies']=data['Bankruptcies'].fillna(3)\n"
   ]
  },
  {
   "cell_type": "code",
   "execution_count": 88,
   "metadata": {},
   "outputs": [
    {
     "data": {
      "text/plain": [
       "0.0    79323\n",
       "1.0     8936\n",
       "2.0      353\n",
       "3.0      272\n",
       "4.0       19\n",
       "5.0        5\n",
       "7.0        1\n",
       "6.0        1\n",
       "Name: Bankruptcies, dtype: int64"
      ]
     },
     "execution_count": 88,
     "metadata": {},
     "output_type": "execute_result"
    }
   ],
   "source": [
    "data['Bankruptcies'].value_counts()"
   ]
  },
  {
   "cell_type": "markdown",
   "metadata": {},
   "source": [
    "- EDA: Tax Liens"
   ]
  },
  {
   "cell_type": "code",
   "execution_count": 89,
   "metadata": {
    "colab": {
     "base_uri": "https://localhost:8080/"
    },
    "executionInfo": {
     "elapsed": 10,
     "status": "ok",
     "timestamp": 1644400716779,
     "user": {
      "displayName": "Siddhi Jadhav",
      "photoUrl": "https://lh3.googleusercontent.com/a/default-user=s64",
      "userId": "08402691859170607175"
     },
     "user_tz": -330
    },
    "id": "F06nUq9Y7CnX",
    "outputId": "b94f41d5-5d46-4fa3-97ba-0cd2ed50716d"
   },
   "outputs": [
    {
     "data": {
      "text/plain": [
       "count    88902.000000\n",
       "mean         0.028222\n",
       "std          0.257533\n",
       "min          0.000000\n",
       "25%          0.000000\n",
       "50%          0.000000\n",
       "75%          0.000000\n",
       "max         15.000000\n",
       "Name: Tax Liens, dtype: float64"
      ]
     },
     "execution_count": 89,
     "metadata": {},
     "output_type": "execute_result"
    }
   ],
   "source": [
    "####Tax Liens######\n",
    "\n",
    "data['Tax Liens'].describe()\n"
   ]
  },
  {
   "cell_type": "code",
   "execution_count": 90,
   "metadata": {
    "colab": {
     "base_uri": "https://localhost:8080/"
    },
    "executionInfo": {
     "elapsed": 8,
     "status": "ok",
     "timestamp": 1644400716779,
     "user": {
      "displayName": "Siddhi Jadhav",
      "photoUrl": "https://lh3.googleusercontent.com/a/default-user=s64",
      "userId": "08402691859170607175"
     },
     "user_tz": -330
    },
    "id": "X2t-MGQv7F7w",
    "outputId": "a46b611e-7c90-4617-9a49-724e6bbf358f"
   },
   "outputs": [
    {
     "data": {
      "text/plain": [
       "0.0     87274\n",
       "1.0      1132\n",
       "2.0       305\n",
       "3.0        99\n",
       "4.0        52\n",
       "5.0        17\n",
       "6.0         9\n",
       "7.0         5\n",
       "9.0         4\n",
       "8.0         2\n",
       "15.0        1\n",
       "10.0        1\n",
       "11.0        1\n",
       "Name: Tax Liens, dtype: int64"
      ]
     },
     "execution_count": 90,
     "metadata": {},
     "output_type": "execute_result"
    }
   ],
   "source": [
    "data['Tax Liens'].value_counts()\n",
    "\n"
   ]
  },
  {
   "cell_type": "markdown",
   "metadata": {},
   "source": [
    "## Prepare features for model building-Convert categorical variables into numerical form\n",
    "\n",
    "- Ordinality: encode categorical variables into numerical categories, where the order matters. e.g. 0 for short term and 1 for long term.\n",
    "- Dummy variables: If we have n categories for a feature, we create n-1 dummy variables. A dummy variable is a flag that indicates if a data point belongs to a particular category. "
   ]
  },
  {
   "cell_type": "code",
   "execution_count": 91,
   "metadata": {},
   "outputs": [
    {
     "data": {
      "text/plain": [
       "array(['< 1 year', '10+ years', '9 years', '3 years', '2 years',\n",
       "       '7 years', '6 years', '1 year', '5 years', '4 years', '8 years',\n",
       "       nan], dtype=object)"
      ]
     },
     "execution_count": 91,
     "metadata": {},
     "output_type": "execute_result"
    }
   ],
   "source": [
    "data['Years in current job'].unique()"
   ]
  },
  {
   "cell_type": "code",
   "execution_count": 92,
   "metadata": {},
   "outputs": [],
   "source": [
    "# # Test functionality of pd.factorize()\n",
    "# # pd.factorize: Encode the object as an enumerated type or categorical variable.\n",
    "# #This method is useful for obtaining a numeric representation of an array when all that matters is identifying distinct values.\n",
    "# pd.set_option('display.max_columns', None)\n",
    "# labels, uniques=pd.factorize(data['Years in current job'], sort=True)\n",
    "# print(\"Numeric Representation: \\n\", labels)\n",
    "# print(\"Unique values: \\n\", uniques)\n",
    "\n",
    "# Applying pd factorize on the 'Years in current job' variable will lead to the following mapping\n",
    "# 0: '1 year'\n",
    "# 1: '10+ years'\n",
    "# 2: '2 years'\n",
    "# 3: '3 years'\n",
    "# 4: '4 years'\n",
    "# 5: '5 years'\n",
    "# 6: '6 years'\n",
    "# 7: '7 years'\n",
    "# 8: '8 years'\n",
    "# 9: '9 years'\n",
    "# 10: '< 1 year' "
   ]
  },
  {
   "cell_type": "code",
   "execution_count": 93,
   "metadata": {},
   "outputs": [
    {
     "name": "stdout",
     "output_type": "stream",
     "text": [
      "Numeric Representation: \n",
      " [1 0 1 ... 1 1 1]\n",
      "Unique values: \n",
      " Index(['Long Term', 'Short Term'], dtype='object')\n"
     ]
    }
   ],
   "source": [
    "# Test functionality of pd.factorize()\n",
    "# pd.factorize: Encode the object as an enumerated type or categorical variable.\n",
    "#This method is useful for obtaining a numeric representation of an array when all that matters is identifying distinct values.\n",
    "\n",
    "labels, uniques=pd.factorize(data['Term'], sort=True)\n",
    "print(\"Numeric Representation: \\n\", labels)\n",
    "print(\"Unique values: \\n\", uniques)\n"
   ]
  },
  {
   "cell_type": "code",
   "execution_count": 94,
   "metadata": {
    "id": "QhAYXmTI10R_",
    "scrolled": true
   },
   "outputs": [],
   "source": [
    "cat_cols = ['Term','Years in current job','Home Ownership','Purpose']\n",
    "\n",
    "for c in cat_cols:\n",
    "    data[c] = pd.factorize(data[c])[0]"
   ]
  },
  {
   "cell_type": "code",
   "execution_count": 95,
   "metadata": {},
   "outputs": [
    {
     "data": {
      "text/html": [
       "<div>\n",
       "<style scoped>\n",
       "    .dataframe tbody tr th:only-of-type {\n",
       "        vertical-align: middle;\n",
       "    }\n",
       "\n",
       "    .dataframe tbody tr th {\n",
       "        vertical-align: top;\n",
       "    }\n",
       "\n",
       "    .dataframe thead th {\n",
       "        text-align: right;\n",
       "    }\n",
       "</style>\n",
       "<table border=\"1\" class=\"dataframe\">\n",
       "  <thead>\n",
       "    <tr style=\"text-align: right;\">\n",
       "      <th></th>\n",
       "      <th>Term</th>\n",
       "      <th>Years in current job</th>\n",
       "      <th>Home Ownership</th>\n",
       "      <th>Purpose</th>\n",
       "    </tr>\n",
       "  </thead>\n",
       "  <tbody>\n",
       "    <tr>\n",
       "      <th>0</th>\n",
       "      <td>0</td>\n",
       "      <td>0</td>\n",
       "      <td>0</td>\n",
       "      <td>0</td>\n",
       "    </tr>\n",
       "    <tr>\n",
       "      <th>1</th>\n",
       "      <td>1</td>\n",
       "      <td>1</td>\n",
       "      <td>1</td>\n",
       "      <td>0</td>\n",
       "    </tr>\n",
       "    <tr>\n",
       "      <th>2</th>\n",
       "      <td>0</td>\n",
       "      <td>2</td>\n",
       "      <td>1</td>\n",
       "      <td>1</td>\n",
       "    </tr>\n",
       "    <tr>\n",
       "      <th>3</th>\n",
       "      <td>0</td>\n",
       "      <td>3</td>\n",
       "      <td>0</td>\n",
       "      <td>0</td>\n",
       "    </tr>\n",
       "    <tr>\n",
       "      <th>4</th>\n",
       "      <td>1</td>\n",
       "      <td>1</td>\n",
       "      <td>1</td>\n",
       "      <td>1</td>\n",
       "    </tr>\n",
       "    <tr>\n",
       "      <th>5</th>\n",
       "      <td>0</td>\n",
       "      <td>4</td>\n",
       "      <td>1</td>\n",
       "      <td>2</td>\n",
       "    </tr>\n",
       "    <tr>\n",
       "      <th>6</th>\n",
       "      <td>0</td>\n",
       "      <td>3</td>\n",
       "      <td>1</td>\n",
       "      <td>0</td>\n",
       "    </tr>\n",
       "    <tr>\n",
       "      <th>7</th>\n",
       "      <td>1</td>\n",
       "      <td>3</td>\n",
       "      <td>2</td>\n",
       "      <td>0</td>\n",
       "    </tr>\n",
       "    <tr>\n",
       "      <th>8</th>\n",
       "      <td>0</td>\n",
       "      <td>5</td>\n",
       "      <td>0</td>\n",
       "      <td>0</td>\n",
       "    </tr>\n",
       "    <tr>\n",
       "      <th>9</th>\n",
       "      <td>1</td>\n",
       "      <td>0</td>\n",
       "      <td>0</td>\n",
       "      <td>0</td>\n",
       "    </tr>\n",
       "  </tbody>\n",
       "</table>\n",
       "</div>"
      ],
      "text/plain": [
       "   Term  Years in current job  Home Ownership  Purpose\n",
       "0     0                     0               0        0\n",
       "1     1                     1               1        0\n",
       "2     0                     2               1        1\n",
       "3     0                     3               0        0\n",
       "4     1                     1               1        1\n",
       "5     0                     4               1        2\n",
       "6     0                     3               1        0\n",
       "7     1                     3               2        0\n",
       "8     0                     5               0        0\n",
       "9     1                     0               0        0"
      ]
     },
     "execution_count": 95,
     "metadata": {},
     "output_type": "execute_result"
    }
   ],
   "source": [
    "# check\n",
    "data[['Term','Years in current job','Home Ownership','Purpose']].head(10)"
   ]
  },
  {
   "cell_type": "markdown",
   "metadata": {},
   "source": [
    "# Impute missing values, using relationship of a feature with missing values with other features. \n",
    "### Imputation strategies: (All ensure that the missing values being imputed will lead to the feature being normally distributed).\n",
    "- Soft impute, \n",
    "- KNN etc. \n"
   ]
  },
  {
   "cell_type": "code",
   "execution_count": 96,
   "metadata": {},
   "outputs": [
    {
     "data": {
      "text/html": [
       "<div>\n",
       "<style scoped>\n",
       "    .dataframe tbody tr th:only-of-type {\n",
       "        vertical-align: middle;\n",
       "    }\n",
       "\n",
       "    .dataframe tbody tr th {\n",
       "        vertical-align: top;\n",
       "    }\n",
       "\n",
       "    .dataframe thead th {\n",
       "        text-align: right;\n",
       "    }\n",
       "</style>\n",
       "<table border=\"1\" class=\"dataframe\">\n",
       "  <thead>\n",
       "    <tr style=\"text-align: right;\">\n",
       "      <th></th>\n",
       "      <th>Loan ID</th>\n",
       "      <th>Customer ID</th>\n",
       "      <th>Loan Status</th>\n",
       "      <th>Current Loan Amount</th>\n",
       "      <th>Term</th>\n",
       "      <th>Credit Score</th>\n",
       "      <th>Years in current job</th>\n",
       "      <th>Home Ownership</th>\n",
       "      <th>Annual Income</th>\n",
       "      <th>Purpose</th>\n",
       "      <th>Monthly Debt</th>\n",
       "      <th>Years of Credit History</th>\n",
       "      <th>Months since last delinquent</th>\n",
       "      <th>Number of Open Accounts</th>\n",
       "      <th>Number of Credit Problems</th>\n",
       "      <th>Current Credit Balance</th>\n",
       "      <th>Maximum Open Credit</th>\n",
       "      <th>Bankruptcies</th>\n",
       "      <th>Tax Liens</th>\n",
       "      <th>Credit Score_1</th>\n",
       "    </tr>\n",
       "  </thead>\n",
       "  <tbody>\n",
       "    <tr>\n",
       "      <th>0</th>\n",
       "      <td>6cf51492-02a2-423e-b93d-676f05b9ad53</td>\n",
       "      <td>7c202b37-2add-44e8-9aea-d5b119aea935</td>\n",
       "      <td>Loan Refused</td>\n",
       "      <td>12232</td>\n",
       "      <td>0</td>\n",
       "      <td>728.0</td>\n",
       "      <td>0</td>\n",
       "      <td>0</td>\n",
       "      <td>46643.0</td>\n",
       "      <td>0</td>\n",
       "      <td>777.39</td>\n",
       "      <td>18.0</td>\n",
       "      <td>10.0</td>\n",
       "      <td>12</td>\n",
       "      <td>0</td>\n",
       "      <td>82.231381</td>\n",
       "      <td>7946.0</td>\n",
       "      <td>0.0</td>\n",
       "      <td>0.0</td>\n",
       "      <td>728.0</td>\n",
       "    </tr>\n",
       "    <tr>\n",
       "      <th>1</th>\n",
       "      <td>552e7ade-4292-4354-9ff9-c48031697d72</td>\n",
       "      <td>e7217b0a-07ac-47dd-b379-577b5a35b7c6</td>\n",
       "      <td>Loan Refused</td>\n",
       "      <td>25014</td>\n",
       "      <td>1</td>\n",
       "      <td>733.0</td>\n",
       "      <td>1</td>\n",
       "      <td>1</td>\n",
       "      <td>81099.0</td>\n",
       "      <td>0</td>\n",
       "      <td>892.09</td>\n",
       "      <td>26.7</td>\n",
       "      <td>NaN</td>\n",
       "      <td>14</td>\n",
       "      <td>0</td>\n",
       "      <td>188.960313</td>\n",
       "      <td>77961.0</td>\n",
       "      <td>0.0</td>\n",
       "      <td>0.0</td>\n",
       "      <td>733.0</td>\n",
       "    </tr>\n",
       "    <tr>\n",
       "      <th>2</th>\n",
       "      <td>9b5e32b3-8d76-4801-afc8-d729d5a2e6b9</td>\n",
       "      <td>0a62fc41-16c8-40b5-92ff-9e4b763ce714</td>\n",
       "      <td>Loan Refused</td>\n",
       "      <td>16117</td>\n",
       "      <td>0</td>\n",
       "      <td>724.0</td>\n",
       "      <td>2</td>\n",
       "      <td>1</td>\n",
       "      <td>60438.0</td>\n",
       "      <td>1</td>\n",
       "      <td>1244.02</td>\n",
       "      <td>16.7</td>\n",
       "      <td>32.0</td>\n",
       "      <td>11</td>\n",
       "      <td>1</td>\n",
       "      <td>106.183803</td>\n",
       "      <td>14815.0</td>\n",
       "      <td>1.0</td>\n",
       "      <td>0.0</td>\n",
       "      <td>724.0</td>\n",
       "    </tr>\n",
       "    <tr>\n",
       "      <th>3</th>\n",
       "      <td>5419b7c7-ac11-4be2-a8a7-b131fb6d6dbe</td>\n",
       "      <td>30f36c59-5182-4482-8bbb-5b736849ae43</td>\n",
       "      <td>Loan Refused</td>\n",
       "      <td>11716</td>\n",
       "      <td>0</td>\n",
       "      <td>740.0</td>\n",
       "      <td>3</td>\n",
       "      <td>0</td>\n",
       "      <td>34171.0</td>\n",
       "      <td>0</td>\n",
       "      <td>990.94</td>\n",
       "      <td>10.0</td>\n",
       "      <td>NaN</td>\n",
       "      <td>21</td>\n",
       "      <td>0</td>\n",
       "      <td>83.719771</td>\n",
       "      <td>43533.0</td>\n",
       "      <td>0.0</td>\n",
       "      <td>0.0</td>\n",
       "      <td>740.0</td>\n",
       "    </tr>\n",
       "    <tr>\n",
       "      <th>4</th>\n",
       "      <td>1450910f-9495-4fc9-afaf-9bdf4b9821df</td>\n",
       "      <td>70c26012-bba5-42c0-8dcb-75295ada31bb</td>\n",
       "      <td>Loan Refused</td>\n",
       "      <td>9789</td>\n",
       "      <td>1</td>\n",
       "      <td>686.0</td>\n",
       "      <td>1</td>\n",
       "      <td>1</td>\n",
       "      <td>47003.0</td>\n",
       "      <td>1</td>\n",
       "      <td>503.71</td>\n",
       "      <td>16.7</td>\n",
       "      <td>25.0</td>\n",
       "      <td>13</td>\n",
       "      <td>1</td>\n",
       "      <td>130.049990</td>\n",
       "      <td>19553.0</td>\n",
       "      <td>1.0</td>\n",
       "      <td>0.0</td>\n",
       "      <td>686.0</td>\n",
       "    </tr>\n",
       "  </tbody>\n",
       "</table>\n",
       "</div>"
      ],
      "text/plain": [
       "                                Loan ID                           Customer ID  \\\n",
       "0  6cf51492-02a2-423e-b93d-676f05b9ad53  7c202b37-2add-44e8-9aea-d5b119aea935   \n",
       "1  552e7ade-4292-4354-9ff9-c48031697d72  e7217b0a-07ac-47dd-b379-577b5a35b7c6   \n",
       "2  9b5e32b3-8d76-4801-afc8-d729d5a2e6b9  0a62fc41-16c8-40b5-92ff-9e4b763ce714   \n",
       "3  5419b7c7-ac11-4be2-a8a7-b131fb6d6dbe  30f36c59-5182-4482-8bbb-5b736849ae43   \n",
       "4  1450910f-9495-4fc9-afaf-9bdf4b9821df  70c26012-bba5-42c0-8dcb-75295ada31bb   \n",
       "\n",
       "    Loan Status  Current Loan Amount  Term  Credit Score  \\\n",
       "0  Loan Refused                12232     0         728.0   \n",
       "1  Loan Refused                25014     1         733.0   \n",
       "2  Loan Refused                16117     0         724.0   \n",
       "3  Loan Refused                11716     0         740.0   \n",
       "4  Loan Refused                 9789     1         686.0   \n",
       "\n",
       "   Years in current job  Home Ownership  Annual Income  Purpose  Monthly Debt  \\\n",
       "0                     0               0        46643.0        0        777.39   \n",
       "1                     1               1        81099.0        0        892.09   \n",
       "2                     2               1        60438.0        1       1244.02   \n",
       "3                     3               0        34171.0        0        990.94   \n",
       "4                     1               1        47003.0        1        503.71   \n",
       "\n",
       "   Years of Credit History  Months since last delinquent  \\\n",
       "0                     18.0                          10.0   \n",
       "1                     26.7                           NaN   \n",
       "2                     16.7                          32.0   \n",
       "3                     10.0                           NaN   \n",
       "4                     16.7                          25.0   \n",
       "\n",
       "   Number of Open Accounts  Number of Credit Problems  Current Credit Balance  \\\n",
       "0                       12                          0               82.231381   \n",
       "1                       14                          0              188.960313   \n",
       "2                       11                          1              106.183803   \n",
       "3                       21                          0               83.719771   \n",
       "4                       13                          1              130.049990   \n",
       "\n",
       "   Maximum Open Credit  Bankruptcies  Tax Liens  Credit Score_1  \n",
       "0               7946.0           0.0        0.0           728.0  \n",
       "1              77961.0           0.0        0.0           733.0  \n",
       "2              14815.0           1.0        0.0           724.0  \n",
       "3              43533.0           0.0        0.0           740.0  \n",
       "4              19553.0           1.0        0.0           686.0  "
      ]
     },
     "execution_count": 96,
     "metadata": {},
     "output_type": "execute_result"
    }
   ],
   "source": [
    "# Check which features to include in the data we want to train the model on...\n",
    "# Loan ID and Customer ID (cols 1 and 2) are non-informative, so we can exclude them. \n",
    "# Exclude target variable (col 3) from train set!!!\n",
    "data.head()"
   ]
  },
  {
   "cell_type": "code",
   "execution_count": 97,
   "metadata": {},
   "outputs": [
    {
     "data": {
      "text/plain": [
       "20"
      ]
     },
     "execution_count": 97,
     "metadata": {},
     "output_type": "execute_result"
    }
   ],
   "source": [
    "len(data.columns)"
   ]
  },
  {
   "cell_type": "code",
   "execution_count": 98,
   "metadata": {
    "colab": {
     "base_uri": "https://localhost:8080/"
    },
    "executionInfo": {
     "elapsed": 12432,
     "status": "ok",
     "timestamp": 1644400729206,
     "user": {
      "displayName": "Siddhi Jadhav",
      "photoUrl": "https://lh3.googleusercontent.com/a/default-user=s64",
      "userId": "08402691859170607175"
     },
     "user_tz": -330
    },
    "id": "nZHJqhHq16Gi",
    "outputId": "d7a47598-93ad-4ab9-d1f6-f7af52b4cdda",
    "scrolled": false
   },
   "outputs": [
    {
     "name": "stdout",
     "output_type": "stream",
     "text": [
      "[SoftImpute] Max Singular Value of X_init = 23092222.159075\n",
      "[SoftImpute] Iter 1: observed MAE=261.510226 rank=3\n",
      "[SoftImpute] Iter 2: observed MAE=258.578544 rank=3\n",
      "[SoftImpute] Iter 3: observed MAE=258.237708 rank=3\n",
      "[SoftImpute] Iter 4: observed MAE=258.214892 rank=3\n",
      "[SoftImpute] Iter 5: observed MAE=258.234675 rank=3\n",
      "[SoftImpute] Iter 6: observed MAE=258.260099 rank=3\n",
      "[SoftImpute] Iter 7: observed MAE=258.285594 rank=3\n",
      "[SoftImpute] Iter 8: observed MAE=258.310105 rank=3\n",
      "[SoftImpute] Iter 9: observed MAE=258.333428 rank=3\n",
      "[SoftImpute] Iter 10: observed MAE=258.355463 rank=3\n",
      "[SoftImpute] Iter 11: observed MAE=258.376145 rank=3\n",
      "[SoftImpute] Iter 12: observed MAE=258.395430 rank=3\n",
      "[SoftImpute] Iter 13: observed MAE=258.413418 rank=3\n",
      "[SoftImpute] Iter 14: observed MAE=258.430096 rank=3\n",
      "[SoftImpute] Iter 15: observed MAE=258.445514 rank=3\n",
      "[SoftImpute] Iter 16: observed MAE=258.459749 rank=3\n",
      "[SoftImpute] Iter 17: observed MAE=258.472973 rank=3\n",
      "[SoftImpute] Iter 18: observed MAE=258.485146 rank=3\n",
      "[SoftImpute] Iter 19: observed MAE=258.496215 rank=3\n",
      "[SoftImpute] Iter 20: observed MAE=258.506288 rank=3\n",
      "[SoftImpute] Iter 21: observed MAE=258.515391 rank=3\n",
      "[SoftImpute] Iter 22: observed MAE=258.523710 rank=3\n",
      "[SoftImpute] Iter 23: observed MAE=258.531146 rank=3\n",
      "[SoftImpute] Iter 24: observed MAE=258.537696 rank=3\n",
      "[SoftImpute] Iter 25: observed MAE=258.543456 rank=3\n",
      "[SoftImpute] Iter 26: observed MAE=258.548495 rank=3\n",
      "[SoftImpute] Iter 27: observed MAE=258.552805 rank=3\n",
      "[SoftImpute] Iter 28: observed MAE=258.556490 rank=3\n",
      "[SoftImpute] Iter 29: observed MAE=258.559531 rank=3\n",
      "[SoftImpute] Iter 30: observed MAE=258.561883 rank=3\n",
      "[SoftImpute] Iter 31: observed MAE=258.563635 rank=3\n",
      "[SoftImpute] Iter 32: observed MAE=258.564806 rank=3\n",
      "[SoftImpute] Iter 33: observed MAE=258.565415 rank=3\n",
      "[SoftImpute] Iter 34: observed MAE=258.565520 rank=3\n",
      "[SoftImpute] Iter 35: observed MAE=258.565202 rank=3\n",
      "[SoftImpute] Iter 36: observed MAE=258.564518 rank=3\n",
      "[SoftImpute] Iter 37: observed MAE=258.563456 rank=3\n",
      "[SoftImpute] Iter 38: observed MAE=258.562039 rank=3\n",
      "[SoftImpute] Iter 39: observed MAE=258.560230 rank=3\n",
      "[SoftImpute] Iter 40: observed MAE=258.558057 rank=3\n",
      "[SoftImpute] Iter 41: observed MAE=258.555619 rank=3\n",
      "[SoftImpute] Iter 42: observed MAE=258.552888 rank=3\n",
      "[SoftImpute] Iter 43: observed MAE=258.549875 rank=3\n",
      "[SoftImpute] Iter 44: observed MAE=258.546661 rank=3\n",
      "[SoftImpute] Iter 45: observed MAE=258.543208 rank=3\n",
      "[SoftImpute] Iter 46: observed MAE=258.539523 rank=3\n",
      "[SoftImpute] Iter 47: observed MAE=258.535641 rank=3\n",
      "[SoftImpute] Iter 48: observed MAE=258.531593 rank=3\n",
      "[SoftImpute] Iter 49: observed MAE=258.527373 rank=3\n",
      "[SoftImpute] Iter 50: observed MAE=258.523025 rank=3\n",
      "[SoftImpute] Iter 51: observed MAE=258.518548 rank=3\n",
      "[SoftImpute] Iter 52: observed MAE=258.513940 rank=3\n",
      "[SoftImpute] Iter 53: observed MAE=258.509212 rank=3\n",
      "[SoftImpute] Iter 54: observed MAE=258.504375 rank=3\n",
      "[SoftImpute] Iter 55: observed MAE=258.499459 rank=3\n",
      "[SoftImpute] Iter 56: observed MAE=258.494481 rank=3\n",
      "[SoftImpute] Iter 57: observed MAE=258.489465 rank=3\n",
      "[SoftImpute] Iter 58: observed MAE=258.484389 rank=3\n",
      "[SoftImpute] Iter 59: observed MAE=258.479239 rank=3\n",
      "[SoftImpute] Iter 60: observed MAE=258.474078 rank=3\n",
      "[SoftImpute] Iter 61: observed MAE=258.468904 rank=3\n",
      "[SoftImpute] Iter 62: observed MAE=258.463706 rank=3\n",
      "[SoftImpute] Iter 63: observed MAE=258.458490 rank=3\n",
      "[SoftImpute] Iter 64: observed MAE=258.453251 rank=3\n",
      "[SoftImpute] Iter 65: observed MAE=258.447969 rank=3\n",
      "[SoftImpute] Iter 66: observed MAE=258.442677 rank=3\n",
      "[SoftImpute] Iter 67: observed MAE=258.437387 rank=3\n",
      "[SoftImpute] Iter 68: observed MAE=258.432115 rank=3\n",
      "[SoftImpute] Iter 69: observed MAE=258.426873 rank=3\n",
      "[SoftImpute] Iter 70: observed MAE=258.421665 rank=3\n",
      "[SoftImpute] Iter 71: observed MAE=258.416469 rank=3\n",
      "[SoftImpute] Iter 72: observed MAE=258.411292 rank=3\n",
      "[SoftImpute] Iter 73: observed MAE=258.406138 rank=3\n",
      "[SoftImpute] Iter 74: observed MAE=258.401020 rank=3\n",
      "[SoftImpute] Iter 75: observed MAE=258.395956 rank=3\n",
      "[SoftImpute] Iter 76: observed MAE=258.390926 rank=3\n",
      "[SoftImpute] Iter 77: observed MAE=258.385948 rank=3\n",
      "[SoftImpute] Iter 78: observed MAE=258.381015 rank=3\n",
      "[SoftImpute] Iter 79: observed MAE=258.376126 rank=3\n",
      "[SoftImpute] Iter 80: observed MAE=258.371305 rank=3\n",
      "[SoftImpute] Iter 81: observed MAE=258.366536 rank=3\n",
      "[SoftImpute] Iter 82: observed MAE=258.361825 rank=3\n",
      "[SoftImpute] Iter 83: observed MAE=258.357176 rank=3\n",
      "[SoftImpute] Iter 84: observed MAE=258.352590 rank=3\n",
      "[SoftImpute] Iter 85: observed MAE=258.348069 rank=3\n",
      "[SoftImpute] Iter 86: observed MAE=258.343613 rank=3\n",
      "[SoftImpute] Iter 87: observed MAE=258.339212 rank=3\n",
      "[SoftImpute] Iter 88: observed MAE=258.334869 rank=3\n",
      "[SoftImpute] Iter 89: observed MAE=258.330581 rank=3\n",
      "[SoftImpute] Iter 90: observed MAE=258.326353 rank=3\n",
      "[SoftImpute] Iter 91: observed MAE=258.322191 rank=3\n",
      "[SoftImpute] Iter 92: observed MAE=258.318091 rank=3\n",
      "[SoftImpute] Iter 93: observed MAE=258.314050 rank=3\n",
      "[SoftImpute] Iter 94: observed MAE=258.310072 rank=3\n",
      "[SoftImpute] Iter 95: observed MAE=258.306153 rank=3\n",
      "[SoftImpute] Iter 96: observed MAE=258.302294 rank=3\n",
      "[SoftImpute] Iter 97: observed MAE=258.298501 rank=3\n",
      "[SoftImpute] Iter 98: observed MAE=258.294772 rank=3\n",
      "[SoftImpute] Iter 99: observed MAE=258.291109 rank=3\n",
      "[SoftImpute] Iter 100: observed MAE=258.287514 rank=3\n",
      "[SoftImpute] Stopped after iteration 100 for lambda=461844.443181\n"
     ]
    }
   ],
   "source": [
    "#Imputing missing data with soft impute\n",
    "# Create a new dataframe called updated_data, with missing values imputed.\n",
    "# We only want columns indexed 3-19 in our train set.Column #20 is a temporary column that we created during EDA and it is to be dropped.\n",
    "# Recall: column #20 has missing values for \"Credit_Score\" filled with the median, but the distribution of this feature was still very skewed after that.\n",
    "updated_data=pd.DataFrame(data=SoftImpute().fit_transform(data[data.columns[3:19]],), columns=data[data.columns[3:19]].columns, index=data.index)\n",
    "#Getting the dataset ready pd.get dummies function for dropping the dummy variables\n",
    "df_LC = pd.get_dummies(updated_data, drop_first=True)"
   ]
  },
  {
   "cell_type": "code",
   "execution_count": 99,
   "metadata": {
    "scrolled": true
   },
   "outputs": [
    {
     "data": {
      "text/plain": [
       "Current Loan Amount             0\n",
       "Term                            0\n",
       "Credit Score                    0\n",
       "Years in current job            0\n",
       "Home Ownership                  0\n",
       "Annual Income                   0\n",
       "Purpose                         0\n",
       "Monthly Debt                    0\n",
       "Years of Credit History         0\n",
       "Months since last delinquent    0\n",
       "Number of Open Accounts         0\n",
       "Number of Credit Problems       0\n",
       "Current Credit Balance          0\n",
       "Maximum Open Credit             0\n",
       "Bankruptcies                    0\n",
       "Tax Liens                       0\n",
       "dtype: int64"
      ]
     },
     "execution_count": 99,
     "metadata": {},
     "output_type": "execute_result"
    }
   ],
   "source": [
    "updated_data.isnull().sum()"
   ]
  },
  {
   "cell_type": "code",
   "execution_count": 100,
   "metadata": {},
   "outputs": [
    {
     "data": {
      "text/html": [
       "<div>\n",
       "<style scoped>\n",
       "    .dataframe tbody tr th:only-of-type {\n",
       "        vertical-align: middle;\n",
       "    }\n",
       "\n",
       "    .dataframe tbody tr th {\n",
       "        vertical-align: top;\n",
       "    }\n",
       "\n",
       "    .dataframe thead th {\n",
       "        text-align: right;\n",
       "    }\n",
       "</style>\n",
       "<table border=\"1\" class=\"dataframe\">\n",
       "  <thead>\n",
       "    <tr style=\"text-align: right;\">\n",
       "      <th></th>\n",
       "      <th>Current Loan Amount</th>\n",
       "      <th>Term</th>\n",
       "      <th>Credit Score</th>\n",
       "      <th>Years in current job</th>\n",
       "      <th>Home Ownership</th>\n",
       "      <th>Annual Income</th>\n",
       "      <th>Purpose</th>\n",
       "      <th>Monthly Debt</th>\n",
       "      <th>Years of Credit History</th>\n",
       "      <th>Months since last delinquent</th>\n",
       "      <th>Number of Open Accounts</th>\n",
       "      <th>Number of Credit Problems</th>\n",
       "      <th>Current Credit Balance</th>\n",
       "      <th>Maximum Open Credit</th>\n",
       "      <th>Bankruptcies</th>\n",
       "      <th>Tax Liens</th>\n",
       "    </tr>\n",
       "  </thead>\n",
       "  <tbody>\n",
       "    <tr>\n",
       "      <th>0</th>\n",
       "      <td>12232.0</td>\n",
       "      <td>0.0</td>\n",
       "      <td>728.0</td>\n",
       "      <td>0.0</td>\n",
       "      <td>0.0</td>\n",
       "      <td>46643.0</td>\n",
       "      <td>0.0</td>\n",
       "      <td>777.39</td>\n",
       "      <td>18.0</td>\n",
       "      <td>10.000000</td>\n",
       "      <td>12.0</td>\n",
       "      <td>0.0</td>\n",
       "      <td>82.231381</td>\n",
       "      <td>7946.0</td>\n",
       "      <td>0.0</td>\n",
       "      <td>0.0</td>\n",
       "    </tr>\n",
       "    <tr>\n",
       "      <th>1</th>\n",
       "      <td>25014.0</td>\n",
       "      <td>1.0</td>\n",
       "      <td>733.0</td>\n",
       "      <td>1.0</td>\n",
       "      <td>1.0</td>\n",
       "      <td>81099.0</td>\n",
       "      <td>0.0</td>\n",
       "      <td>892.09</td>\n",
       "      <td>26.7</td>\n",
       "      <td>45.345953</td>\n",
       "      <td>14.0</td>\n",
       "      <td>0.0</td>\n",
       "      <td>188.960313</td>\n",
       "      <td>77961.0</td>\n",
       "      <td>0.0</td>\n",
       "      <td>0.0</td>\n",
       "    </tr>\n",
       "    <tr>\n",
       "      <th>2</th>\n",
       "      <td>16117.0</td>\n",
       "      <td>0.0</td>\n",
       "      <td>724.0</td>\n",
       "      <td>2.0</td>\n",
       "      <td>1.0</td>\n",
       "      <td>60438.0</td>\n",
       "      <td>1.0</td>\n",
       "      <td>1244.02</td>\n",
       "      <td>16.7</td>\n",
       "      <td>32.000000</td>\n",
       "      <td>11.0</td>\n",
       "      <td>1.0</td>\n",
       "      <td>106.183803</td>\n",
       "      <td>14815.0</td>\n",
       "      <td>1.0</td>\n",
       "      <td>0.0</td>\n",
       "    </tr>\n",
       "    <tr>\n",
       "      <th>3</th>\n",
       "      <td>11716.0</td>\n",
       "      <td>0.0</td>\n",
       "      <td>740.0</td>\n",
       "      <td>3.0</td>\n",
       "      <td>0.0</td>\n",
       "      <td>34171.0</td>\n",
       "      <td>0.0</td>\n",
       "      <td>990.94</td>\n",
       "      <td>10.0</td>\n",
       "      <td>21.444236</td>\n",
       "      <td>21.0</td>\n",
       "      <td>0.0</td>\n",
       "      <td>83.719771</td>\n",
       "      <td>43533.0</td>\n",
       "      <td>0.0</td>\n",
       "      <td>0.0</td>\n",
       "    </tr>\n",
       "    <tr>\n",
       "      <th>4</th>\n",
       "      <td>9789.0</td>\n",
       "      <td>1.0</td>\n",
       "      <td>686.0</td>\n",
       "      <td>1.0</td>\n",
       "      <td>1.0</td>\n",
       "      <td>47003.0</td>\n",
       "      <td>1.0</td>\n",
       "      <td>503.71</td>\n",
       "      <td>16.7</td>\n",
       "      <td>25.000000</td>\n",
       "      <td>13.0</td>\n",
       "      <td>1.0</td>\n",
       "      <td>130.049990</td>\n",
       "      <td>19553.0</td>\n",
       "      <td>1.0</td>\n",
       "      <td>0.0</td>\n",
       "    </tr>\n",
       "  </tbody>\n",
       "</table>\n",
       "</div>"
      ],
      "text/plain": [
       "   Current Loan Amount  Term  Credit Score  Years in current job  \\\n",
       "0              12232.0   0.0         728.0                   0.0   \n",
       "1              25014.0   1.0         733.0                   1.0   \n",
       "2              16117.0   0.0         724.0                   2.0   \n",
       "3              11716.0   0.0         740.0                   3.0   \n",
       "4               9789.0   1.0         686.0                   1.0   \n",
       "\n",
       "   Home Ownership  Annual Income  Purpose  Monthly Debt  \\\n",
       "0             0.0        46643.0      0.0        777.39   \n",
       "1             1.0        81099.0      0.0        892.09   \n",
       "2             1.0        60438.0      1.0       1244.02   \n",
       "3             0.0        34171.0      0.0        990.94   \n",
       "4             1.0        47003.0      1.0        503.71   \n",
       "\n",
       "   Years of Credit History  Months since last delinquent  \\\n",
       "0                     18.0                     10.000000   \n",
       "1                     26.7                     45.345953   \n",
       "2                     16.7                     32.000000   \n",
       "3                     10.0                     21.444236   \n",
       "4                     16.7                     25.000000   \n",
       "\n",
       "   Number of Open Accounts  Number of Credit Problems  Current Credit Balance  \\\n",
       "0                     12.0                        0.0               82.231381   \n",
       "1                     14.0                        0.0              188.960313   \n",
       "2                     11.0                        1.0              106.183803   \n",
       "3                     21.0                        0.0               83.719771   \n",
       "4                     13.0                        1.0              130.049990   \n",
       "\n",
       "   Maximum Open Credit  Bankruptcies  Tax Liens  \n",
       "0               7946.0           0.0        0.0  \n",
       "1              77961.0           0.0        0.0  \n",
       "2              14815.0           1.0        0.0  \n",
       "3              43533.0           0.0        0.0  \n",
       "4              19553.0           1.0        0.0  "
      ]
     },
     "execution_count": 100,
     "metadata": {},
     "output_type": "execute_result"
    }
   ],
   "source": [
    "updated_data.head()"
   ]
  },
  {
   "cell_type": "code",
   "execution_count": 101,
   "metadata": {},
   "outputs": [
    {
     "data": {
      "text/html": [
       "<div>\n",
       "<style scoped>\n",
       "    .dataframe tbody tr th:only-of-type {\n",
       "        vertical-align: middle;\n",
       "    }\n",
       "\n",
       "    .dataframe tbody tr th {\n",
       "        vertical-align: top;\n",
       "    }\n",
       "\n",
       "    .dataframe thead th {\n",
       "        text-align: right;\n",
       "    }\n",
       "</style>\n",
       "<table border=\"1\" class=\"dataframe\">\n",
       "  <thead>\n",
       "    <tr style=\"text-align: right;\">\n",
       "      <th></th>\n",
       "      <th>Current Loan Amount</th>\n",
       "      <th>Term</th>\n",
       "      <th>Credit Score</th>\n",
       "      <th>Years in current job</th>\n",
       "      <th>Home Ownership</th>\n",
       "      <th>Annual Income</th>\n",
       "      <th>Purpose</th>\n",
       "      <th>Monthly Debt</th>\n",
       "      <th>Years of Credit History</th>\n",
       "      <th>Months since last delinquent</th>\n",
       "      <th>Number of Open Accounts</th>\n",
       "      <th>Number of Credit Problems</th>\n",
       "      <th>Current Credit Balance</th>\n",
       "      <th>Maximum Open Credit</th>\n",
       "      <th>Bankruptcies</th>\n",
       "      <th>Tax Liens</th>\n",
       "    </tr>\n",
       "  </thead>\n",
       "  <tbody>\n",
       "    <tr>\n",
       "      <th>0</th>\n",
       "      <td>12232.0</td>\n",
       "      <td>0.0</td>\n",
       "      <td>728.0</td>\n",
       "      <td>0.0</td>\n",
       "      <td>0.0</td>\n",
       "      <td>46643.0</td>\n",
       "      <td>0.0</td>\n",
       "      <td>777.39</td>\n",
       "      <td>18.0</td>\n",
       "      <td>10.000000</td>\n",
       "      <td>12.0</td>\n",
       "      <td>0.0</td>\n",
       "      <td>82.231381</td>\n",
       "      <td>7946.0</td>\n",
       "      <td>0.0</td>\n",
       "      <td>0.0</td>\n",
       "    </tr>\n",
       "    <tr>\n",
       "      <th>1</th>\n",
       "      <td>25014.0</td>\n",
       "      <td>1.0</td>\n",
       "      <td>733.0</td>\n",
       "      <td>1.0</td>\n",
       "      <td>1.0</td>\n",
       "      <td>81099.0</td>\n",
       "      <td>0.0</td>\n",
       "      <td>892.09</td>\n",
       "      <td>26.7</td>\n",
       "      <td>45.345953</td>\n",
       "      <td>14.0</td>\n",
       "      <td>0.0</td>\n",
       "      <td>188.960313</td>\n",
       "      <td>77961.0</td>\n",
       "      <td>0.0</td>\n",
       "      <td>0.0</td>\n",
       "    </tr>\n",
       "    <tr>\n",
       "      <th>2</th>\n",
       "      <td>16117.0</td>\n",
       "      <td>0.0</td>\n",
       "      <td>724.0</td>\n",
       "      <td>2.0</td>\n",
       "      <td>1.0</td>\n",
       "      <td>60438.0</td>\n",
       "      <td>1.0</td>\n",
       "      <td>1244.02</td>\n",
       "      <td>16.7</td>\n",
       "      <td>32.000000</td>\n",
       "      <td>11.0</td>\n",
       "      <td>1.0</td>\n",
       "      <td>106.183803</td>\n",
       "      <td>14815.0</td>\n",
       "      <td>1.0</td>\n",
       "      <td>0.0</td>\n",
       "    </tr>\n",
       "    <tr>\n",
       "      <th>3</th>\n",
       "      <td>11716.0</td>\n",
       "      <td>0.0</td>\n",
       "      <td>740.0</td>\n",
       "      <td>3.0</td>\n",
       "      <td>0.0</td>\n",
       "      <td>34171.0</td>\n",
       "      <td>0.0</td>\n",
       "      <td>990.94</td>\n",
       "      <td>10.0</td>\n",
       "      <td>21.444236</td>\n",
       "      <td>21.0</td>\n",
       "      <td>0.0</td>\n",
       "      <td>83.719771</td>\n",
       "      <td>43533.0</td>\n",
       "      <td>0.0</td>\n",
       "      <td>0.0</td>\n",
       "    </tr>\n",
       "    <tr>\n",
       "      <th>4</th>\n",
       "      <td>9789.0</td>\n",
       "      <td>1.0</td>\n",
       "      <td>686.0</td>\n",
       "      <td>1.0</td>\n",
       "      <td>1.0</td>\n",
       "      <td>47003.0</td>\n",
       "      <td>1.0</td>\n",
       "      <td>503.71</td>\n",
       "      <td>16.7</td>\n",
       "      <td>25.000000</td>\n",
       "      <td>13.0</td>\n",
       "      <td>1.0</td>\n",
       "      <td>130.049990</td>\n",
       "      <td>19553.0</td>\n",
       "      <td>1.0</td>\n",
       "      <td>0.0</td>\n",
       "    </tr>\n",
       "  </tbody>\n",
       "</table>\n",
       "</div>"
      ],
      "text/plain": [
       "   Current Loan Amount  Term  Credit Score  Years in current job  \\\n",
       "0              12232.0   0.0         728.0                   0.0   \n",
       "1              25014.0   1.0         733.0                   1.0   \n",
       "2              16117.0   0.0         724.0                   2.0   \n",
       "3              11716.0   0.0         740.0                   3.0   \n",
       "4               9789.0   1.0         686.0                   1.0   \n",
       "\n",
       "   Home Ownership  Annual Income  Purpose  Monthly Debt  \\\n",
       "0             0.0        46643.0      0.0        777.39   \n",
       "1             1.0        81099.0      0.0        892.09   \n",
       "2             1.0        60438.0      1.0       1244.02   \n",
       "3             0.0        34171.0      0.0        990.94   \n",
       "4             1.0        47003.0      1.0        503.71   \n",
       "\n",
       "   Years of Credit History  Months since last delinquent  \\\n",
       "0                     18.0                     10.000000   \n",
       "1                     26.7                     45.345953   \n",
       "2                     16.7                     32.000000   \n",
       "3                     10.0                     21.444236   \n",
       "4                     16.7                     25.000000   \n",
       "\n",
       "   Number of Open Accounts  Number of Credit Problems  Current Credit Balance  \\\n",
       "0                     12.0                        0.0               82.231381   \n",
       "1                     14.0                        0.0              188.960313   \n",
       "2                     11.0                        1.0              106.183803   \n",
       "3                     21.0                        0.0               83.719771   \n",
       "4                     13.0                        1.0              130.049990   \n",
       "\n",
       "   Maximum Open Credit  Bankruptcies  Tax Liens  \n",
       "0               7946.0           0.0        0.0  \n",
       "1              77961.0           0.0        0.0  \n",
       "2              14815.0           1.0        0.0  \n",
       "3              43533.0           0.0        0.0  \n",
       "4              19553.0           1.0        0.0  "
      ]
     },
     "execution_count": 101,
     "metadata": {},
     "output_type": "execute_result"
    }
   ],
   "source": [
    "df_LC.head()"
   ]
  },
  {
   "cell_type": "markdown",
   "metadata": {},
   "source": [
    "### Binarize the target variables (convert to numerical form)\n",
    "### Standardize the features to bring them to the same scale"
   ]
  },
  {
   "cell_type": "code",
   "execution_count": 102,
   "metadata": {
    "colab": {
     "base_uri": "https://localhost:8080/"
    },
    "executionInfo": {
     "elapsed": 625,
     "status": "ok",
     "timestamp": 1644400729822,
     "user": {
      "displayName": "Siddhi Jadhav",
      "photoUrl": "https://lh3.googleusercontent.com/a/default-user=s64",
      "userId": "08402691859170607175"
     },
     "user_tz": -330
    },
    "id": "ddDq2gpJ2A1f",
    "outputId": "5ccefed7-9946-4f70-f512-2ca82aeb9139",
    "scrolled": true
   },
   "outputs": [
    {
     "name": "stdout",
     "output_type": "stream",
     "text": [
      "[[-0.1869176  -0.57302977  0.03970829 ... -0.79845518 -0.32295035\n",
      "  -0.10958408]\n",
      " [ 1.48349848  1.74511004  0.23385837 ...  1.83825771 -0.32295035\n",
      "  -0.10958408]\n",
      " [ 0.32079375 -0.57302977 -0.11561178 ... -0.53977375  2.39304617\n",
      "  -0.10958408]\n",
      " ...\n",
      " [ 1.40247376 -0.57302977  0.73864859 ...  0.91232955 -0.32295035\n",
      "  -0.10958408]\n",
      " [-1.1281112  -0.57302977 -0.19327181 ... -0.4039368  -0.32295035\n",
      "  -0.10958408]\n",
      " [ 0.62515919 -0.57302977 -0.34859188 ... -0.30218149 -0.32295035\n",
      "   3.77361205]]\n",
      "   \n",
      "(88910, 16)\n"
     ]
    }
   ],
   "source": [
    "\n",
    "#Binarizing the Target variable\n",
    "lb_style = LabelBinarizer()\n",
    "lb_results = lb_style.fit_transform(data['Loan Status'])\n",
    "#print(lb_results) # lb_results is a multidimensional array.\n",
    "y=lb_results\n",
    "y=y.ravel() # use ravel to flatten lb_results into a 1-d structure, like a list.\n",
    "#print(y)\n",
    "\n",
    "#Scaling the independent variables (Very important, since all features have vastly different scales!)\n",
    "X_scaled = preprocessing.scale(df_LC)\n",
    "print(X_scaled) # All values lie between -1 and 1.\n",
    "print('   ')\n",
    "print(X_scaled.shape) # Shape of data remains the same.\n"
   ]
  },
  {
   "cell_type": "code",
   "execution_count": 103,
   "metadata": {},
   "outputs": [
    {
     "name": "stdout",
     "output_type": "stream",
     "text": [
      "[0 0 0 1 0 0 0 0 1 0]\n"
     ]
    }
   ],
   "source": [
    "print(y[-10:])"
   ]
  },
  {
   "cell_type": "code",
   "execution_count": 104,
   "metadata": {},
   "outputs": [
    {
     "data": {
      "text/plain": [
       "numpy.ndarray"
      ]
     },
     "execution_count": 104,
     "metadata": {},
     "output_type": "execute_result"
    }
   ],
   "source": [
    "type(y)"
   ]
  },
  {
   "cell_type": "code",
   "execution_count": 105,
   "metadata": {},
   "outputs": [
    {
     "data": {
      "text/plain": [
       "88900      Loan Given\n",
       "88901      Loan Given\n",
       "88902      Loan Given\n",
       "88903    Loan Refused\n",
       "88904      Loan Given\n",
       "88905      Loan Given\n",
       "88906      Loan Given\n",
       "88907      Loan Given\n",
       "88908    Loan Refused\n",
       "88909      Loan Given\n",
       "Name: Loan Status, dtype: object"
      ]
     },
     "execution_count": 105,
     "metadata": {},
     "output_type": "execute_result"
    }
   ],
   "source": [
    "data['Loan Status'][-10:] "
   ]
  },
  {
   "cell_type": "markdown",
   "metadata": {},
   "source": [
    "After encoding the target variable, we see that Loan Given has been encoded as 0 and Loan Refused encoded as 1."
   ]
  },
  {
   "cell_type": "markdown",
   "metadata": {},
   "source": [
    "# Train-test split the data"
   ]
  },
  {
   "cell_type": "code",
   "execution_count": 106,
   "metadata": {
    "id": "mDmj6_Dk2D1G"
   },
   "outputs": [],
   "source": [
    "X_train, X_test, y_train, y_test = train_test_split(X_scaled, y, test_size=0.3, random_state=22)\n"
   ]
  },
  {
   "cell_type": "code",
   "execution_count": 107,
   "metadata": {},
   "outputs": [],
   "source": [
    "# To get the feature names when we use \"plot_importance\" function, we turn X_train from np array back into pandas DF form\n",
    "X_train_df = pd.DataFrame(X_train, columns=df_LC.columns) "
   ]
  },
  {
   "cell_type": "code",
   "execution_count": 108,
   "metadata": {},
   "outputs": [
    {
     "data": {
      "text/html": [
       "<div>\n",
       "<style scoped>\n",
       "    .dataframe tbody tr th:only-of-type {\n",
       "        vertical-align: middle;\n",
       "    }\n",
       "\n",
       "    .dataframe tbody tr th {\n",
       "        vertical-align: top;\n",
       "    }\n",
       "\n",
       "    .dataframe thead th {\n",
       "        text-align: right;\n",
       "    }\n",
       "</style>\n",
       "<table border=\"1\" class=\"dataframe\">\n",
       "  <thead>\n",
       "    <tr style=\"text-align: right;\">\n",
       "      <th></th>\n",
       "      <th>Current Loan Amount</th>\n",
       "      <th>Term</th>\n",
       "      <th>Credit Score</th>\n",
       "      <th>Years in current job</th>\n",
       "      <th>Home Ownership</th>\n",
       "      <th>Annual Income</th>\n",
       "      <th>Purpose</th>\n",
       "      <th>Monthly Debt</th>\n",
       "      <th>Years of Credit History</th>\n",
       "      <th>Months since last delinquent</th>\n",
       "      <th>Number of Open Accounts</th>\n",
       "      <th>Number of Credit Problems</th>\n",
       "      <th>Current Credit Balance</th>\n",
       "      <th>Maximum Open Credit</th>\n",
       "      <th>Bankruptcies</th>\n",
       "      <th>Tax Liens</th>\n",
       "    </tr>\n",
       "  </thead>\n",
       "  <tbody>\n",
       "    <tr>\n",
       "      <th>0</th>\n",
       "      <td>0.156261</td>\n",
       "      <td>-0.57303</td>\n",
       "      <td>0.350348</td>\n",
       "      <td>1.676192</td>\n",
       "      <td>-1.056209</td>\n",
       "      <td>0.048759</td>\n",
       "      <td>-0.364609</td>\n",
       "      <td>-0.009864</td>\n",
       "      <td>-0.981016</td>\n",
       "      <td>-0.023965</td>\n",
       "      <td>1.394639</td>\n",
       "      <td>-0.338742</td>\n",
       "      <td>0.715270</td>\n",
       "      <td>0.756910</td>\n",
       "      <td>-0.322950</td>\n",
       "      <td>-0.109584</td>\n",
       "    </tr>\n",
       "    <tr>\n",
       "      <th>1</th>\n",
       "      <td>-0.928947</td>\n",
       "      <td>-0.57303</td>\n",
       "      <td>0.660989</td>\n",
       "      <td>0.125661</td>\n",
       "      <td>-1.056209</td>\n",
       "      <td>-1.177954</td>\n",
       "      <td>-0.364609</td>\n",
       "      <td>-1.036406</td>\n",
       "      <td>-0.186592</td>\n",
       "      <td>-0.055780</td>\n",
       "      <td>0.181035</td>\n",
       "      <td>-0.338742</td>\n",
       "      <td>-0.410298</td>\n",
       "      <td>-0.503470</td>\n",
       "      <td>-0.322950</td>\n",
       "      <td>-0.109584</td>\n",
       "    </tr>\n",
       "    <tr>\n",
       "      <th>2</th>\n",
       "      <td>0.867711</td>\n",
       "      <td>-0.57303</td>\n",
       "      <td>0.932799</td>\n",
       "      <td>-0.804658</td>\n",
       "      <td>0.519685</td>\n",
       "      <td>0.161132</td>\n",
       "      <td>-0.364609</td>\n",
       "      <td>-0.100166</td>\n",
       "      <td>0.168061</td>\n",
       "      <td>0.346825</td>\n",
       "      <td>-0.021232</td>\n",
       "      <td>-0.338742</td>\n",
       "      <td>0.735927</td>\n",
       "      <td>1.140808</td>\n",
       "      <td>-0.322950</td>\n",
       "      <td>-0.109584</td>\n",
       "    </tr>\n",
       "    <tr>\n",
       "      <th>3</th>\n",
       "      <td>-0.510886</td>\n",
       "      <td>-0.57303</td>\n",
       "      <td>0.855139</td>\n",
       "      <td>-0.804658</td>\n",
       "      <td>-1.056209</td>\n",
       "      <td>0.073539</td>\n",
       "      <td>-0.364609</td>\n",
       "      <td>0.363067</td>\n",
       "      <td>-0.300081</td>\n",
       "      <td>0.271412</td>\n",
       "      <td>-0.830302</td>\n",
       "      <td>1.772105</td>\n",
       "      <td>-0.214531</td>\n",
       "      <td>-0.103115</td>\n",
       "      <td>2.393046</td>\n",
       "      <td>-0.109584</td>\n",
       "    </tr>\n",
       "    <tr>\n",
       "      <th>4</th>\n",
       "      <td>-0.975732</td>\n",
       "      <td>-0.57303</td>\n",
       "      <td>0.660989</td>\n",
       "      <td>1.366085</td>\n",
       "      <td>2.095580</td>\n",
       "      <td>-0.770972</td>\n",
       "      <td>-0.364609</td>\n",
       "      <td>1.751820</td>\n",
       "      <td>0.522715</td>\n",
       "      <td>-0.731713</td>\n",
       "      <td>-0.021232</td>\n",
       "      <td>-0.338742</td>\n",
       "      <td>1.168502</td>\n",
       "      <td>0.876591</td>\n",
       "      <td>-0.322950</td>\n",
       "      <td>-0.109584</td>\n",
       "    </tr>\n",
       "    <tr>\n",
       "      <th>...</th>\n",
       "      <td>...</td>\n",
       "      <td>...</td>\n",
       "      <td>...</td>\n",
       "      <td>...</td>\n",
       "      <td>...</td>\n",
       "      <td>...</td>\n",
       "      <td>...</td>\n",
       "      <td>...</td>\n",
       "      <td>...</td>\n",
       "      <td>...</td>\n",
       "      <td>...</td>\n",
       "      <td>...</td>\n",
       "      <td>...</td>\n",
       "      <td>...</td>\n",
       "      <td>...</td>\n",
       "      <td>...</td>\n",
       "    </tr>\n",
       "    <tr>\n",
       "      <th>62232</th>\n",
       "      <td>-0.753045</td>\n",
       "      <td>-0.57303</td>\n",
       "      <td>0.389178</td>\n",
       "      <td>-0.184445</td>\n",
       "      <td>-1.056209</td>\n",
       "      <td>0.293295</td>\n",
       "      <td>-0.364609</td>\n",
       "      <td>-0.380634</td>\n",
       "      <td>-0.981016</td>\n",
       "      <td>1.089392</td>\n",
       "      <td>-0.021232</td>\n",
       "      <td>-0.338742</td>\n",
       "      <td>-0.513754</td>\n",
       "      <td>-0.544820</td>\n",
       "      <td>-0.322950</td>\n",
       "      <td>-0.109584</td>\n",
       "    </tr>\n",
       "    <tr>\n",
       "      <th>62233</th>\n",
       "      <td>2.883658</td>\n",
       "      <td>1.74511</td>\n",
       "      <td>0.660989</td>\n",
       "      <td>-0.804658</td>\n",
       "      <td>0.519685</td>\n",
       "      <td>0.478245</td>\n",
       "      <td>-0.364609</td>\n",
       "      <td>0.529531</td>\n",
       "      <td>2.622263</td>\n",
       "      <td>0.980328</td>\n",
       "      <td>0.787837</td>\n",
       "      <td>-0.338742</td>\n",
       "      <td>1.910696</td>\n",
       "      <td>3.532585</td>\n",
       "      <td>-0.322950</td>\n",
       "      <td>-0.109584</td>\n",
       "    </tr>\n",
       "    <tr>\n",
       "      <th>62234</th>\n",
       "      <td>-0.289505</td>\n",
       "      <td>-0.57303</td>\n",
       "      <td>-0.076782</td>\n",
       "      <td>-1.424870</td>\n",
       "      <td>0.519685</td>\n",
       "      <td>0.129640</td>\n",
       "      <td>-0.364609</td>\n",
       "      <td>-0.262515</td>\n",
       "      <td>-1.122877</td>\n",
       "      <td>0.489540</td>\n",
       "      <td>2.405976</td>\n",
       "      <td>-0.338742</td>\n",
       "      <td>-0.369234</td>\n",
       "      <td>-0.381417</td>\n",
       "      <td>-0.322950</td>\n",
       "      <td>-0.109584</td>\n",
       "    </tr>\n",
       "    <tr>\n",
       "      <th>62235</th>\n",
       "      <td>-0.484879</td>\n",
       "      <td>-0.57303</td>\n",
       "      <td>0.660989</td>\n",
       "      <td>1.055979</td>\n",
       "      <td>0.519685</td>\n",
       "      <td>-1.081992</td>\n",
       "      <td>-0.364609</td>\n",
       "      <td>1.378957</td>\n",
       "      <td>-0.725665</td>\n",
       "      <td>-0.887904</td>\n",
       "      <td>1.192372</td>\n",
       "      <td>-0.338742</td>\n",
       "      <td>0.265088</td>\n",
       "      <td>-0.385333</td>\n",
       "      <td>-0.322950</td>\n",
       "      <td>-0.109584</td>\n",
       "    </tr>\n",
       "    <tr>\n",
       "      <th>62236</th>\n",
       "      <td>-0.449987</td>\n",
       "      <td>-0.57303</td>\n",
       "      <td>0.660989</td>\n",
       "      <td>1.366085</td>\n",
       "      <td>0.519685</td>\n",
       "      <td>-1.060785</td>\n",
       "      <td>-0.364609</td>\n",
       "      <td>1.025689</td>\n",
       "      <td>-0.981016</td>\n",
       "      <td>-0.856755</td>\n",
       "      <td>-0.223500</td>\n",
       "      <td>-0.338742</td>\n",
       "      <td>0.534329</td>\n",
       "      <td>-0.324250</td>\n",
       "      <td>-0.322950</td>\n",
       "      <td>-0.109584</td>\n",
       "    </tr>\n",
       "  </tbody>\n",
       "</table>\n",
       "<p>62237 rows × 16 columns</p>\n",
       "</div>"
      ],
      "text/plain": [
       "       Current Loan Amount     Term  Credit Score  Years in current job  \\\n",
       "0                 0.156261 -0.57303      0.350348              1.676192   \n",
       "1                -0.928947 -0.57303      0.660989              0.125661   \n",
       "2                 0.867711 -0.57303      0.932799             -0.804658   \n",
       "3                -0.510886 -0.57303      0.855139             -0.804658   \n",
       "4                -0.975732 -0.57303      0.660989              1.366085   \n",
       "...                    ...      ...           ...                   ...   \n",
       "62232            -0.753045 -0.57303      0.389178             -0.184445   \n",
       "62233             2.883658  1.74511      0.660989             -0.804658   \n",
       "62234            -0.289505 -0.57303     -0.076782             -1.424870   \n",
       "62235            -0.484879 -0.57303      0.660989              1.055979   \n",
       "62236            -0.449987 -0.57303      0.660989              1.366085   \n",
       "\n",
       "       Home Ownership  Annual Income   Purpose  Monthly Debt  \\\n",
       "0           -1.056209       0.048759 -0.364609     -0.009864   \n",
       "1           -1.056209      -1.177954 -0.364609     -1.036406   \n",
       "2            0.519685       0.161132 -0.364609     -0.100166   \n",
       "3           -1.056209       0.073539 -0.364609      0.363067   \n",
       "4            2.095580      -0.770972 -0.364609      1.751820   \n",
       "...               ...            ...       ...           ...   \n",
       "62232       -1.056209       0.293295 -0.364609     -0.380634   \n",
       "62233        0.519685       0.478245 -0.364609      0.529531   \n",
       "62234        0.519685       0.129640 -0.364609     -0.262515   \n",
       "62235        0.519685      -1.081992 -0.364609      1.378957   \n",
       "62236        0.519685      -1.060785 -0.364609      1.025689   \n",
       "\n",
       "       Years of Credit History  Months since last delinquent  \\\n",
       "0                    -0.981016                     -0.023965   \n",
       "1                    -0.186592                     -0.055780   \n",
       "2                     0.168061                      0.346825   \n",
       "3                    -0.300081                      0.271412   \n",
       "4                     0.522715                     -0.731713   \n",
       "...                        ...                           ...   \n",
       "62232                -0.981016                      1.089392   \n",
       "62233                 2.622263                      0.980328   \n",
       "62234                -1.122877                      0.489540   \n",
       "62235                -0.725665                     -0.887904   \n",
       "62236                -0.981016                     -0.856755   \n",
       "\n",
       "       Number of Open Accounts  Number of Credit Problems  \\\n",
       "0                     1.394639                  -0.338742   \n",
       "1                     0.181035                  -0.338742   \n",
       "2                    -0.021232                  -0.338742   \n",
       "3                    -0.830302                   1.772105   \n",
       "4                    -0.021232                  -0.338742   \n",
       "...                        ...                        ...   \n",
       "62232                -0.021232                  -0.338742   \n",
       "62233                 0.787837                  -0.338742   \n",
       "62234                 2.405976                  -0.338742   \n",
       "62235                 1.192372                  -0.338742   \n",
       "62236                -0.223500                  -0.338742   \n",
       "\n",
       "       Current Credit Balance  Maximum Open Credit  Bankruptcies  Tax Liens  \n",
       "0                    0.715270             0.756910     -0.322950  -0.109584  \n",
       "1                   -0.410298            -0.503470     -0.322950  -0.109584  \n",
       "2                    0.735927             1.140808     -0.322950  -0.109584  \n",
       "3                   -0.214531            -0.103115      2.393046  -0.109584  \n",
       "4                    1.168502             0.876591     -0.322950  -0.109584  \n",
       "...                       ...                  ...           ...        ...  \n",
       "62232               -0.513754            -0.544820     -0.322950  -0.109584  \n",
       "62233                1.910696             3.532585     -0.322950  -0.109584  \n",
       "62234               -0.369234            -0.381417     -0.322950  -0.109584  \n",
       "62235                0.265088            -0.385333     -0.322950  -0.109584  \n",
       "62236                0.534329            -0.324250     -0.322950  -0.109584  \n",
       "\n",
       "[62237 rows x 16 columns]"
      ]
     },
     "execution_count": 108,
     "metadata": {},
     "output_type": "execute_result"
    }
   ],
   "source": [
    "# check\n",
    "X_train_df"
   ]
  },
  {
   "cell_type": "markdown",
   "metadata": {},
   "source": [
    "# Write a function to allow us to compare between the performance of different models"
   ]
  },
  {
   "cell_type": "code",
   "execution_count": 109,
   "metadata": {
    "id": "vSgZnQsTx7F5"
   },
   "outputs": [],
   "source": [
    "# Write a function that returns model, predicted probabilities and predicted categories of each and every data point\n",
    "def classify(est, x, y,X_test,y_test):\n",
    "    #Passing the model and train test dataset to fit the model\n",
    "    est.fit(x, y)\n",
    "    #Predicting the probabilities of the Tet data\n",
    "    y2 = est.predict_proba(X_test)\n",
    "    y1 = est.predict(X_test)\n",
    "\n",
    "    print(\"Accuracy: \", metrics.accuracy_score(y_test, y1))\n",
    "    print(\"Area under the ROC curve: \", metrics.roc_auc_score(y_test, y2[:, 1]))\n",
    "    #Calculate different metrics\n",
    "    print(\"F-metric: \", metrics.f1_score(y_test, y1))\n",
    "    print(\" \")\n",
    "    print(\"Classification report:\")\n",
    "    print(metrics.classification_report(y_test, y1))\n",
    "    print(\" \")\n",
    "    print(\"Evaluation by cross-validation:\")\n",
    "    print(cross_val_score(est, x, y))\n",
    "    # return model, predicted probabilities and predicted categories of each and every data point.\n",
    "    return est, y1, y2[:, 1]\n",
    "\n",
    "\n",
    "#Function to find which features are more important than others through model\n",
    "def feat_importance(estimator):\n",
    "    feature_importance = {}\n",
    "    for index, name in enumerate(df_LC.columns):\n",
    "        #SKLearn: Feature importances are provided by the fitted attribute feature_importances_ and they are computed as the mean and standard deviation of accumulation of the impurity decrease within each tree.\n",
    "        feature_importance[name] = estimator.feature_importances_[index] # Add to the dictionary \"feature_importance\" using the following assignment operator: dict[key]=value.\n",
    "\n",
    "    feature_importance = {k: v for k, v in feature_importance.items()}\n",
    "    sorted_x = sorted(feature_importance.items(), key=operator.itemgetter(1), reverse = True) # use operator.itemgetter(1) to sort by the value (indexed 1) instead of the key (indexed 0).\n",
    "    \n",
    "    return sorted_x\n",
    "\n",
    "#Function to  plot the ROC curve for various models and finding the best one. Returns models_report and conf_matrix\n",
    "def run_models(X_train, y_train, X_test, y_test, model_type = 'Non-balanced'):\n",
    "    \n",
    "    clfs = {'GradientBoosting': GradientBoostingClassifier(max_depth= 6, n_estimators=100, max_features = 0.3),\n",
    "            'LogisticRegression' : LogisticRegression(),\n",
    "            #'GaussianNB': GaussianNB(),\n",
    "            'RandomForestClassifier': RandomForestClassifier(n_estimators=10),\n",
    "            'XGBClassifier': XGBClassifier()\n",
    "            }\n",
    "    cols = ['model','matthews_corrcoef', 'roc_auc_score', 'precision_score', 'recall_score','f1_score']\n",
    "\n",
    "    models_report = pd.DataFrame(columns = cols)\n",
    "    conf_matrix = dict()\n",
    "\n",
    "    for clf, clf_name in zip(clfs.values(), clfs.keys()):\n",
    "\n",
    "        clf.fit(X_train, y_train)\n",
    "\n",
    "        y_pred = clf.predict(X_test)\n",
    "        y_score = clf.predict_proba(X_test)[:,1]\n",
    "\n",
    "        print('computing {} - {} '.format(clf_name, model_type))\n",
    "\n",
    "        tmp = pd.Series({'model_type': model_type,\n",
    "                         'model': clf_name,\n",
    "                         'roc_auc_score' : metrics.roc_auc_score(y_test, y_score),\n",
    "                         'matthews_corrcoef': metrics.matthews_corrcoef(y_test, y_pred), # Matthews Correlation Coefficient is a good metric for imbalanced class problems\n",
    "                         'precision_score': metrics.precision_score(y_test, y_pred),\n",
    "                         'recall_score': metrics.recall_score(y_test, y_pred),\n",
    "                         'f1_score': metrics.f1_score(y_test, y_pred)})\n",
    "        # Construct a pandas df models report, with the keys in tmp as columns and the values in tmp.\n",
    "        models_report = models_report.append(tmp, ignore_index = True)\n",
    "        # Construct a dictionary-form confusion matrix with y_test (actual) values as indexes and y_pred (predicted) value as columns.\n",
    "        conf_matrix[clf_name] = pd.crosstab(y_test, y_pred, rownames=['True'], colnames= ['Predicted'], margins=False)\n",
    "        fpr, tpr, thresholds = metrics.roc_curve(y_test, y_score, drop_intermediate = False, pos_label = 1) # drop_intermediate: Whether to drop some suboptimal thresholds which would not appear on a plotted ROC curve. This is useful in order to create lighter ROC curves.\n",
    "\n",
    "        plt.figure(1, figsize=(6,6))\n",
    "        plt.xlabel('false positive rate')\n",
    "        plt.ylabel('true positive rate')\n",
    "        plt.title('ROC curve - {}'.format(model_type))\n",
    "        plt.plot(fpr, tpr, label = clf_name )\n",
    "        plt.legend(loc=2, prop={'size':11})\n",
    "    plt.plot([0,1],[0,1], color = 'black')\n",
    "    \n",
    "    return models_report, conf_matrix"
   ]
  },
  {
   "cell_type": "code",
   "execution_count": 110,
   "metadata": {},
   "outputs": [],
   "source": [
    "# To compare between different models, we use the (user-defined) classify function (defined above) to "
   ]
  },
  {
   "cell_type": "code",
   "execution_count": 111,
   "metadata": {
    "colab": {
     "base_uri": "https://localhost:8080/",
     "height": 1000
    },
    "executionInfo": {
     "elapsed": 62085,
     "status": "ok",
     "timestamp": 1644400791903,
     "user": {
      "displayName": "Siddhi Jadhav",
      "photoUrl": "https://lh3.googleusercontent.com/a/default-user=s64",
      "userId": "08402691859170607175"
     },
     "user_tz": -330
    },
    "id": "DG8i8SLz2GZg",
    "outputId": "33fe0da8-98e5-4fb6-cf01-ec0507f175e0"
   },
   "outputs": [
    {
     "name": "stderr",
     "output_type": "stream",
     "text": [
      "C:\\ProgramData\\Anaconda3\\lib\\site-packages\\xgboost\\sklearn.py:1146: UserWarning: The use of label encoder in XGBClassifier is deprecated and will be removed in a future release. To remove this warning, do the following: 1) Pass option use_label_encoder=False when constructing XGBClassifier object; and 2) Encode your labels (y) as integers starting with 0, i.e. 0, 1, 2, ..., [num_class - 1].\n",
      "  warnings.warn(label_encoder_deprecation_msg, UserWarning)\n"
     ]
    },
    {
     "name": "stdout",
     "output_type": "stream",
     "text": [
      "[10:13:03] WARNING: C:/Users/Administrator/workspace/xgboost-win64_release_1.4.0/src/learner.cc:1095: Starting in XGBoost 1.3.0, the default evaluation metric used with the objective 'binary:logistic' was changed from 'error' to 'logloss'. Explicitly set eval_metric if you'd like to restore the old behavior.\n",
      "Accuracy:  0.727214786488209\n",
      "Area under the ROC curve:  0.7412221216207586\n",
      "F-metric:  0.38023850085178873\n",
      " \n",
      "Classification report:\n",
      "              precision    recall  f1-score   support\n",
      "\n",
      "           0       0.76      0.90      0.83     18981\n",
      "           1       0.55      0.29      0.38      7692\n",
      "\n",
      "    accuracy                           0.73     26673\n",
      "   macro avg       0.66      0.60      0.60     26673\n",
      "weighted avg       0.70      0.73      0.70     26673\n",
      "\n",
      " \n",
      "Evaluation by cross-validation:\n",
      "[10:13:11] WARNING: C:/Users/Administrator/workspace/xgboost-win64_release_1.4.0/src/learner.cc:1095: Starting in XGBoost 1.3.0, the default evaluation metric used with the objective 'binary:logistic' was changed from 'error' to 'logloss'. Explicitly set eval_metric if you'd like to restore the old behavior.\n"
     ]
    },
    {
     "name": "stderr",
     "output_type": "stream",
     "text": [
      "C:\\ProgramData\\Anaconda3\\lib\\site-packages\\xgboost\\sklearn.py:1146: UserWarning: The use of label encoder in XGBClassifier is deprecated and will be removed in a future release. To remove this warning, do the following: 1) Pass option use_label_encoder=False when constructing XGBClassifier object; and 2) Encode your labels (y) as integers starting with 0, i.e. 0, 1, 2, ..., [num_class - 1].\n",
      "  warnings.warn(label_encoder_deprecation_msg, UserWarning)\n",
      "C:\\ProgramData\\Anaconda3\\lib\\site-packages\\xgboost\\sklearn.py:1146: UserWarning: The use of label encoder in XGBClassifier is deprecated and will be removed in a future release. To remove this warning, do the following: 1) Pass option use_label_encoder=False when constructing XGBClassifier object; and 2) Encode your labels (y) as integers starting with 0, i.e. 0, 1, 2, ..., [num_class - 1].\n",
      "  warnings.warn(label_encoder_deprecation_msg, UserWarning)\n"
     ]
    },
    {
     "name": "stdout",
     "output_type": "stream",
     "text": [
      "[10:13:17] WARNING: C:/Users/Administrator/workspace/xgboost-win64_release_1.4.0/src/learner.cc:1095: Starting in XGBoost 1.3.0, the default evaluation metric used with the objective 'binary:logistic' was changed from 'error' to 'logloss'. Explicitly set eval_metric if you'd like to restore the old behavior.\n"
     ]
    },
    {
     "name": "stderr",
     "output_type": "stream",
     "text": [
      "C:\\ProgramData\\Anaconda3\\lib\\site-packages\\xgboost\\sklearn.py:1146: UserWarning: The use of label encoder in XGBClassifier is deprecated and will be removed in a future release. To remove this warning, do the following: 1) Pass option use_label_encoder=False when constructing XGBClassifier object; and 2) Encode your labels (y) as integers starting with 0, i.e. 0, 1, 2, ..., [num_class - 1].\n",
      "  warnings.warn(label_encoder_deprecation_msg, UserWarning)\n"
     ]
    },
    {
     "name": "stdout",
     "output_type": "stream",
     "text": [
      "[10:13:23] WARNING: C:/Users/Administrator/workspace/xgboost-win64_release_1.4.0/src/learner.cc:1095: Starting in XGBoost 1.3.0, the default evaluation metric used with the objective 'binary:logistic' was changed from 'error' to 'logloss'. Explicitly set eval_metric if you'd like to restore the old behavior.\n"
     ]
    },
    {
     "name": "stderr",
     "output_type": "stream",
     "text": [
      "C:\\ProgramData\\Anaconda3\\lib\\site-packages\\xgboost\\sklearn.py:1146: UserWarning: The use of label encoder in XGBClassifier is deprecated and will be removed in a future release. To remove this warning, do the following: 1) Pass option use_label_encoder=False when constructing XGBClassifier object; and 2) Encode your labels (y) as integers starting with 0, i.e. 0, 1, 2, ..., [num_class - 1].\n",
      "  warnings.warn(label_encoder_deprecation_msg, UserWarning)\n"
     ]
    },
    {
     "name": "stdout",
     "output_type": "stream",
     "text": [
      "[10:13:30] WARNING: C:/Users/Administrator/workspace/xgboost-win64_release_1.4.0/src/learner.cc:1095: Starting in XGBoost 1.3.0, the default evaluation metric used with the objective 'binary:logistic' was changed from 'error' to 'logloss'. Explicitly set eval_metric if you'd like to restore the old behavior.\n"
     ]
    },
    {
     "name": "stderr",
     "output_type": "stream",
     "text": [
      "C:\\ProgramData\\Anaconda3\\lib\\site-packages\\xgboost\\sklearn.py:1146: UserWarning: The use of label encoder in XGBClassifier is deprecated and will be removed in a future release. To remove this warning, do the following: 1) Pass option use_label_encoder=False when constructing XGBClassifier object; and 2) Encode your labels (y) as integers starting with 0, i.e. 0, 1, 2, ..., [num_class - 1].\n",
      "  warnings.warn(label_encoder_deprecation_msg, UserWarning)\n"
     ]
    },
    {
     "name": "stdout",
     "output_type": "stream",
     "text": [
      "[10:13:36] WARNING: C:/Users/Administrator/workspace/xgboost-win64_release_1.4.0/src/learner.cc:1095: Starting in XGBoost 1.3.0, the default evaluation metric used with the objective 'binary:logistic' was changed from 'error' to 'logloss'. Explicitly set eval_metric if you'd like to restore the old behavior.\n",
      "[0.73329049 0.73465617 0.73342974 0.73302804 0.72507432]\n",
      "[0.1469817  0.2943213  0.12864907 0.028316   0.04402782 0.04368484\n",
      " 0.03141124 0.0305032  0.02811449 0.02637229 0.02754875 0.02711004\n",
      " 0.03086024 0.03322401 0.03524408 0.04363089]\n"
     ]
    },
    {
     "data": {
      "image/png": "[encoded data removed]",
      "text/plain": [
       "<Figure size 432x288 with 1 Axes>"
      ]
     },
     "metadata": {
      "needs_background": "light"
     },
     "output_type": "display_data"
    }
   ],
   "source": [
    "#Finding accuracy and feature importance using XGB classifier\n",
    "# \"classify\" function returns the model, predicted probabilities and predicted categories of each and every data point.\n",
    "xgb0, y_pred_b, y_pred2_b = classify(XGBClassifier(), X_train_df, y_train,X_test,y_test)\n",
    "print(xgb0.feature_importances_)\n",
    "# plot feature importances of xgboost model using \"plot_importance\" function (imported from sklearn).\n",
    "# how feature importances are calculated:\n",
    "#”weight” is the number of times a feature appears in a tree\n",
    "#”gain” is the average gain of splits which use the feature\n",
    "#”cover” is the average coverage of splits which use the feature where coverage is defined as the number of samples affected by the split\n",
    "plot_importance(xgb0, show_values=True, importance_type='gain') # Here, we set the calculation method to \"gain\"\n",
    "pyplot.show()\n",
    "# get feature importances using the function \"feat_importance\"\n",
    "##SKLearn: Feature importances are provided by the fitted attribute feature_importances_ and they are computed as the mean and standard deviation of accumulation of the impurity decrease within each tree.\n",
    "feat1 = feat_importance(xgb0)\n"
   ]
  },
  {
   "cell_type": "code",
   "execution_count": 112,
   "metadata": {},
   "outputs": [
    {
     "data": {
      "text/plain": [
       "[('Term', 0.2943213),\n",
       " ('Current Loan Amount', 0.1469817),\n",
       " ('Credit Score', 0.12864907),\n",
       " ('Home Ownership', 0.04402782),\n",
       " ('Annual Income', 0.043684844),\n",
       " ('Tax Liens', 0.043630887),\n",
       " ('Bankruptcies', 0.035244085),\n",
       " ('Maximum Open Credit', 0.03322401),\n",
       " ('Purpose', 0.031411238),\n",
       " ('Current Credit Balance', 0.03086024),\n",
       " ('Monthly Debt', 0.030503197),\n",
       " ('Years in current job', 0.028315997),\n",
       " ('Years of Credit History', 0.028114486),\n",
       " ('Number of Open Accounts', 0.027548749),\n",
       " ('Number of Credit Problems', 0.027110042),\n",
       " ('Months since last delinquent', 0.026372287)]"
      ]
     },
     "execution_count": 112,
     "metadata": {},
     "output_type": "execute_result"
    }
   ],
   "source": [
    "feat1"
   ]
  },
  {
   "cell_type": "code",
   "execution_count": 113,
   "metadata": {
    "colab": {
     "base_uri": "https://localhost:8080/"
    },
    "executionInfo": {
     "elapsed": 30582,
     "status": "ok",
     "timestamp": 1644400822472,
     "user": {
      "displayName": "Siddhi Jadhav",
      "photoUrl": "https://lh3.googleusercontent.com/a/default-user=s64",
      "userId": "08402691859170607175"
     },
     "user_tz": -330
    },
    "id": "Wz1Fd1u22M0j",
    "outputId": "61d703c0-ff21-4a19-88fd-d4020d3a16c3",
    "scrolled": true
   },
   "outputs": [
    {
     "name": "stderr",
     "output_type": "stream",
     "text": [
      "C:\\ProgramData\\Anaconda3\\lib\\site-packages\\xgboost\\sklearn.py:1146: UserWarning: The use of label encoder in XGBClassifier is deprecated and will be removed in a future release. To remove this warning, do the following: 1) Pass option use_label_encoder=False when constructing XGBClassifier object; and 2) Encode your labels (y) as integers starting with 0, i.e. 0, 1, 2, ..., [num_class - 1].\n",
      "  warnings.warn(label_encoder_deprecation_msg, UserWarning)\n"
     ]
    },
    {
     "name": "stdout",
     "output_type": "stream",
     "text": [
      "[10:13:45] WARNING: C:/Users/Administrator/workspace/xgboost-win64_release_1.4.0/src/learner.cc:1095: Starting in XGBoost 1.3.0, the default evaluation metric used with the objective 'binary:logistic' was changed from 'error' to 'logloss'. Explicitly set eval_metric if you'd like to restore the old behavior.\n",
      "Accuracy:  0.7292393056649046\n",
      "Area under the ROC curve:  0.7391335796206201\n",
      "F-metric:  0.3373095980913929\n",
      " \n",
      "Classification report:\n",
      "              precision    recall  f1-score   support\n",
      "\n",
      "           0       0.75      0.93      0.83     18981\n",
      "           1       0.57      0.24      0.34      7692\n",
      "\n",
      "    accuracy                           0.73     26673\n",
      "   macro avg       0.66      0.58      0.58     26673\n",
      "weighted avg       0.70      0.73      0.69     26673\n",
      "\n",
      " \n",
      "Evaluation by cross-validation:\n"
     ]
    },
    {
     "name": "stderr",
     "output_type": "stream",
     "text": [
      "C:\\ProgramData\\Anaconda3\\lib\\site-packages\\xgboost\\sklearn.py:1146: UserWarning: The use of label encoder in XGBClassifier is deprecated and will be removed in a future release. To remove this warning, do the following: 1) Pass option use_label_encoder=False when constructing XGBClassifier object; and 2) Encode your labels (y) as integers starting with 0, i.e. 0, 1, 2, ..., [num_class - 1].\n",
      "  warnings.warn(label_encoder_deprecation_msg, UserWarning)\n"
     ]
    },
    {
     "name": "stdout",
     "output_type": "stream",
     "text": [
      "[10:13:49] WARNING: C:/Users/Administrator/workspace/xgboost-win64_release_1.4.0/src/learner.cc:1095: Starting in XGBoost 1.3.0, the default evaluation metric used with the objective 'binary:logistic' was changed from 'error' to 'logloss'. Explicitly set eval_metric if you'd like to restore the old behavior.\n"
     ]
    },
    {
     "name": "stderr",
     "output_type": "stream",
     "text": [
      "C:\\ProgramData\\Anaconda3\\lib\\site-packages\\xgboost\\sklearn.py:1146: UserWarning: The use of label encoder in XGBClassifier is deprecated and will be removed in a future release. To remove this warning, do the following: 1) Pass option use_label_encoder=False when constructing XGBClassifier object; and 2) Encode your labels (y) as integers starting with 0, i.e. 0, 1, 2, ..., [num_class - 1].\n",
      "  warnings.warn(label_encoder_deprecation_msg, UserWarning)\n"
     ]
    },
    {
     "name": "stdout",
     "output_type": "stream",
     "text": [
      "[10:13:52] WARNING: C:/Users/Administrator/workspace/xgboost-win64_release_1.4.0/src/learner.cc:1095: Starting in XGBoost 1.3.0, the default evaluation metric used with the objective 'binary:logistic' was changed from 'error' to 'logloss'. Explicitly set eval_metric if you'd like to restore the old behavior.\n"
     ]
    },
    {
     "name": "stderr",
     "output_type": "stream",
     "text": [
      "C:\\ProgramData\\Anaconda3\\lib\\site-packages\\xgboost\\sklearn.py:1146: UserWarning: The use of label encoder in XGBClassifier is deprecated and will be removed in a future release. To remove this warning, do the following: 1) Pass option use_label_encoder=False when constructing XGBClassifier object; and 2) Encode your labels (y) as integers starting with 0, i.e. 0, 1, 2, ..., [num_class - 1].\n",
      "  warnings.warn(label_encoder_deprecation_msg, UserWarning)\n"
     ]
    },
    {
     "name": "stdout",
     "output_type": "stream",
     "text": [
      "[10:13:55] WARNING: C:/Users/Administrator/workspace/xgboost-win64_release_1.4.0/src/learner.cc:1095: Starting in XGBoost 1.3.0, the default evaluation metric used with the objective 'binary:logistic' was changed from 'error' to 'logloss'. Explicitly set eval_metric if you'd like to restore the old behavior.\n"
     ]
    },
    {
     "name": "stderr",
     "output_type": "stream",
     "text": [
      "C:\\ProgramData\\Anaconda3\\lib\\site-packages\\xgboost\\sklearn.py:1146: UserWarning: The use of label encoder in XGBClassifier is deprecated and will be removed in a future release. To remove this warning, do the following: 1) Pass option use_label_encoder=False when constructing XGBClassifier object; and 2) Encode your labels (y) as integers starting with 0, i.e. 0, 1, 2, ..., [num_class - 1].\n",
      "  warnings.warn(label_encoder_deprecation_msg, UserWarning)\n"
     ]
    },
    {
     "name": "stdout",
     "output_type": "stream",
     "text": [
      "[10:13:59] WARNING: C:/Users/Administrator/workspace/xgboost-win64_release_1.4.0/src/learner.cc:1095: Starting in XGBoost 1.3.0, the default evaluation metric used with the objective 'binary:logistic' was changed from 'error' to 'logloss'. Explicitly set eval_metric if you'd like to restore the old behavior.\n"
     ]
    },
    {
     "name": "stderr",
     "output_type": "stream",
     "text": [
      "C:\\ProgramData\\Anaconda3\\lib\\site-packages\\xgboost\\sklearn.py:1146: UserWarning: The use of label encoder in XGBClassifier is deprecated and will be removed in a future release. To remove this warning, do the following: 1) Pass option use_label_encoder=False when constructing XGBClassifier object; and 2) Encode your labels (y) as integers starting with 0, i.e. 0, 1, 2, ..., [num_class - 1].\n",
      "  warnings.warn(label_encoder_deprecation_msg, UserWarning)\n"
     ]
    },
    {
     "name": "stdout",
     "output_type": "stream",
     "text": [
      "[10:14:02] WARNING: C:/Users/Administrator/workspace/xgboost-win64_release_1.4.0/src/learner.cc:1095: Starting in XGBoost 1.3.0, the default evaluation metric used with the objective 'binary:logistic' was changed from 'error' to 'logloss'. Explicitly set eval_metric if you'd like to restore the old behavior.\n",
      "[0.73722686 0.74244859 0.7359203  0.73648269 0.73101952]\n"
     ]
    }
   ],
   "source": [
    "xgb0, y_pred_b, y_pred2_b = classify(XGBClassifier(n_estimators=47, learning_rate=0.015), X_train, y_train,X_test,y_test)\n",
    "feat1 = feat_importance(xgb0)"
   ]
  },
  {
   "cell_type": "code",
   "execution_count": 114,
   "metadata": {},
   "outputs": [
    {
     "data": {
      "text/plain": [
       "[('Credit Score', 0.25776073),\n",
       " ('Current Loan Amount', 0.25273952),\n",
       " ('Term', 0.2417287),\n",
       " ('Annual Income', 0.05637519),\n",
       " ('Home Ownership', 0.032443102),\n",
       " ('Monthly Debt', 0.024299687),\n",
       " ('Years in current job', 0.022779197),\n",
       " ('Maximum Open Credit', 0.020652816),\n",
       " ('Tax Liens', 0.016603531),\n",
       " ('Months since last delinquent', 0.01640129),\n",
       " ('Years of Credit History', 0.014874293),\n",
       " ('Current Credit Balance', 0.013529538),\n",
       " ('Number of Open Accounts', 0.012583291),\n",
       " ('Bankruptcies', 0.00967672),\n",
       " ('Purpose', 0.0075524133),\n",
       " ('Number of Credit Problems', 0.0)]"
      ]
     },
     "execution_count": 114,
     "metadata": {},
     "output_type": "execute_result"
    }
   ],
   "source": [
    "feat1"
   ]
  },
  {
   "cell_type": "code",
   "execution_count": 115,
   "metadata": {
    "colab": {
     "base_uri": "https://localhost:8080/"
    },
    "executionInfo": {
     "elapsed": 127481,
     "status": "ok",
     "timestamp": 1644400949930,
     "user": {
      "displayName": "Siddhi Jadhav",
      "photoUrl": "https://lh3.googleusercontent.com/a/default-user=s64",
      "userId": "08402691859170607175"
     },
     "user_tz": -330
    },
    "id": "lTDGHAjm78iY",
    "outputId": "a1a21ddb-ff68-4a6f-ae22-4ee8c89ccb89"
   },
   "outputs": [
    {
     "name": "stdout",
     "output_type": "stream",
     "text": [
      "Accuracy:  0.6835001687099314\n",
      "Area under the ROC curve:  0.6060558293466032\n",
      "F-metric:  0.3097301717089125\n",
      " \n",
      "Classification report:\n",
      "              precision    recall  f1-score   support\n",
      "\n",
      "           0       0.74      0.86      0.79     18981\n",
      "           1       0.42      0.25      0.31      7692\n",
      "\n",
      "    accuracy                           0.68     26673\n",
      "   macro avg       0.58      0.55      0.55     26673\n",
      "weighted avg       0.65      0.68      0.65     26673\n",
      "\n",
      " \n",
      "Evaluation by cross-validation:\n",
      "[0.6938464  0.69545308 0.69759781 0.69181329 0.68691251]\n"
     ]
    }
   ],
   "source": [
    "#######K nearest Neighbour classifier ################\n",
    "\n",
    "knc, y_p, y_p2 = classify(KNeighborsClassifier(), X_train, y_train,X_test,y_test)\n"
   ]
  },
  {
   "cell_type": "code",
   "execution_count": 116,
   "metadata": {
    "colab": {
     "base_uri": "https://localhost:8080/"
    },
    "executionInfo": {
     "elapsed": 1276,
     "status": "ok",
     "timestamp": 1644400951203,
     "user": {
      "displayName": "Siddhi Jadhav",
      "photoUrl": "https://lh3.googleusercontent.com/a/default-user=s64",
      "userId": "08402691859170607175"
     },
     "user_tz": -330
    },
    "id": "XnQkIMC87_Ng",
    "outputId": "d225baa5-9578-41e2-e638-4454a8e41e4e"
   },
   "outputs": [
    {
     "name": "stdout",
     "output_type": "stream",
     "text": [
      "Accuracy:  0.7199040227945863\n",
      "Area under the ROC curve:  0.6727493223853078\n",
      "F-metric:  0.21333052542908287\n",
      " \n",
      "Classification report:\n",
      "              precision    recall  f1-score   support\n",
      "\n",
      "           0       0.73      0.96      0.83     18981\n",
      "           1       0.56      0.13      0.21      7692\n",
      "\n",
      "    accuracy                           0.72     26673\n",
      "   macro avg       0.65      0.54      0.52     26673\n",
      "weighted avg       0.68      0.72      0.65     26673\n",
      "\n",
      " \n",
      "Evaluation by cross-validation:\n",
      "[0.72598008 0.72911311 0.72828794 0.72836828 0.72732385]\n"
     ]
    }
   ],
   "source": [
    "########Logistic Regression ##############\n",
    "logit, y_p, y_p2 = classify(LogisticRegression(), X_train, y_train,X_test,y_test)"
   ]
  },
  {
   "cell_type": "code",
   "execution_count": 117,
   "metadata": {
    "colab": {
     "base_uri": "https://localhost:8080/"
    },
    "executionInfo": {
     "elapsed": 4728,
     "status": "ok",
     "timestamp": 1644400955929,
     "user": {
      "displayName": "Siddhi Jadhav",
      "photoUrl": "https://lh3.googleusercontent.com/a/default-user=s64",
      "userId": "08402691859170607175"
     },
     "user_tz": -330
    },
    "id": "gdj_OMv_2Qtk",
    "outputId": "38fd958b-6ab6-4204-ac99-8c2ba761364b"
   },
   "outputs": [
    {
     "name": "stdout",
     "output_type": "stream",
     "text": [
      "Accuracy:  0.6545195516064934\n",
      "Area under the ROC curve:  0.5811201627771133\n",
      "F-metric:  0.4049848259830826\n",
      " \n",
      "Classification report:\n",
      "              precision    recall  f1-score   support\n",
      "\n",
      "           0       0.76      0.75      0.76     18981\n",
      "           1       0.40      0.41      0.40      7692\n",
      "\n",
      "    accuracy                           0.65     26673\n",
      "   macro avg       0.58      0.58      0.58     26673\n",
      "weighted avg       0.66      0.65      0.66     26673\n",
      "\n",
      " \n",
      "Evaluation by cross-validation:\n",
      "[0.65464332 0.66002571 0.65541898 0.66240861 0.65365148]\n"
     ]
    }
   ],
   "source": [
    "########Decision Tree Classifier ##########\n",
    "dtc, y_p, y_p2 = classify(DecisionTreeClassifier(), X_train, y_train,X_test,y_test)"
   ]
  },
  {
   "cell_type": "code",
   "execution_count": 118,
   "metadata": {
    "colab": {
     "base_uri": "https://localhost:8080/",
     "height": 711
    },
    "executionInfo": {
     "elapsed": 26706,
     "status": "ok",
     "timestamp": 1644400982629,
     "user": {
      "displayName": "Siddhi Jadhav",
      "photoUrl": "https://lh3.googleusercontent.com/a/default-user=s64",
      "userId": "08402691859170607175"
     },
     "user_tz": -330
    },
    "id": "lTZCkByg2VBg",
    "outputId": "8decc3d6-84f7-4101-f8df-1227079d6e00"
   },
   "outputs": [
    {
     "name": "stdout",
     "output_type": "stream",
     "text": [
      "computing GradientBoosting - Non-balanced \n",
      "computing LogisticRegression - Non-balanced \n",
      "computing RandomForestClassifier - Non-balanced \n",
      "[10:17:50] WARNING: C:/Users/Administrator/workspace/xgboost-win64_release_1.4.0/src/learner.cc:1095: Starting in XGBoost 1.3.0, the default evaluation metric used with the objective 'binary:logistic' was changed from 'error' to 'logloss'. Explicitly set eval_metric if you'd like to restore the old behavior.\n"
     ]
    },
    {
     "name": "stderr",
     "output_type": "stream",
     "text": [
      "C:\\ProgramData\\Anaconda3\\lib\\site-packages\\xgboost\\sklearn.py:1146: UserWarning: The use of label encoder in XGBClassifier is deprecated and will be removed in a future release. To remove this warning, do the following: 1) Pass option use_label_encoder=False when constructing XGBClassifier object; and 2) Encode your labels (y) as integers starting with 0, i.e. 0, 1, 2, ..., [num_class - 1].\n",
      "  warnings.warn(label_encoder_deprecation_msg, UserWarning)\n"
     ]
    },
    {
     "name": "stdout",
     "output_type": "stream",
     "text": [
      "computing XGBClassifier - Non-balanced \n"
     ]
    },
    {
     "data": {
      "image/png": "[encoded data removed]",
      "text/plain": [
       "<Figure size 432x432 with 1 Axes>"
      ]
     },
     "metadata": {
      "needs_background": "light"
     },
     "output_type": "display_data"
    }
   ],
   "source": [
    "X_train, X_test, y_train, y_test = train_test_split(X_scaled, y, test_size=0.3, random_state=0)\n",
    "models_report, conf_matrix = run_models(X_train, y_train, X_test, y_test, model_type = 'Non-balanced')\n"
   ]
  },
  {
   "cell_type": "code",
   "execution_count": 119,
   "metadata": {},
   "outputs": [
    {
     "data": {
      "text/html": [
       "<div>\n",
       "<style scoped>\n",
       "    .dataframe tbody tr th:only-of-type {\n",
       "        vertical-align: middle;\n",
       "    }\n",
       "\n",
       "    .dataframe tbody tr th {\n",
       "        vertical-align: top;\n",
       "    }\n",
       "\n",
       "    .dataframe thead th {\n",
       "        text-align: right;\n",
       "    }\n",
       "</style>\n",
       "<table border=\"1\" class=\"dataframe\">\n",
       "  <thead>\n",
       "    <tr style=\"text-align: right;\">\n",
       "      <th></th>\n",
       "      <th>model</th>\n",
       "      <th>matthews_corrcoef</th>\n",
       "      <th>roc_auc_score</th>\n",
       "      <th>precision_score</th>\n",
       "      <th>recall_score</th>\n",
       "      <th>f1_score</th>\n",
       "      <th>model_type</th>\n",
       "    </tr>\n",
       "  </thead>\n",
       "  <tbody>\n",
       "    <tr>\n",
       "      <th>0</th>\n",
       "      <td>GradientBoosting</td>\n",
       "      <td>0.244688</td>\n",
       "      <td>0.753924</td>\n",
       "      <td>0.575469</td>\n",
       "      <td>0.254644</td>\n",
       "      <td>0.353059</td>\n",
       "      <td>Non-balanced</td>\n",
       "    </tr>\n",
       "    <tr>\n",
       "      <th>1</th>\n",
       "      <td>LogisticRegression</td>\n",
       "      <td>0.157798</td>\n",
       "      <td>0.672862</td>\n",
       "      <td>0.552154</td>\n",
       "      <td>0.128310</td>\n",
       "      <td>0.208231</td>\n",
       "      <td>Non-balanced</td>\n",
       "    </tr>\n",
       "    <tr>\n",
       "      <th>2</th>\n",
       "      <td>RandomForestClassifier</td>\n",
       "      <td>0.191144</td>\n",
       "      <td>0.695638</td>\n",
       "      <td>0.507180</td>\n",
       "      <td>0.232644</td>\n",
       "      <td>0.318974</td>\n",
       "      <td>Non-balanced</td>\n",
       "    </tr>\n",
       "    <tr>\n",
       "      <th>3</th>\n",
       "      <td>XGBClassifier</td>\n",
       "      <td>0.242814</td>\n",
       "      <td>0.743662</td>\n",
       "      <td>0.544641</td>\n",
       "      <td>0.288500</td>\n",
       "      <td>0.377196</td>\n",
       "      <td>Non-balanced</td>\n",
       "    </tr>\n",
       "  </tbody>\n",
       "</table>\n",
       "</div>"
      ],
      "text/plain": [
       "                    model  matthews_corrcoef  roc_auc_score  precision_score  \\\n",
       "0        GradientBoosting           0.244688       0.753924         0.575469   \n",
       "1      LogisticRegression           0.157798       0.672862         0.552154   \n",
       "2  RandomForestClassifier           0.191144       0.695638         0.507180   \n",
       "3           XGBClassifier           0.242814       0.743662         0.544641   \n",
       "\n",
       "   recall_score  f1_score    model_type  \n",
       "0      0.254644  0.353059  Non-balanced  \n",
       "1      0.128310  0.208231  Non-balanced  \n",
       "2      0.232644  0.318974  Non-balanced  \n",
       "3      0.288500  0.377196  Non-balanced  "
      ]
     },
     "execution_count": 119,
     "metadata": {},
     "output_type": "execute_result"
    }
   ],
   "source": [
    "models_report"
   ]
  },
  {
   "cell_type": "code",
   "execution_count": 120,
   "metadata": {},
   "outputs": [
    {
     "data": {
      "text/html": [
       "<div>\n",
       "<style scoped>\n",
       "    .dataframe tbody tr th:only-of-type {\n",
       "        vertical-align: middle;\n",
       "    }\n",
       "\n",
       "    .dataframe tbody tr th {\n",
       "        vertical-align: top;\n",
       "    }\n",
       "\n",
       "    .dataframe thead th {\n",
       "        text-align: right;\n",
       "    }\n",
       "</style>\n",
       "<table border=\"1\" class=\"dataframe\">\n",
       "  <thead>\n",
       "    <tr style=\"text-align: right;\">\n",
       "      <th>Predicted</th>\n",
       "      <th>0</th>\n",
       "      <th>1</th>\n",
       "    </tr>\n",
       "    <tr>\n",
       "      <th>True</th>\n",
       "      <th></th>\n",
       "      <th></th>\n",
       "    </tr>\n",
       "  </thead>\n",
       "  <tbody>\n",
       "    <tr>\n",
       "      <th>0</th>\n",
       "      <td>17656</td>\n",
       "      <td>1426</td>\n",
       "    </tr>\n",
       "    <tr>\n",
       "      <th>1</th>\n",
       "      <td>5658</td>\n",
       "      <td>1933</td>\n",
       "    </tr>\n",
       "  </tbody>\n",
       "</table>\n",
       "</div>"
      ],
      "text/plain": [
       "Predicted      0     1\n",
       "True                  \n",
       "0          17656  1426\n",
       "1           5658  1933"
      ]
     },
     "execution_count": 120,
     "metadata": {},
     "output_type": "execute_result"
    }
   ],
   "source": [
    "conf_matrix['GradientBoosting']"
   ]
  },
  {
   "cell_type": "code",
   "execution_count": 121,
   "metadata": {},
   "outputs": [
    {
     "data": {
      "text/html": [
       "<div>\n",
       "<style scoped>\n",
       "    .dataframe tbody tr th:only-of-type {\n",
       "        vertical-align: middle;\n",
       "    }\n",
       "\n",
       "    .dataframe tbody tr th {\n",
       "        vertical-align: top;\n",
       "    }\n",
       "\n",
       "    .dataframe thead th {\n",
       "        text-align: right;\n",
       "    }\n",
       "</style>\n",
       "<table border=\"1\" class=\"dataframe\">\n",
       "  <thead>\n",
       "    <tr style=\"text-align: right;\">\n",
       "      <th>Predicted</th>\n",
       "      <th>0</th>\n",
       "      <th>1</th>\n",
       "    </tr>\n",
       "    <tr>\n",
       "      <th>True</th>\n",
       "      <th></th>\n",
       "      <th></th>\n",
       "    </tr>\n",
       "  </thead>\n",
       "  <tbody>\n",
       "    <tr>\n",
       "      <th>0</th>\n",
       "      <td>18292</td>\n",
       "      <td>790</td>\n",
       "    </tr>\n",
       "    <tr>\n",
       "      <th>1</th>\n",
       "      <td>6617</td>\n",
       "      <td>974</td>\n",
       "    </tr>\n",
       "  </tbody>\n",
       "</table>\n",
       "</div>"
      ],
      "text/plain": [
       "Predicted      0    1\n",
       "True                 \n",
       "0          18292  790\n",
       "1           6617  974"
      ]
     },
     "execution_count": 121,
     "metadata": {},
     "output_type": "execute_result"
    }
   ],
   "source": [
    "conf_matrix['LogisticRegression']"
   ]
  },
  {
   "cell_type": "code",
   "execution_count": 122,
   "metadata": {},
   "outputs": [
    {
     "data": {
      "text/html": [
       "<div>\n",
       "<style scoped>\n",
       "    .dataframe tbody tr th:only-of-type {\n",
       "        vertical-align: middle;\n",
       "    }\n",
       "\n",
       "    .dataframe tbody tr th {\n",
       "        vertical-align: top;\n",
       "    }\n",
       "\n",
       "    .dataframe thead th {\n",
       "        text-align: right;\n",
       "    }\n",
       "</style>\n",
       "<table border=\"1\" class=\"dataframe\">\n",
       "  <thead>\n",
       "    <tr style=\"text-align: right;\">\n",
       "      <th>Predicted</th>\n",
       "      <th>0</th>\n",
       "      <th>1</th>\n",
       "    </tr>\n",
       "    <tr>\n",
       "      <th>True</th>\n",
       "      <th></th>\n",
       "      <th></th>\n",
       "    </tr>\n",
       "  </thead>\n",
       "  <tbody>\n",
       "    <tr>\n",
       "      <th>0</th>\n",
       "      <td>17366</td>\n",
       "      <td>1716</td>\n",
       "    </tr>\n",
       "    <tr>\n",
       "      <th>1</th>\n",
       "      <td>5825</td>\n",
       "      <td>1766</td>\n",
       "    </tr>\n",
       "  </tbody>\n",
       "</table>\n",
       "</div>"
      ],
      "text/plain": [
       "Predicted      0     1\n",
       "True                  \n",
       "0          17366  1716\n",
       "1           5825  1766"
      ]
     },
     "execution_count": 122,
     "metadata": {},
     "output_type": "execute_result"
    }
   ],
   "source": [
    "conf_matrix['RandomForestClassifier']"
   ]
  },
  {
   "cell_type": "code",
   "execution_count": 123,
   "metadata": {},
   "outputs": [
    {
     "data": {
      "text/html": [
       "<div>\n",
       "<style scoped>\n",
       "    .dataframe tbody tr th:only-of-type {\n",
       "        vertical-align: middle;\n",
       "    }\n",
       "\n",
       "    .dataframe tbody tr th {\n",
       "        vertical-align: top;\n",
       "    }\n",
       "\n",
       "    .dataframe thead th {\n",
       "        text-align: right;\n",
       "    }\n",
       "</style>\n",
       "<table border=\"1\" class=\"dataframe\">\n",
       "  <thead>\n",
       "    <tr style=\"text-align: right;\">\n",
       "      <th>Predicted</th>\n",
       "      <th>0</th>\n",
       "      <th>1</th>\n",
       "    </tr>\n",
       "    <tr>\n",
       "      <th>True</th>\n",
       "      <th></th>\n",
       "      <th></th>\n",
       "    </tr>\n",
       "  </thead>\n",
       "  <tbody>\n",
       "    <tr>\n",
       "      <th>0</th>\n",
       "      <td>17251</td>\n",
       "      <td>1831</td>\n",
       "    </tr>\n",
       "    <tr>\n",
       "      <th>1</th>\n",
       "      <td>5401</td>\n",
       "      <td>2190</td>\n",
       "    </tr>\n",
       "  </tbody>\n",
       "</table>\n",
       "</div>"
      ],
      "text/plain": [
       "Predicted      0     1\n",
       "True                  \n",
       "0          17251  1831\n",
       "1           5401  2190"
      ]
     },
     "execution_count": 123,
     "metadata": {},
     "output_type": "execute_result"
    }
   ],
   "source": [
    "conf_matrix['XGBClassifier']"
   ]
  },
  {
   "cell_type": "code",
   "execution_count": 124,
   "metadata": {
    "colab": {
     "base_uri": "https://localhost:8080/",
     "height": 553
    },
    "executionInfo": {
     "elapsed": 32316,
     "status": "ok",
     "timestamp": 1644401014934,
     "user": {
      "displayName": "Siddhi Jadhav",
      "photoUrl": "https://lh3.googleusercontent.com/a/default-user=s64",
      "userId": "08402691859170607175"
     },
     "user_tz": -330
    },
    "id": "t1okYTxx8IZg",
    "outputId": "75d99a18-7f69-4677-8b8c-0294f3543a8f"
   },
   "outputs": [
    {
     "name": "stdout",
     "output_type": "stream",
     "text": [
      "computing GradientBoosting - Balanced \n",
      "computing LogisticRegression - Balanced \n",
      "computing RandomForestClassifier - Balanced \n"
     ]
    },
    {
     "name": "stderr",
     "output_type": "stream",
     "text": [
      "C:\\ProgramData\\Anaconda3\\lib\\site-packages\\xgboost\\sklearn.py:1146: UserWarning: The use of label encoder in XGBClassifier is deprecated and will be removed in a future release. To remove this warning, do the following: 1) Pass option use_label_encoder=False when constructing XGBClassifier object; and 2) Encode your labels (y) as integers starting with 0, i.e. 0, 1, 2, ..., [num_class - 1].\n",
      "  warnings.warn(label_encoder_deprecation_msg, UserWarning)\n"
     ]
    },
    {
     "name": "stdout",
     "output_type": "stream",
     "text": [
      "[10:18:22] WARNING: C:/Users/Administrator/workspace/xgboost-win64_release_1.4.0/src/learner.cc:1095: Starting in XGBoost 1.3.0, the default evaluation metric used with the objective 'binary:logistic' was changed from 'error' to 'logloss'. Explicitly set eval_metric if you'd like to restore the old behavior.\n",
      "computing XGBClassifier - Balanced \n"
     ]
    },
    {
     "data": {
      "image/png": "[encoded data removed]",
      "text/plain": [
       "<Figure size 432x432 with 1 Axes>"
      ]
     },
     "metadata": {
      "needs_background": "light"
     },
     "output_type": "display_data"
    }
   ],
   "source": [
    "###########Synthetically balancing the dataset (Synthetic Minority Oversampling TEchnique)##################\n",
    "# Increase the number of smaples from the minority class, by linearly interpolating the minority class.\n",
    "index_split = int(len(X_scaled)/2)\n",
    "X_train, y_train = SMOTE().fit_resample(X_scaled[0:index_split, :], y[0:index_split])\n",
    "X_test, y_test = X_scaled[index_split:], y[index_split:]\n",
    "models_report_bal, conf_matrix_bal = run_models(X_train, y_train, X_test, y_test, model_type = 'Balanced')"
   ]
  },
  {
   "cell_type": "code",
   "execution_count": 125,
   "metadata": {},
   "outputs": [
    {
     "data": {
      "text/html": [
       "<div>\n",
       "<style scoped>\n",
       "    .dataframe tbody tr th:only-of-type {\n",
       "        vertical-align: middle;\n",
       "    }\n",
       "\n",
       "    .dataframe tbody tr th {\n",
       "        vertical-align: top;\n",
       "    }\n",
       "\n",
       "    .dataframe thead th {\n",
       "        text-align: right;\n",
       "    }\n",
       "</style>\n",
       "<table border=\"1\" class=\"dataframe\">\n",
       "  <thead>\n",
       "    <tr style=\"text-align: right;\">\n",
       "      <th></th>\n",
       "      <th>model</th>\n",
       "      <th>matthews_corrcoef</th>\n",
       "      <th>roc_auc_score</th>\n",
       "      <th>precision_score</th>\n",
       "      <th>recall_score</th>\n",
       "      <th>f1_score</th>\n",
       "      <th>model_type</th>\n",
       "    </tr>\n",
       "  </thead>\n",
       "  <tbody>\n",
       "    <tr>\n",
       "      <th>0</th>\n",
       "      <td>GradientBoosting</td>\n",
       "      <td>0.180732</td>\n",
       "      <td>0.677227</td>\n",
       "      <td>0.322069</td>\n",
       "      <td>0.921545</td>\n",
       "      <td>0.477320</td>\n",
       "      <td>Balanced</td>\n",
       "    </tr>\n",
       "    <tr>\n",
       "      <th>1</th>\n",
       "      <td>LogisticRegression</td>\n",
       "      <td>0.244186</td>\n",
       "      <td>0.681789</td>\n",
       "      <td>0.426433</td>\n",
       "      <td>0.555874</td>\n",
       "      <td>0.482625</td>\n",
       "      <td>Balanced</td>\n",
       "    </tr>\n",
       "    <tr>\n",
       "      <th>2</th>\n",
       "      <td>RandomForestClassifier</td>\n",
       "      <td>0.160813</td>\n",
       "      <td>0.623463</td>\n",
       "      <td>0.328448</td>\n",
       "      <td>0.828196</td>\n",
       "      <td>0.470359</td>\n",
       "      <td>Balanced</td>\n",
       "    </tr>\n",
       "    <tr>\n",
       "      <th>3</th>\n",
       "      <td>XGBClassifier</td>\n",
       "      <td>0.198280</td>\n",
       "      <td>0.670420</td>\n",
       "      <td>0.338932</td>\n",
       "      <td>0.856710</td>\n",
       "      <td>0.485708</td>\n",
       "      <td>Balanced</td>\n",
       "    </tr>\n",
       "  </tbody>\n",
       "</table>\n",
       "</div>"
      ],
      "text/plain": [
       "                    model  matthews_corrcoef  roc_auc_score  precision_score  \\\n",
       "0        GradientBoosting           0.180732       0.677227         0.322069   \n",
       "1      LogisticRegression           0.244186       0.681789         0.426433   \n",
       "2  RandomForestClassifier           0.160813       0.623463         0.328448   \n",
       "3           XGBClassifier           0.198280       0.670420         0.338932   \n",
       "\n",
       "   recall_score  f1_score model_type  \n",
       "0      0.921545  0.477320   Balanced  \n",
       "1      0.555874  0.482625   Balanced  \n",
       "2      0.828196  0.470359   Balanced  \n",
       "3      0.856710  0.485708   Balanced  "
      ]
     },
     "execution_count": 125,
     "metadata": {},
     "output_type": "execute_result"
    }
   ],
   "source": [
    "models_report_bal"
   ]
  },
  {
   "cell_type": "markdown",
   "metadata": {},
   "source": [
    "SMOTE did not work very well and caused the roc-auc scores of all the models to decrease. So we shall work with an unbalanced dataset. "
   ]
  },
  {
   "cell_type": "code",
   "execution_count": 126,
   "metadata": {
    "colab": {
     "base_uri": "https://localhost:8080/"
    },
    "executionInfo": {
     "elapsed": 15557,
     "status": "ok",
     "timestamp": 1644401030488,
     "user": {
      "displayName": "Siddhi Jadhav",
      "photoUrl": "https://lh3.googleusercontent.com/a/default-user=s64",
      "userId": "08402691859170607175"
     },
     "user_tz": -330
    },
    "id": "k4z7TaJG8LfF",
    "outputId": "30da0bca-3ce2-4fd3-fc28-e86c5ec3f04f"
   },
   "outputs": [
    {
     "data": {
      "text/plain": [
       "['GBM_Model_version1.pkl']"
      ]
     },
     "execution_count": 126,
     "metadata": {},
     "output_type": "execute_result"
    }
   ],
   "source": [
    "################Now we  know that GBM model performed the best so \n",
    "# save model\n",
    "gbm=GradientBoostingClassifier(max_depth= 6, n_estimators=100, max_features = 0.3)\n",
    "gbm.fit(X_scaled, y)\n",
    "joblib.dump(gbm, 'GBM_Model_version1.pkl')\n"
   ]
  },
  {
   "cell_type": "code",
   "execution_count": 127,
   "metadata": {},
   "outputs": [],
   "source": [
    "# Unpickle the saved model and use it make predictions on unseen data. \n",
    "# load model\n",
    "#gbm_pickle = joblib.load('GBM_Model_version1.pkl')"
   ]
  },
  {
   "cell_type": "code",
   "execution_count": null,
   "metadata": {},
   "outputs": [],
   "source": []
  }
 ],
 "metadata": {
  "colab": {
   "collapsed_sections": [],
   "name": "Loan_Eligibility_Prediction_using_Gradient_Boosting_Classifier_prediction.ipynb",
   "provenance": []
  },
  "kernelspec": {
   "display_name": "Python 3 (ipykernel)",
   "language": "python",
   "name": "python3"
  },
  "language_info": {
   "codemirror_mode": {
    "name": "ipython",
    "version": 3
   },
   "file_extension": ".py",
   "mimetype": "text/x-python",
   "name": "python",
   "nbconvert_exporter": "python",
   "pygments_lexer": "ipython3",
   "version": "3.7.11"
  }
 },
 "nbformat": 4,
 "nbformat_minor": 1
}
