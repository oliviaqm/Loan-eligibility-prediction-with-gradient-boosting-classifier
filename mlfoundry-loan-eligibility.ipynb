{
 "cells": [
  {
   "cell_type": "code",
   "execution_count": 1,
   "id": "70ef5b11",
   "metadata": {
    "id": "70ef5b11"
   },
   "outputs": [],
   "source": [
    "import pandas as pd\n",
    "import numpy as np\n",
    "import os\n",
    "import operator\n",
    "import matplotlib.pyplot as plt\n",
    "import seaborn as sns\n",
    "import statistics\n",
    "from sklearn.model_selection import train_test_split,GridSearchCV,cross_val_score\n",
    "from sklearn.preprocessing import LabelBinarizer,StandardScaler,OrdinalEncoder\n",
    "from sklearn.metrics import confusion_matrix\n",
    "from sklearn.metrics import roc_auc_score\n",
    "from sklearn.metrics import roc_curve\n",
    "from scipy.stats import boxcox\n",
    "from sklearn.linear_model import LogisticRegression,RidgeClassifier, PassiveAggressiveClassifier\n",
    "from sklearn import metrics\n",
    "from sklearn import preprocessing\n",
    "from sklearn.ensemble import RandomForestClassifier, GradientBoostingClassifier\n",
    "from imblearn.over_sampling import SMOTE\n",
    "from fancyimpute import KNN,SoftImpute\n",
    "from xgboost import plot_importance\n",
    "from matplotlib import pyplot\n",
    "from sklearn.naive_bayes import BernoulliNB\n",
    "from sklearn.neighbors import KNeighborsClassifier\n",
    "from sklearn.svm import LinearSVC\n",
    "from sklearn.tree import DecisionTreeClassifier\n",
    "from xgboost import XGBClassifier\n",
    "import joblib\n",
    "\n",
    "%matplotlib inline "
   ]
  },
  {
   "cell_type": "code",
   "execution_count": 2,
   "id": "1abda2b0",
   "metadata": {
    "id": "1abda2b0"
   },
   "outputs": [],
   "source": [
    "def classify(est, x, y,X_test,y_test):\n",
    "    #Passing the model and train test dataset to fit the model\n",
    "    est.fit(x, y)\n",
    "    #Predicting the probabilities of the Tet data\n",
    "    y2 = est.predict_proba(X_test)\n",
    "    y1 = est.predict(X_test)\n",
    "\n",
    "    '''print(\"Accuracy: \", metrics.accuracy_score(y_test, y1))\n",
    "    print(\"Area under the ROC curve: \", metrics.roc_auc_score(y_test, y2[:, 1]))\n",
    "    #Calculate different metrics\n",
    "    print(\"F-metric: \", metrics.f1_score(y_test, y1))\n",
    "    print(\" \")\n",
    "    print(\"Classification report:\")\n",
    "    print(metrics.classification_report(y_test, y1))\n",
    "    print(\" \")\n",
    "    print(\"Evaluation by cross-validation:\")\n",
    "    print(cross_val_score(est, x, y))'''\n",
    "    \n",
    "    return est, y1, y2[:, 1]\n",
    "\n",
    "#Function to find which features are more important than others through model\n",
    "def feat_importance(estimator):\n",
    "    feature_importance = {}\n",
    "    for index, name in enumerate(df_LC.columns):\n",
    "        feature_importance[name] = estimator.feature_importances_[index]\n",
    "\n",
    "    feature_importance = {k: v for k, v in feature_importance.items()}\n",
    "    sorted_x = sorted(feature_importance.items(), key=operator.itemgetter(1), reverse = True)\n",
    "    \n",
    "    return sorted_x\n",
    "\n",
    "#Model to  predict the ROC curve for various models and finding the best one\n",
    "def run_models(X_train, y_train, X_test, y_test, model_type = 'Non-balanced'):\n",
    "    \n",
    "    clfs = {'GradientBoosting': GradientBoostingClassifier(max_depth= 6, n_estimators=100, max_features = 0.3),\n",
    "            'LogisticRegression' : LogisticRegression(),\n",
    "            #'GaussianNB': GaussianNB(),\n",
    "            'RandomForestClassifier': RandomForestClassifier(n_estimators=10),\n",
    "            'XGBClassifier': XGBClassifier()\n",
    "            }\n",
    "    cols = ['model','matthews_corrcoef', 'roc_auc_score', 'precision_score', 'recall_score','f1_score']\n",
    "\n",
    "    models_report = pd.DataFrame(columns = cols)\n",
    "    conf_matrix = dict()\n",
    "\n",
    "    for clf, clf_name in zip(clfs.values(), clfs.keys()):\n",
    "\n",
    "        clf.fit(X_train, y_train)\n",
    "\n",
    "        y_pred = clf.predict(X_test)\n",
    "        y_score = clf.predict_proba(X_test)[:,1]\n",
    "\n",
    "        print('computing {} - {} '.format(clf_name, model_type))\n",
    "\n",
    "        tmp = pd.Series({'model_type': model_type,\n",
    "                         'model': clf_name,\n",
    "                         'roc_auc_score' : metrics.roc_auc_score(y_test, y_score),\n",
    "                         'matthews_corrcoef': metrics.matthews_corrcoef(y_test, y_pred),\n",
    "                         'precision_score': metrics.precision_score(y_test, y_pred),\n",
    "                         'recall_score': metrics.recall_score(y_test, y_pred),\n",
    "                         'f1_score': metrics.f1_score(y_test, y_pred)})\n",
    "\n",
    "        models_report = models_report.append(tmp, ignore_index = True)\n",
    "        conf_matrix[clf_name] = metrics.confusion_matrix(y_test, y_pred)\n",
    "        fpr, tpr, thresholds = metrics.roc_curve(y_test, y_score, drop_intermediate = False, pos_label = 1)\n",
    "\n",
    "        plt.figure(1, figsize=(6,6))\n",
    "        plt.xlabel('false positive rate')\n",
    "        plt.ylabel('true positive rate')\n",
    "        plt.title('ROC curve - {}'.format(model_type))\n",
    "        plt.plot(fpr, tpr, label = clf_name )\n",
    "        plt.legend(loc=2, prop={'size':11})\n",
    "    plt.plot([0,1],[0,1], color = 'black')\n",
    "    \n",
    "    return models_report, conf_matrix, plt"
   ]
  },
  {
   "cell_type": "code",
   "execution_count": 3,
   "id": "c75dfecd",
   "metadata": {
    "id": "c75dfecd"
   },
   "outputs": [
    {
     "name": "stderr",
     "output_type": "stream",
     "text": [
      "e:\\true_faundry\\projectpro-external-main\\Projects\\venv\\lib\\site-packages\\IPython\\core\\interactiveshell.py:3437: DtypeWarning: Columns (10,16) have mixed types.Specify dtype option on import or set low_memory=False.\n",
      "  exec(code_obj, self.user_global_ns, self.user_ns)\n"
     ]
    }
   ],
   "source": [
    "#############Reading the dataset############################\n",
    "#my_change\n",
    "data=pd.read_csv(\"https://s3.amazonaws.com/hackerday.datascience/358/LoansTrainingSetV2.csv\",low_memory=True)\n",
    "\n",
    "###############EDA Starts here####################################\n",
    "data.head()\n",
    "len(data)\n",
    "\n",
    "##Drop the duplicates with respect to LOAN ID\n",
    "data.drop_duplicates(subset=\"Loan ID\",keep='first',inplace=True)"
   ]
  },
  {
   "cell_type": "code",
   "execution_count": 4,
   "id": "3b389569",
   "metadata": {
    "id": "3b389569"
   },
   "outputs": [],
   "source": [
    "data = pd.concat([data[0:100], data[-100:]], axis=0)"
   ]
  },
  {
   "cell_type": "code",
   "execution_count": 5,
   "id": "e7d8b152",
   "metadata": {
    "id": "e7d8b152"
   },
   "outputs": [
    {
     "name": "stderr",
     "output_type": "stream",
     "text": [
      "e:\\true_faundry\\projectpro-external-main\\Projects\\venv\\lib\\site-packages\\seaborn\\_decorators.py:43: FutureWarning: Pass the following variables as keyword args: x, y. From version 0.12, the only valid positional argument will be `data`, and passing other arguments without an explicit keyword will result in an error or misinterpretation.\n",
      "  FutureWarning\n"
     ]
    },
    {
     "data": {
      "image/png": "[encoded data removed]",
      "text/plain": [
       "<Figure size 720x360 with 1 Axes>"
      ]
     },
     "metadata": {
      "needs_background": "light"
     },
     "output_type": "display_data"
    }
   ],
   "source": [
    "##########PLotting the loan status \n",
    "status=data[\"Loan Status\"].value_counts() \n",
    "\n",
    "plt.figure(figsize=(10,5))\n",
    "sns.barplot(status.index, status.values, alpha=0.8)\n",
    "plt.title('Loan Status distribution')\n",
    "plt.ylabel('Number of Occurrences', fontsize=12)\n",
    "plt.xlabel('Loan Status', fontsize=12)\n",
    "plt.show()\n",
    "##########################"
   ]
  },
  {
   "cell_type": "code",
   "execution_count": 6,
   "id": "bbab101a",
   "metadata": {
    "id": "bbab101a"
   },
   "outputs": [
    {
     "name": "stdout",
     "output_type": "stream",
     "text": [
      "10087.25\n"
     ]
    },
    {
     "data": {
      "image/png": "[encoded data removed]",
      "text/plain": [
       "<Figure size 432x288 with 1 Axes>"
      ]
     },
     "metadata": {
      "needs_background": "light"
     },
     "output_type": "display_data"
    }
   ],
   "source": [
    "###########Now we will go over column by column to fix the data #################\n",
    "\n",
    "\n",
    "###Current Loan Amount ############\n",
    "data[\"Current Loan Amount\"].describe()\n",
    "\n",
    "\n",
    "data[\"Current Loan Amount\"].plot.hist(grid=True, bins=20, rwidth=0.9,\n",
    "                   color='#607c8e')\n",
    "plt.title('Commute Times for 1,000 Commuters')\n",
    "plt.xlabel('Counts')\n",
    "plt.ylabel('Commute Time')\n",
    "plt.grid(axis='y', alpha=0.75)\n",
    "\n",
    "#Finding IQR's for outlier removal\n",
    "\n",
    "Q1 = data[\"Current Loan Amount\"].quantile(0.25)\n",
    "Q3 = data[\"Current Loan Amount\"].quantile(0.75)\n",
    "IQR = Q3 - Q1\n",
    "print(IQR)\n",
    "\n",
    "\n",
    "data[\"Current Loan Amount\"][((data[\"Current Loan Amount\"] < (Q1 - 1.5 * IQR)) |(data[\"Current Loan Amount\"] > (Q3 + 1.5 * IQR)))]\n",
    "\n",
    "\n",
    "temp=np.array(data[\"Current Loan Amount\"].values.tolist())\n",
    "data[\"Current Loan Amount_temp\"] = np.where(temp > 9999998, 'NaN', temp).tolist()\n",
    "\n",
    "\n",
    "temp=data[\"Current Loan Amount_temp\"][data[\"Current Loan Amount_temp\"]!='NaN'].astype(str).astype(int)\n",
    "temp.plot.hist(grid=True, bins=20, rwidth=0.9,\n",
    "                   color='#607c8e')\n",
    "                   \n",
    "temp.describe()\n",
    "\n",
    "#Replacing the data with 50% percentile or mean\n",
    "temp=np.array(data[\"Current Loan Amount\"].values.tolist())\n",
    "data[\"Current Loan Amount\"] = np.where(temp > 9999998,12038,temp).tolist()\n",
    "\n",
    "data=data.drop(['Current Loan Amount_temp'],axis=1)"
   ]
  },
  {
   "cell_type": "code",
   "execution_count": 7,
   "id": "e7d8cc9e",
   "metadata": {
    "id": "e7d8cc9e"
   },
   "outputs": [
    {
     "name": "stderr",
     "output_type": "stream",
     "text": [
      "e:\\true_faundry\\projectpro-external-main\\Projects\\venv\\lib\\site-packages\\seaborn\\_decorators.py:43: FutureWarning: Pass the following variables as keyword args: x, y. From version 0.12, the only valid positional argument will be `data`, and passing other arguments without an explicit keyword will result in an error or misinterpretation.\n",
      "  FutureWarning\n"
     ]
    },
    {
     "data": {
      "image/png": "[encoded data removed]",
      "text/plain": [
       "<Figure size 720x360 with 1 Axes>"
      ]
     },
     "metadata": {
      "needs_background": "light"
     },
     "output_type": "display_data"
    }
   ],
   "source": [
    "############Term ##############\n",
    "\n",
    "status=data[\"Term\"].value_counts() \n",
    "\n",
    "plt.figure(figsize=(10,5))\n",
    "sns.barplot(status.index, status.values, alpha=0.8)\n",
    "plt.title('Loan Term distribution')\n",
    "plt.ylabel('Number of Occurrences', fontsize=12)\n",
    "plt.xlabel('Loan term', fontsize=12)\n",
    "plt.show()"
   ]
  },
  {
   "cell_type": "code",
   "execution_count": 8,
   "id": "ca4b2597",
   "metadata": {
    "id": "ca4b2597"
   },
   "outputs": [
    {
     "name": "stderr",
     "output_type": "stream",
     "text": [
      "e:\\true_faundry\\projectpro-external-main\\Projects\\venv\\lib\\site-packages\\seaborn\\distributions.py:2557: FutureWarning: `distplot` is a deprecated function and will be removed in a future version. Please adapt your code to use either `displot` (a figure-level function with similar flexibility) or `histplot` (an axes-level function for histograms).\n",
      "  warnings.warn(msg, FutureWarning)\n",
      "e:\\true_faundry\\projectpro-external-main\\Projects\\venv\\lib\\site-packages\\seaborn\\distributions.py:2557: FutureWarning: `distplot` is a deprecated function and will be removed in a future version. Please adapt your code to use either `displot` (a figure-level function with similar flexibility) or `histplot` (an axes-level function for histograms).\n",
      "  warnings.warn(msg, FutureWarning)\n",
      "e:\\true_faundry\\projectpro-external-main\\Projects\\venv\\lib\\site-packages\\seaborn\\distributions.py:2557: FutureWarning: `distplot` is a deprecated function and will be removed in a future version. Please adapt your code to use either `displot` (a figure-level function with similar flexibility) or `histplot` (an axes-level function for histograms).\n",
      "  warnings.warn(msg, FutureWarning)\n"
     ]
    },
    {
     "data": {
      "text/plain": [
       "<AxesSubplot:xlabel='Credit Score', ylabel='Density'>"
      ]
     },
     "execution_count": 8,
     "metadata": {},
     "output_type": "execute_result"
    },
    {
     "data": {
      "image/png": "[encoded data removed]",
      "text/plain": [
       "<Figure size 432x288 with 1 Axes>"
      ]
     },
     "metadata": {
      "needs_background": "light"
     },
     "output_type": "display_data"
    }
   ],
   "source": [
    "#####Credit Score#############\n",
    "\n",
    "data[\"Credit Score\"].describe()\n",
    "##Max is 7510. It should be between 0-800\n",
    "plt.boxplot(data[\"Credit Score\"])\n",
    "\n",
    "data[\"Credit Score\"].isnull().unique()\n",
    "\n",
    "#Shows there are missing values in the data\n",
    "\n",
    "#Now lets do treatment of the data at hand. Let us firstly divide the values greater than 800 by 10\n",
    "\n",
    "data[\"Credit Score\"]=np.where(data[\"Credit Score\"]>800, data[\"Credit Score\"]/10, data[\"Credit Score\"])\n",
    "\n",
    "#Now lets replace the missing values with median \n",
    "median_score=statistics.median(data[\"Credit Score\"])\n",
    "\n",
    "data[\"Credit Score_1\"]=data[\"Credit Score\"]\n",
    "data[\"Credit Score_1\"].fillna(median_score, inplace = True) \n",
    "\n",
    "sns.distplot(data[\"Credit Score_1\"])\n",
    "#As we can see this data is skewed so when we replace it with median it is giving us problems. \n",
    "#Replacing with 75th percentile and taking log we get a better distribution\n",
    "\n",
    "\n",
    "data[\"Credit Score\"].fillna(741, inplace = True) \n",
    "\n",
    "sns.distplot(data[\"Credit Score\"])\n",
    "sns.distplot(np.log(data[\"Credit Score\"]))"
   ]
  },
  {
   "cell_type": "code",
   "execution_count": 9,
   "id": "2109ece3",
   "metadata": {
    "id": "2109ece3"
   },
   "outputs": [
    {
     "data": {
      "text/plain": [
       "0"
      ]
     },
     "execution_count": 9,
     "metadata": {},
     "output_type": "execute_result"
    }
   ],
   "source": [
    "########Years in current job #######\n",
    "\n",
    "\n",
    "\n",
    "#######################################\n",
    "\n",
    "data['Home Ownership'].unique()\n",
    "#As we can see it has Home Mortgage and haveMortgage as 2 different classes. Lets fix that\n",
    "\n",
    "data['Home Ownership']=data['Home Ownership'].str.replace('HaveMortgage', 'Home Mortgage', regex=True)\n",
    "\n",
    "data['Home Ownership'].unique()\n",
    "\n",
    "##################Annual Income######################\n",
    "data['Annual Income'].describe()\n",
    "\n",
    "##Lets look at the quantiles of this columns\n",
    "\n",
    "data['Annual Income'].quantile([.2,0.75,0.90,.95,0.99,.999])\n",
    "\n",
    "##0.200     40764.00\n",
    "##0.750     86750.25\n",
    "##0.900    119916.00\n",
    "##0.950    147645.00\n",
    "##0.990    239286.96\n",
    "##0.999    491575.77\n",
    "\n",
    "#As we can see they lie in the 99th percentile of the data.Lets replace them\n",
    "# Capping any values greater than 99% to 99th value\n",
    "data.loc[data['Annual Income'] > 239287, 'Annual Income'] = 239287\n",
    "\n",
    "\n",
    "data['Annual Income'].isna().sum()\n",
    "#So we have about 21000 null values \n",
    "\n",
    "##We will impute the mising data with other columns towards the end"
   ]
  },
  {
   "cell_type": "code",
   "execution_count": 10,
   "id": "a1369976",
   "metadata": {
    "id": "a1369976"
   },
   "outputs": [
    {
     "name": "stderr",
     "output_type": "stream",
     "text": [
      "e:\\true_faundry\\projectpro-external-main\\Projects\\venv\\lib\\site-packages\\seaborn\\distributions.py:2557: FutureWarning: `distplot` is a deprecated function and will be removed in a future version. Please adapt your code to use either `displot` (a figure-level function with similar flexibility) or `histplot` (an axes-level function for histograms).\n",
      "  warnings.warn(msg, FutureWarning)\n",
      "e:\\true_faundry\\projectpro-external-main\\Projects\\venv\\lib\\site-packages\\seaborn\\distributions.py:2557: FutureWarning: `distplot` is a deprecated function and will be removed in a future version. Please adapt your code to use either `displot` (a figure-level function with similar flexibility) or `histplot` (an axes-level function for histograms).\n",
      "  warnings.warn(msg, FutureWarning)\n",
      "e:\\true_faundry\\projectpro-external-main\\Projects\\venv\\lib\\site-packages\\seaborn\\distributions.py:2557: FutureWarning: `distplot` is a deprecated function and will be removed in a future version. Please adapt your code to use either `displot` (a figure-level function with similar flexibility) or `histplot` (an axes-level function for histograms).\n",
      "  warnings.warn(msg, FutureWarning)\n"
     ]
    },
    {
     "data": {
      "text/plain": [
       "<AxesSubplot:xlabel='Years of Credit History', ylabel='Density'>"
      ]
     },
     "execution_count": 10,
     "metadata": {},
     "output_type": "execute_result"
    },
    {
     "data": {
      "image/png": "[encoded data removed]",
      "text/plain": [
       "<Figure size 432x288 with 1 Axes>"
      ]
     },
     "metadata": {
      "needs_background": "light"
     },
     "output_type": "display_data"
    }
   ],
   "source": [
    "###############Loan Purpose ###############\n",
    "\n",
    "data['Purpose'].value_counts()\n",
    "#So other and Other mean the same thing. Lets make it the same\n",
    "\n",
    "data['Purpose']=data['Purpose'].str.replace('Other', 'other', regex=True)\n",
    "\n",
    "\n",
    "#######Monthly debt ###############\n",
    "\n",
    "\n",
    "data['Monthly Debt'].describe()\n",
    "##So this is not numeric column. Lets explore\n",
    "data['Monthly Debt'] \n",
    "# But this should be a numeric column. So lets convert it to float\n",
    "\n",
    "#my_change-commented next line\n",
    "#pd.to_numeric(data['Monthly Debt'] )\n",
    "#As we can see there is a $ symbol present. Lets replace it \n",
    "data['Monthly Debt']=data['Monthly Debt'].str.replace('$', '', regex=True)\n",
    "\n",
    "data['Monthly Debt']=pd.to_numeric(data['Monthly Debt'] )\n",
    "\n",
    "sns.distplot(data[\"Monthly Debt\"])\n",
    "\n",
    "#We can see that there are outliers in this data because of the plot\n",
    "#Lets explore\n",
    "\n",
    "data['Monthly Debt'].describe()\n",
    "#The max value is too high here\n",
    "\n",
    "data['Monthly Debt'].quantile([.2,0.75,0.90,.95,0.99,.999])\n",
    "\n",
    "#Problem is with 99th percentile. lets dig deeper\n",
    "\n",
    "data['Monthly Debt'].quantile([0.9995,.9999])\n",
    "#So problem again is wit 99th percentile\n",
    "\n",
    "data['Monthly Debt'].quantile([0.9997,.99999])\n",
    "#0.99970     5978.574911\n",
    "#0.99999    13262.762330\n",
    "\n",
    "data['Monthly Debt'].quantile([0.999,1])\n",
    "#0.999     4926.37475\n",
    "#1.000    22939.12000\n",
    "#Need to replace this\n",
    "\n",
    "\n",
    "data.loc[data['Monthly Debt'] > 4926, 'Monthly Debt'] = 4926\n",
    "\n",
    "sns.distplot(data[\"Monthly Debt\"])\n",
    "\n",
    "#Now we get the right distribution\n",
    "\n",
    "\n",
    "####################Years of credit history #################\n",
    "\n",
    "data['Years of Credit History'].value_counts()\n",
    "\n",
    "\n",
    "sns.distplot(data[\"Years of Credit History\"])\n",
    "#Over all looks pretty clean! no need of doing anything"
   ]
  },
  {
   "cell_type": "code",
   "execution_count": 11,
   "id": "29c4ac71",
   "metadata": {
    "id": "29c4ac71"
   },
   "outputs": [
    {
     "name": "stderr",
     "output_type": "stream",
     "text": [
      "e:\\true_faundry\\projectpro-external-main\\Projects\\venv\\lib\\site-packages\\seaborn\\distributions.py:2557: FutureWarning: `distplot` is a deprecated function and will be removed in a future version. Please adapt your code to use either `displot` (a figure-level function with similar flexibility) or `histplot` (an axes-level function for histograms).\n",
      "  warnings.warn(msg, FutureWarning)\n",
      "e:\\true_faundry\\projectpro-external-main\\Projects\\venv\\lib\\site-packages\\seaborn\\distributions.py:2557: FutureWarning: `distplot` is a deprecated function and will be removed in a future version. Please adapt your code to use either `displot` (a figure-level function with similar flexibility) or `histplot` (an axes-level function for histograms).\n",
      "  warnings.warn(msg, FutureWarning)\n",
      "e:\\true_faundry\\projectpro-external-main\\Projects\\venv\\lib\\site-packages\\seaborn\\distributions.py:2557: FutureWarning: `distplot` is a deprecated function and will be removed in a future version. Please adapt your code to use either `displot` (a figure-level function with similar flexibility) or `histplot` (an axes-level function for histograms).\n",
      "  warnings.warn(msg, FutureWarning)\n",
      "e:\\true_faundry\\projectpro-external-main\\Projects\\venv\\lib\\site-packages\\seaborn\\distributions.py:2557: FutureWarning: `distplot` is a deprecated function and will be removed in a future version. Please adapt your code to use either `displot` (a figure-level function with similar flexibility) or `histplot` (an axes-level function for histograms).\n",
      "  warnings.warn(msg, FutureWarning)\n",
      "e:\\true_faundry\\projectpro-external-main\\Projects\\venv\\lib\\site-packages\\seaborn\\distributions.py:2557: FutureWarning: `distplot` is a deprecated function and will be removed in a future version. Please adapt your code to use either `displot` (a figure-level function with similar flexibility) or `histplot` (an axes-level function for histograms).\n",
      "  warnings.warn(msg, FutureWarning)\n"
     ]
    },
    {
     "data": {
      "text/plain": [
       "array([0., 1., 3.])"
      ]
     },
     "execution_count": 11,
     "metadata": {},
     "output_type": "execute_result"
    },
    {
     "data": {
      "image/png": "[encoded data removed]",
      "text/plain": [
       "<Figure size 432x288 with 1 Axes>"
      ]
     },
     "metadata": {
      "needs_background": "light"
     },
     "output_type": "display_data"
    }
   ],
   "source": [
    "#############Months since last delinquent####################\n",
    "\n",
    "data['Months since last delinquent'].describe()\n",
    "\n",
    "#Lets check if there are any NA's\n",
    "data['Months since last delinquent'].isna().sum()\n",
    "#We have nearly 48506 NA;s. We will try to handle them at last \n",
    "\n",
    "\n",
    "##############Number of open accounts ##############\n",
    "\n",
    "data['Number of Open Accounts'].describe()\n",
    "#The max number seems odd. Lets investigate\n",
    "\n",
    "\n",
    "sns.distplot(data['Number of Open Accounts'])\n",
    "#Yes there are outliers in this columns. Let dig deeper\n",
    "\n",
    "\n",
    "data['Number of Open Accounts'].quantile([0.75,0.999,1])\n",
    "#Ok so replacing anything greater than 99th percentile with 99th percentile values\n",
    "\n",
    "\n",
    "data.loc[data['Number of Open Accounts'] > 36, 'Number of Open Accounts'] = 36\n",
    "\n",
    "\n",
    "sns.distplot(data['Number of Open Accounts'])\n",
    "#Looks good now\n",
    "\n",
    "\n",
    "#######################Number of Credit problems##############\n",
    "\n",
    "data['Number of Credit Problems'].describe() \n",
    "#Max looks a bit higher. Lets see\n",
    "\n",
    "sns.distplot(data['Number of Credit Problems'])\n",
    "#Okay lets look at value _counts\n",
    "\n",
    "\n",
    "data['Number of Credit Problems'].value_counts()\n",
    "\n",
    "#Okay looks good\n",
    "\n",
    "\n",
    "##################Current Credit Balance###########\n",
    "\n",
    "data['Current Credit Balance'].describe()\n",
    "\n",
    "sns.distplot(data['Current Credit Balance'])\n",
    "#It seems there are outliers in this data. Lets investigate\n",
    "\n",
    "data['Current Credit Balance'].quantile([0.75,0.95,0.999,1])\n",
    "\n",
    "#0.750      19301.000\n",
    "#0.950      39933.300\n",
    "#0.999     227670.033\n",
    "#1.000    1730472.000\n",
    "\n",
    "#lets dig deeper\n",
    "\n",
    "data['Current Credit Balance'].quantile([0.95,0.96,0.97,0.98,0.99,1])\n",
    "\n",
    "\n",
    "#So lets replace it with 95th percentile\n",
    "\n",
    "data['Current Credit Balance'].quantile([0.55,0.76,0.87,0.98,0.99,1])\n",
    "\n",
    "\n",
    "\n",
    "\n",
    "data.loc[data['Current Credit Balance'] > 81007, 'Current Credit Balance'] = 81007\n",
    "\n",
    "\n",
    "sns.distplot(data['Current Credit Balance']**(1/2))\n",
    "#The plot doesnt look good. We need to transform it\n",
    "\n",
    "data['Current Credit Balance']=data['Current Credit Balance']**(1/2)\n",
    "\n",
    "#######################Max open credit################\n",
    "\n",
    "data['Maximum Open Credit'].describe()\n",
    "\n",
    "data['Maximum Open Credit'].value_counts()\n",
    "\n",
    "#my_change - commenting next line and pd.to_numeric..\n",
    "#sns.distplot(data['Maximum Open Credit'])\n",
    "#So there are some str characters present in the data. Lets find them\n",
    "\n",
    "#pd.to_numeric(data['Maximum Open Credit'])\n",
    "\n",
    "#Lets replace #value with Nan\n",
    "data['Maximum Open Credit']=data['Maximum Open Credit'].replace('#VALUE!', np.nan, regex=True)\n",
    "    \n",
    "data['Maximum Open Credit']=pd.to_numeric(data['Maximum Open Credit'])\n",
    "\n",
    "\n",
    "data['Maximum Open Credit'].isnull().sum()\n",
    "#Now we have only 2 Nan;s in the data. Lets replace them with mean  \n",
    "data['Maximum Open Credit']=data['Maximum Open Credit'].fillna(35965)\n",
    "\n",
    "\n",
    "data['Maximum Open Credit'].quantile([0.55,0.76,0.87,0.98,0.99,1])\n",
    "\n",
    "#Lets replace the outliers\n",
    "\n",
    "\n",
    "data.loc[data['Maximum Open Credit'] > 171423, 'Maximum Open Credit'] = 171423\n",
    "\n",
    "#Looks much better now\n",
    "\n",
    "###############Bankruptcies##########\n",
    "data['Bankruptcies'].describe()\n",
    "\n",
    "data['Bankruptcies'].value_counts()\n",
    "\n",
    "data['Bankruptcies'].unique()\n",
    "\n",
    "#So we have Nan's. Lets fill them with median\n",
    "\n",
    "data['Bankruptcies']=data['Bankruptcies'].fillna(3)\n",
    "#Looks good\n",
    "\n",
    "####Tax Liens######\n",
    "\n",
    "data['Tax Liens'].describe()\n",
    "\n",
    "data['Tax Liens'].value_counts()\n",
    "\n",
    "data['Bankruptcies'].unique()\n",
    "\n",
    "\n",
    "###Looks good"
   ]
  },
  {
   "cell_type": "code",
   "execution_count": 12,
   "id": "69ffdf04",
   "metadata": {
    "id": "69ffdf04"
   },
   "outputs": [
    {
     "name": "stdout",
     "output_type": "stream",
     "text": [
      "[SoftImpute] Max Singular Value of X_init = 1110388.155407\n",
      "[SoftImpute] Iter 1: observed MAE=262.854718 rank=3\n",
      "[SoftImpute] Iter 2: observed MAE=258.891358 rank=3\n",
      "[SoftImpute] Iter 3: observed MAE=257.610095 rank=3\n",
      "[SoftImpute] Iter 4: observed MAE=257.187545 rank=3\n",
      "[SoftImpute] Iter 5: observed MAE=257.014722 rank=3\n",
      "[SoftImpute] Iter 6: observed MAE=256.955629 rank=3\n",
      "[SoftImpute] Iter 7: observed MAE=256.930516 rank=3\n",
      "[SoftImpute] Iter 8: observed MAE=256.920687 rank=3\n",
      "[SoftImpute] Iter 9: observed MAE=256.915815 rank=3\n",
      "[SoftImpute] Iter 10: observed MAE=256.913157 rank=3\n",
      "[SoftImpute] Iter 11: observed MAE=256.911813 rank=3\n",
      "[SoftImpute] Iter 12: observed MAE=256.911169 rank=3\n",
      "[SoftImpute] Stopped after iteration 12 for lambda=22207.763108\n",
      "[[-0.33748266 -0.75        0.5094246  ... -0.7765726  -0.32587527\n",
      "  -0.17431543]\n",
      " [ 1.32650118  1.33333333  0.65738411 ...  2.37357556 -0.32587527\n",
      "  -0.17431543]\n",
      " [ 0.16827365 -0.75        0.39105699 ... -0.46751928  2.38975197\n",
      "  -0.17431543]\n",
      " ...\n",
      " [ 1.24578846 -0.75        1.04207884 ...  1.26734557 -0.32587527\n",
      "  -0.17431543]\n",
      " [-1.27505203 -0.75        0.33187319 ... -0.30523143 -0.32587527\n",
      "  -0.17431543]\n",
      " [ 0.47146708 -0.75        0.21350558 ... -0.18366176 -0.32587527\n",
      "   1.87645433]]\n",
      "   \n",
      "(200, 16)\n"
     ]
    }
   ],
   "source": [
    "################Now we will impute missing values to the columns which have NA's ####################\n",
    "\n",
    "###Converting all the categorical columns into numbers\n",
    "\n",
    "cat_cols = ['Term','Years in current job','Home Ownership','Purpose']\n",
    "\n",
    "for c in cat_cols:\n",
    "    data[c] = pd.factorize(data[c])[0]\n",
    "\n",
    "#Imputing missing data with soft impute\n",
    "updated_data=pd.DataFrame(data=SoftImpute().fit_transform(data[data.columns[3:19]],), columns=data[data.columns[3:19]].columns, index=data.index)\n",
    "\n",
    "#Getting the dataset ready pd.get dummies function for dropping the dummy variables\n",
    "df_LC = pd.get_dummies(updated_data, drop_first=True)\n",
    "#df_LC['Loan_Status']=data['Loan Status']\n",
    "\n",
    "\n",
    "\n",
    "#Binarizing the Target variable\n",
    "lb_style = LabelBinarizer()\n",
    "lb_results = lb_style.fit_transform(data['Loan Status'])\n",
    "y=lb_results\n",
    "y=y.ravel()\n",
    "\n",
    "\n",
    "#Scaling the independent variables\n",
    "X_scaled = preprocessing.scale(df_LC)\n",
    "print(X_scaled)\n",
    "print('   ')\n",
    "print(X_scaled.shape)"
   ]
  },
  {
   "cell_type": "code",
   "execution_count": 13,
   "id": "05577b04",
   "metadata": {
    "id": "05577b04"
   },
   "outputs": [
    {
     "name": "stdout",
     "output_type": "stream",
     "text": [
      "[09:30:04] WARNING: C:/Users/Administrator/workspace/xgboost-win64_release_1.5.1/src/learner.cc:1115: Starting in XGBoost 1.3.0, the default evaluation metric used with the objective 'binary:logistic' was changed from 'error' to 'logloss'. Explicitly set eval_metric if you'd like to restore the old behavior.\n"
     ]
    },
    {
     "name": "stderr",
     "output_type": "stream",
     "text": [
      "e:\\true_faundry\\projectpro-external-main\\Projects\\venv\\lib\\site-packages\\xgboost\\sklearn.py:1224: UserWarning: The use of label encoder in XGBClassifier is deprecated and will be removed in a future release. To remove this warning, do the following: 1) Pass option use_label_encoder=False when constructing XGBClassifier object; and 2) Encode your labels (y) as integers starting with 0, i.e. 0, 1, 2, ..., [num_class - 1].\n",
      "  warnings.warn(label_encoder_deprecation_msg, UserWarning)\n"
     ]
    },
    {
     "name": "stdout",
     "output_type": "stream",
     "text": [
      "[0.06680847 0.09178463 0.08418904 0.05621877 0.07100409 0.06205594\n",
      " 0.0666609  0.05639505 0.05426249 0.05471714 0.05137631 0.0961739\n",
      " 0.05755392 0.04615257 0.08464678 0.        ]\n"
     ]
    },
    {
     "data": {
      "image/png": "[encoded data removed]",
      "text/plain": [
       "<Figure size 432x288 with 1 Axes>"
      ]
     },
     "metadata": {
      "needs_background": "light"
     },
     "output_type": "display_data"
    }
   ],
   "source": [
    "#######Looking at other models using different classifiers\n",
    "X_train, X_test, y_train, y_test = train_test_split(X_scaled, y, test_size=0.3, random_state=22)\n",
    "\n",
    "#Finding accuracy and feature importance using XGB classifier\n",
    "xgb0, y_pred_b, y_pred2_b = classify(XGBClassifier(), X_train, y_train,X_test,y_test)\n",
    "\n",
    "\n",
    "print(xgb0.feature_importances_)\n",
    "plot_importance(xgb0)\n",
    "pyplot.show()\n",
    "feat1 = feat_importance(xgb0)"
   ]
  },
  {
   "cell_type": "markdown",
   "id": "09954d7a",
   "metadata": {},
   "source": [
    "## Login to TrueFoundry  🎉\n",
    "\n",
    "1. An account with  <a href=\"https://projectpro.truefoundry.com/signin\">TrueFoundry</a>. has been created with the same email address that you use to sign in to ProjectPro and an email has been sent to you to set your password. \n",
    "2. Please go to your inbox and follow the link to make sure you are logged into TrueFoundry before getting to the next cell. If you don't see the email in your inbox, please check your Spam folder. \n",
    "\n",
    "Note: If you are not able to signin or did not receive an email, please send an email to nikunj@truefoundry.com with the following subject- \"ProjectPro User: TrueFoundry Login Issue\""
   ]
  },
  {
   "cell_type": "code",
   "execution_count": 14,
   "id": "wD2cCDBGPeen",
   "metadata": {
    "id": "wD2cCDBGPeen"
   },
   "outputs": [
    {
     "name": "stdout",
     "output_type": "stream",
     "text": [
      "Requirement already satisfied: mlfoundry in e:\\true_faundry\\projectpro-external-main\\projects\\venv\\lib\\site-packages (0.3.33)\n",
      "Requirement already satisfied: pyarrow<9.0.0,>=5.0.0 in e:\\true_faundry\\projectpro-external-main\\projects\\venv\\lib\\site-packages (from mlfoundry) (8.0.0)\n",
      "Requirement already satisfied: pandas<2.0.0,>=1.0.0 in e:\\true_faundry\\projectpro-external-main\\projects\\venv\\lib\\site-packages (from mlfoundry) (1.3.5)\n",
      "Requirement already satisfied: importlib-metadata<5.0.0,>=4.11.3 in e:\\true_faundry\\projectpro-external-main\\projects\\venv\\lib\\site-packages (from mlfoundry) (4.12.0)\n",
      "Requirement already satisfied: numpy<2.0.0,>=1.17.0 in e:\\true_faundry\\projectpro-external-main\\projects\\venv\\lib\\site-packages (from mlfoundry) (1.20.1)\n",
      "Requirement already satisfied: tinynetrc<2.0.0,>=1.3.1 in e:\\true_faundry\\projectpro-external-main\\projects\\venv\\lib\\site-packages (from mlfoundry) (1.3.1)\n",
      "Requirement already satisfied: coolname<2.0.0,>=1.1.0 in e:\\true_faundry\\projectpro-external-main\\projects\\venv\\lib\\site-packages (from mlfoundry) (1.1.0)\n",
      "Requirement already satisfied: GitPython<4.0.0,>=3.1.26 in e:\\true_faundry\\projectpro-external-main\\projects\\venv\\lib\\site-packages (from mlfoundry) (3.1.27)\n",
      "Requirement already satisfied: psutil<6.0.0,>=5.9.0 in e:\\true_faundry\\projectpro-external-main\\projects\\venv\\lib\\site-packages (from mlfoundry) (5.9.1)\n",
      "Requirement already satisfied: pydantic<2.0.0,>=1.8.2 in e:\\true_faundry\\projectpro-external-main\\projects\\venv\\lib\\site-packages (from mlfoundry) (1.9.1)\n",
      "Requirement already satisfied: whylogs<0.7.0,>=0.6.15 in e:\\true_faundry\\projectpro-external-main\\projects\\venv\\lib\\site-packages (from mlfoundry) (0.6.30)\n",
      "Requirement already satisfied: scikit-learn<2.0.0,>=0.24.2 in e:\\true_faundry\\projectpro-external-main\\projects\\venv\\lib\\site-packages (from mlfoundry) (1.0.2)\n",
      "Requirement already satisfied: boto3<2.0.0,>=1.14.1 in e:\\true_faundry\\projectpro-external-main\\projects\\venv\\lib\\site-packages (from mlfoundry) (1.24.18)\n",
      "Requirement already satisfied: amplitude-tracker<0.0.8,>=0.0.7 in e:\\true_faundry\\projectpro-external-main\\projects\\venv\\lib\\site-packages (from mlfoundry) (0.0.7)\n",
      "Requirement already satisfied: tfy-mlflow-client==0.0.13 in e:\\true_faundry\\projectpro-external-main\\projects\\venv\\lib\\site-packages (from mlfoundry) (0.0.13)\n",
      "Requirement already satisfied: packaging<22.0,>=21.3 in e:\\true_faundry\\projectpro-external-main\\projects\\venv\\lib\\site-packages (from mlfoundry) (21.3)\n",
      "Requirement already satisfied: fastparquet<0.8.0,>=0.7.2 in e:\\true_faundry\\projectpro-external-main\\projects\\venv\\lib\\site-packages (from mlfoundry) (0.7.2)\n",
      "Requirement already satisfied: scipy<2.0.0,>=1.5.4 in e:\\true_faundry\\projectpro-external-main\\projects\\venv\\lib\\site-packages (from mlfoundry) (1.7.3)\n",
      "Requirement already satisfied: pyyaml>=5.1 in e:\\true_faundry\\projectpro-external-main\\projects\\venv\\lib\\site-packages (from tfy-mlflow-client==0.0.13->mlfoundry) (6.0)\n",
      "Requirement already satisfied: cloudpickle in e:\\true_faundry\\projectpro-external-main\\projects\\venv\\lib\\site-packages (from tfy-mlflow-client==0.0.13->mlfoundry) (2.1.0)\n",
      "Requirement already satisfied: protobuf<5.0,>=3.12 in e:\\true_faundry\\projectpro-external-main\\projects\\venv\\lib\\site-packages (from tfy-mlflow-client==0.0.13->mlfoundry) (3.19.4)\n",
      "Requirement already satisfied: sqlparse>=0.3.1 in e:\\true_faundry\\projectpro-external-main\\projects\\venv\\lib\\site-packages (from tfy-mlflow-client==0.0.13->mlfoundry) (0.4.2)\n",
      "Requirement already satisfied: requests>=2.17.3 in e:\\true_faundry\\projectpro-external-main\\projects\\venv\\lib\\site-packages (from tfy-mlflow-client==0.0.13->mlfoundry) (2.28.0)\n",
      "Requirement already satisfied: pytz in e:\\true_faundry\\projectpro-external-main\\projects\\venv\\lib\\site-packages (from tfy-mlflow-client==0.0.13->mlfoundry) (2022.1)\n",
      "Requirement already satisfied: databricks-cli>=0.8.7 in e:\\true_faundry\\projectpro-external-main\\projects\\venv\\lib\\site-packages (from tfy-mlflow-client==0.0.13->mlfoundry) (0.17.0)\n",
      "Requirement already satisfied: click>=7.0 in e:\\true_faundry\\projectpro-external-main\\projects\\venv\\lib\\site-packages (from tfy-mlflow-client==0.0.13->mlfoundry) (8.1.3)\n",
      "Requirement already satisfied: entrypoints in e:\\true_faundry\\projectpro-external-main\\projects\\venv\\lib\\site-packages (from tfy-mlflow-client==0.0.13->mlfoundry) (0.4)\n",
      "Requirement already satisfied: six>=1.5 in e:\\true_faundry\\projectpro-external-main\\projects\\venv\\lib\\site-packages (from amplitude-tracker<0.0.8,>=0.0.7->mlfoundry) (1.16.0)\n",
      "Requirement already satisfied: python-dateutil>2.1 in e:\\true_faundry\\projectpro-external-main\\projects\\venv\\lib\\site-packages (from amplitude-tracker<0.0.8,>=0.0.7->mlfoundry) (2.8.2)\n",
      "Requirement already satisfied: monotonic>=1.5 in e:\\true_faundry\\projectpro-external-main\\projects\\venv\\lib\\site-packages (from amplitude-tracker<0.0.8,>=0.0.7->mlfoundry) (1.6)\n",
      "Requirement already satisfied: backoff==1.10.0 in e:\\true_faundry\\projectpro-external-main\\projects\\venv\\lib\\site-packages (from amplitude-tracker<0.0.8,>=0.0.7->mlfoundry) (1.10.0)\n",
      "Requirement already satisfied: jmespath<2.0.0,>=0.7.1 in e:\\true_faundry\\projectpro-external-main\\projects\\venv\\lib\\site-packages (from boto3<2.0.0,>=1.14.1->mlfoundry) (1.0.1)\n",
      "Requirement already satisfied: botocore<1.28.0,>=1.27.18 in e:\\true_faundry\\projectpro-external-main\\projects\\venv\\lib\\site-packages (from boto3<2.0.0,>=1.14.1->mlfoundry) (1.27.19)\n",
      "Requirement already satisfied: s3transfer<0.7.0,>=0.6.0 in e:\\true_faundry\\projectpro-external-main\\projects\\venv\\lib\\site-packages (from boto3<2.0.0,>=1.14.1->mlfoundry) (0.6.0)\n",
      "Requirement already satisfied: fsspec in e:\\true_faundry\\projectpro-external-main\\projects\\venv\\lib\\site-packages (from fastparquet<0.8.0,>=0.7.2->mlfoundry) (2022.5.0)\n",
      "Requirement already satisfied: cramjam>=2.3.0 in e:\\true_faundry\\projectpro-external-main\\projects\\venv\\lib\\site-packages (from fastparquet<0.8.0,>=0.7.2->mlfoundry) (2.5.0)\n",
      "Requirement already satisfied: thrift>=0.11.0 in e:\\true_faundry\\projectpro-external-main\\projects\\venv\\lib\\site-packages (from fastparquet<0.8.0,>=0.7.2->mlfoundry) (0.16.0)\n",
      "Requirement already satisfied: typing-extensions>=3.7.4.3 in e:\\true_faundry\\projectpro-external-main\\projects\\venv\\lib\\site-packages (from GitPython<4.0.0,>=3.1.26->mlfoundry) (4.2.0)\n",
      "Requirement already satisfied: gitdb<5,>=4.0.1 in e:\\true_faundry\\projectpro-external-main\\projects\\venv\\lib\\site-packages (from GitPython<4.0.0,>=3.1.26->mlfoundry) (4.0.9)\n",
      "Requirement already satisfied: zipp>=0.5 in e:\\true_faundry\\projectpro-external-main\\projects\\venv\\lib\\site-packages (from importlib-metadata<5.0.0,>=4.11.3->mlfoundry) (3.8.0)\n",
      "Requirement already satisfied: pyparsing!=3.0.5,>=2.0.2 in e:\\true_faundry\\projectpro-external-main\\projects\\venv\\lib\\site-packages (from packaging<22.0,>=21.3->mlfoundry) (3.0.9)\n",
      "Requirement already satisfied: threadpoolctl>=2.0.0 in e:\\true_faundry\\projectpro-external-main\\projects\\venv\\lib\\site-packages (from scikit-learn<2.0.0,>=0.24.2->mlfoundry) (3.1.0)\n",
      "Requirement already satisfied: joblib>=0.11 in e:\\true_faundry\\projectpro-external-main\\projects\\venv\\lib\\site-packages (from scikit-learn<2.0.0,>=0.24.2->mlfoundry) (1.0.1)\n",
      "Requirement already satisfied: whylabs-datasketches>=2.2.0b1 in e:\\true_faundry\\projectpro-external-main\\projects\\venv\\lib\\site-packages (from whylogs<0.7.0,>=0.6.15->mlfoundry) (2.2.0b1)\n",
      "Requirement already satisfied: smart-open>=4.1.2 in e:\\true_faundry\\projectpro-external-main\\projects\\venv\\lib\\site-packages (from whylogs<0.7.0,>=0.6.15->mlfoundry) (6.0.0)\n",
      "Requirement already satisfied: matplotlib<4.0.0,>=3.0.3 in e:\\true_faundry\\projectpro-external-main\\projects\\venv\\lib\\site-packages (from whylogs<0.7.0,>=0.6.15->mlfoundry) (3.3.4)\n",
      "Requirement already satisfied: whylabs-client<0.4.0,>=0.3.0 in e:\\true_faundry\\projectpro-external-main\\projects\\venv\\lib\\site-packages (from whylogs<0.7.0,>=0.6.15->mlfoundry) (0.3.0)\n",
      "Requirement already satisfied: puremagic<2.0,>=1.10 in e:\\true_faundry\\projectpro-external-main\\projects\\venv\\lib\\site-packages (from whylogs<0.7.0,>=0.6.15->mlfoundry) (1.14)\n",
      "Requirement already satisfied: tqdm<5.0.0,>=4.60.0 in e:\\true_faundry\\projectpro-external-main\\projects\\venv\\lib\\site-packages (from whylogs<0.7.0,>=0.6.15->mlfoundry) (4.64.0)\n",
      "Requirement already satisfied: marshmallow>=3.7.1 in e:\\true_faundry\\projectpro-external-main\\projects\\venv\\lib\\site-packages (from whylogs<0.7.0,>=0.6.15->mlfoundry) (3.17.0)\n",
      "Requirement already satisfied: jsonschema>=3.2.0 in e:\\true_faundry\\projectpro-external-main\\projects\\venv\\lib\\site-packages (from whylogs<0.7.0,>=0.6.15->mlfoundry) (4.6.1)\n",
      "Requirement already satisfied: urllib3<1.27,>=1.25.4 in e:\\true_faundry\\projectpro-external-main\\projects\\venv\\lib\\site-packages (from botocore<1.28.0,>=1.27.18->boto3<2.0.0,>=1.14.1->mlfoundry) (1.26.9)\n",
      "Requirement already satisfied: colorama in e:\\true_faundry\\projectpro-external-main\\projects\\venv\\lib\\site-packages (from click>=7.0->tfy-mlflow-client==0.0.13->mlfoundry) (0.4.5)\n",
      "Requirement already satisfied: pyjwt>=1.7.0 in e:\\true_faundry\\projectpro-external-main\\projects\\venv\\lib\\site-packages (from databricks-cli>=0.8.7->tfy-mlflow-client==0.0.13->mlfoundry) (2.4.0)\n",
      "Requirement already satisfied: tabulate>=0.7.7 in e:\\true_faundry\\projectpro-external-main\\projects\\venv\\lib\\site-packages (from databricks-cli>=0.8.7->tfy-mlflow-client==0.0.13->mlfoundry) (0.8.10)\n",
      "Requirement already satisfied: oauthlib>=3.1.0 in e:\\true_faundry\\projectpro-external-main\\projects\\venv\\lib\\site-packages (from databricks-cli>=0.8.7->tfy-mlflow-client==0.0.13->mlfoundry) (3.2.0)\n",
      "Requirement already satisfied: smmap<6,>=3.0.1 in e:\\true_faundry\\projectpro-external-main\\projects\\venv\\lib\\site-packages (from gitdb<5,>=4.0.1->GitPython<4.0.0,>=3.1.26->mlfoundry) (5.0.0)\n",
      "Requirement already satisfied: pyrsistent!=0.17.0,!=0.17.1,!=0.17.2,>=0.14.0 in e:\\true_faundry\\projectpro-external-main\\projects\\venv\\lib\\site-packages (from jsonschema>=3.2.0->whylogs<0.7.0,>=0.6.15->mlfoundry) (0.18.1)\n",
      "Requirement already satisfied: attrs>=17.4.0 in e:\\true_faundry\\projectpro-external-main\\projects\\venv\\lib\\site-packages (from jsonschema>=3.2.0->whylogs<0.7.0,>=0.6.15->mlfoundry) (21.4.0)\n",
      "Requirement already satisfied: importlib-resources>=1.4.0 in e:\\true_faundry\\projectpro-external-main\\projects\\venv\\lib\\site-packages (from jsonschema>=3.2.0->whylogs<0.7.0,>=0.6.15->mlfoundry) (5.8.0)\n",
      "Requirement already satisfied: kiwisolver>=1.0.1 in e:\\true_faundry\\projectpro-external-main\\projects\\venv\\lib\\site-packages (from matplotlib<4.0.0,>=3.0.3->whylogs<0.7.0,>=0.6.15->mlfoundry) (1.4.3)\n",
      "Requirement already satisfied: pillow>=6.2.0 in e:\\true_faundry\\projectpro-external-main\\projects\\venv\\lib\\site-packages (from matplotlib<4.0.0,>=3.0.3->whylogs<0.7.0,>=0.6.15->mlfoundry) (9.1.1)\n",
      "Requirement already satisfied: cycler>=0.10 in e:\\true_faundry\\projectpro-external-main\\projects\\venv\\lib\\site-packages (from matplotlib<4.0.0,>=3.0.3->whylogs<0.7.0,>=0.6.15->mlfoundry) (0.11.0)\n",
      "Requirement already satisfied: certifi>=2017.4.17 in e:\\true_faundry\\projectpro-external-main\\projects\\venv\\lib\\site-packages (from requests>=2.17.3->tfy-mlflow-client==0.0.13->mlfoundry) (2022.6.15)\n",
      "Requirement already satisfied: idna<4,>=2.5 in e:\\true_faundry\\projectpro-external-main\\projects\\venv\\lib\\site-packages (from requests>=2.17.3->tfy-mlflow-client==0.0.13->mlfoundry) (3.3)\n",
      "Requirement already satisfied: charset-normalizer~=2.0.0 in e:\\true_faundry\\projectpro-external-main\\projects\\venv\\lib\\site-packages (from requests>=2.17.3->tfy-mlflow-client==0.0.13->mlfoundry) (2.0.12)\n"
     ]
    },
    {
     "name": "stderr",
     "output_type": "stream",
     "text": [
      "WARNING: Ignoring invalid distribution -rotobuf (e:\\true_faundry\\projectpro-external-main\\projects\\venv\\lib\\site-packages)\n",
      "WARNING: Ignoring invalid distribution -rotobuf (e:\\true_faundry\\projectpro-external-main\\projects\\venv\\lib\\site-packages)\n",
      "WARNING: Ignoring invalid distribution -rotobuf (e:\\true_faundry\\projectpro-external-main\\projects\\venv\\lib\\site-packages)\n",
      "WARNING: Ignoring invalid distribution -rotobuf (e:\\true_faundry\\projectpro-external-main\\projects\\venv\\lib\\site-packages)\n",
      "WARNING: Ignoring invalid distribution -rotobuf (e:\\true_faundry\\projectpro-external-main\\projects\\venv\\lib\\site-packages)\n",
      "WARNING: Ignoring invalid distribution -rotobuf (e:\\true_faundry\\projectpro-external-main\\projects\\venv\\lib\\site-packages)\n",
      "WARNING: You are using pip version 22.0.4; however, version 22.2 is available.\n",
      "You should consider upgrading via the 'E:\\true_faundry\\projectpro-external-main\\Projects\\venv\\Scripts\\python.exe -m pip install --upgrade pip' command.\n"
     ]
    }
   ],
   "source": [
    "# !pip install mlfoundry --upgrade"
   ]
  },
  {
   "cell_type": "code",
   "execution_count": 15,
   "id": "8b214d72",
   "metadata": {
    "id": "8b214d72"
   },
   "outputs": [],
   "source": [
    "import mlfoundry as mlf\n",
    "\n",
    "TRACKING_URL = 'https://projectpro.truefoundry.com'\n",
    "mlf_api = mlf.get_client(TRACKING_URL)"
   ]
  },
  {
   "cell_type": "code",
   "execution_count": 16,
   "id": "5adda27e",
   "metadata": {
    "id": "5adda27e"
   },
   "outputs": [
    {
     "name": "stdout",
     "output_type": "stream",
     "text": [
      "[mlfoundry] 2022-07-26T09:30:16+0530 INFO project loan-eligibility-prediction does not exist. Creating loan-eligibility-prediction.\n",
      "Link to the dashboard for the run: https://projectpro.truefoundry.com/mlfoundry/218/98099429d0d44db88879edfaf636242b/\n",
      "[mlfoundry] 2022-07-26T09:30:18+0530 WARNING failed to log git info because git repository is not present\n",
      "[mlfoundry] 2022-07-26T09:30:19+0530 INFO Run 'projectpro/hemjeet/loan-eligibility-prediction/XGB-regressor' has started.\n",
      "[mlfoundry] 2022-07-26T09:30:39+0530 INFO Model logged successfully\n",
      "[mlfoundry] 2022-07-26T09:30:40+0530 INFO Parameters logged successfully\n",
      "[mlfoundry] 2022-07-26T09:30:41+0530 INFO Metrics logged successfully\n",
      "[mlfoundry] 2022-07-26T09:30:41+0530 INFO Logging Dataset, this might take a while ...\n",
      "[mlfoundry] 2022-07-26T09:30:58+0530 INFO Dataset logged successfully\n",
      "To visualize the logged dataset, click on the link https://projectpro.truefoundry.com/mlfoundry/218/98099429d0d44db88879edfaf636242b/?tab=data-feature-metrics\n"
     ]
    },
    {
     "data": {
      "text/plain": [
       "<Figure size 432x288 with 0 Axes>"
      ]
     },
     "metadata": {},
     "output_type": "display_data"
    }
   ],
   "source": [
    "mlf_run = mlf_api.create_run(project_name='loan-eligibility-prediction', run_name=\"XGB-regressor\")\n",
    "\n",
    "mlf_run.log_model(xgb0, mlf.ModelFramework.SKLEARN)\n",
    "mlf_run.log_params(xgb0.get_params())\n",
    "\n",
    "metrics_dict = {\n",
    "    'accuracy': metrics.accuracy_score(y_test, y_pred_b),\n",
    "    'f1-score': metrics.f1_score(y_test, y_pred_b),    \n",
    "}\n",
    "mlf_run.log_metrics(metrics_dict)\n",
    "\n",
    "mlf_run.log_dataset(\n",
    "    dataset_name = 'test',\n",
    "    features = X_test,\n",
    "    predictions = y_pred_b,\n",
    "    actuals = y_test,\n",
    ")\n",
    "\n",
    "mlf_run.log_plots({\"Feature-Importance\": pyplot}, step=1)\n"
   ]
  },
  {
   "cell_type": "code",
   "execution_count": 17,
   "id": "d3c6cd24",
   "metadata": {
    "id": "d3c6cd24"
   },
   "outputs": [
    {
     "name": "stderr",
     "output_type": "stream",
     "text": [
      "e:\\true_faundry\\projectpro-external-main\\Projects\\venv\\lib\\site-packages\\xgboost\\sklearn.py:1224: UserWarning: The use of label encoder in XGBClassifier is deprecated and will be removed in a future release. To remove this warning, do the following: 1) Pass option use_label_encoder=False when constructing XGBClassifier object; and 2) Encode your labels (y) as integers starting with 0, i.e. 0, 1, 2, ..., [num_class - 1].\n",
      "  warnings.warn(label_encoder_deprecation_msg, UserWarning)\n"
     ]
    },
    {
     "name": "stdout",
     "output_type": "stream",
     "text": [
      "[09:31:01] WARNING: C:/Users/Administrator/workspace/xgboost-win64_release_1.5.1/src/learner.cc:1115: Starting in XGBoost 1.3.0, the default evaluation metric used with the objective 'binary:logistic' was changed from 'error' to 'logloss'. Explicitly set eval_metric if you'd like to restore the old behavior.\n",
      "computing GradientBoosting - Non-balanced \n",
      "computing LogisticRegression - Non-balanced \n",
      "computing RandomForestClassifier - Non-balanced \n",
      "[09:31:01] WARNING: C:/Users/Administrator/workspace/xgboost-win64_release_1.5.1/src/learner.cc:1115: Starting in XGBoost 1.3.0, the default evaluation metric used with the objective 'binary:logistic' was changed from 'error' to 'logloss'. Explicitly set eval_metric if you'd like to restore the old behavior.\n"
     ]
    },
    {
     "name": "stderr",
     "output_type": "stream",
     "text": [
      "e:\\true_faundry\\projectpro-external-main\\Projects\\venv\\lib\\site-packages\\xgboost\\sklearn.py:1224: UserWarning: The use of label encoder in XGBClassifier is deprecated and will be removed in a future release. To remove this warning, do the following: 1) Pass option use_label_encoder=False when constructing XGBClassifier object; and 2) Encode your labels (y) as integers starting with 0, i.e. 0, 1, 2, ..., [num_class - 1].\n",
      "  warnings.warn(label_encoder_deprecation_msg, UserWarning)\n"
     ]
    },
    {
     "name": "stdout",
     "output_type": "stream",
     "text": [
      "computing XGBClassifier - Non-balanced \n",
      "Link to the dashboard for the run: https://projectpro.truefoundry.com/mlfoundry/218/470bebb4bcad4d209edea118b5bca157/\n",
      "[mlfoundry] 2022-07-26T09:31:03+0530 WARNING failed to log git info because git repository is not present\n",
      "[mlfoundry] 2022-07-26T09:31:04+0530 INFO Run 'projectpro/hemjeet/loan-eligibility-prediction/balanced-data-models' has started.\n",
      "[mlfoundry] 2022-07-26T09:31:05+0530 INFO Shutting down background jobs and syncing data for run 'projectpro/hemjeet/loan-eligibility-prediction/XGB-regressor', please don't kill this process...\n",
      "[mlfoundry] 2022-07-26T09:31:06+0530 INFO Finished syncing data for run 'projectpro/hemjeet/loan-eligibility-prediction/XGB-regressor'. Thank you for waiting!\n",
      "Link to the dashboard for the run: https://projectpro.truefoundry.com/mlfoundry/218/98099429d0d44db88879edfaf636242b/\n",
      "[mlfoundry] 2022-07-26T09:31:08+0530 INFO Metrics logged successfully\n"
     ]
    },
    {
     "data": {
      "image/png": "[encoded data removed]",
      "text/plain": [
       "<Figure size 432x432 with 1 Axes>"
      ]
     },
     "metadata": {
      "needs_background": "light"
     },
     "output_type": "display_data"
    },
    {
     "data": {
      "image/png": "[encoded data removed]",
      "text/plain": [
       "<Figure size 432x288 with 2 Axes>"
      ]
     },
     "metadata": {
      "needs_background": "light"
     },
     "output_type": "display_data"
    },
    {
     "data": {
      "image/png": "[encoded data removed]",
      "text/plain": [
       "<Figure size 432x288 with 2 Axes>"
      ]
     },
     "metadata": {
      "needs_background": "light"
     },
     "output_type": "display_data"
    },
    {
     "data": {
      "image/png": "[encoded data removed]",
      "text/plain": [
       "<Figure size 432x288 with 2 Axes>"
      ]
     },
     "metadata": {
      "needs_background": "light"
     },
     "output_type": "display_data"
    },
    {
     "data": {
      "image/png": "[encoded data removed]",
      "text/plain": [
       "<Figure size 432x288 with 2 Axes>"
      ]
     },
     "metadata": {
      "needs_background": "light"
     },
     "output_type": "display_data"
    }
   ],
   "source": [
    "xgb0, y_pred_b, y_pred2_b = classify(XGBClassifier(n_estimators=47, learning_rate=0.015), X_train, y_train,X_test,y_test)\n",
    "\n",
    "#######K nearest Neighbour classifier ################\n",
    "\n",
    "knc, y_p, y_p2 = classify(KNeighborsClassifier(), X_train, y_train,X_test,y_test)\n",
    "\n",
    "########Logistic Regression ##############\n",
    "logit, y_p, y_p2 = classify(LogisticRegression(), X_train, y_train,X_test,y_test)\n",
    "\n",
    "########Decision Tree Classifier ##########\n",
    "dtc, y_p, y_p2 = classify(DecisionTreeClassifier(), X_train, y_train,X_test,y_test)\n",
    "\n",
    "\n",
    "\n",
    "#########Running on unbalanced dataset #############\n",
    "\n",
    "X_train, X_test, y_train, y_test = train_test_split(X_scaled, y, test_size=0.3, random_state=0)\n",
    "models_report, conf_matrix, plt = run_models(X_train, y_train, X_test, y_test, model_type = 'Non-balanced')\n",
    "\n",
    "\n",
    "models_report\n",
    "\n",
    "mlf_run = mlf_api.create_run(project_name='loan-eligibility-prediction', run_name=\"balanced-data-models\")\n",
    "metrics_names = [\"matthews_corrcoef\", \"roc_auc_score\", \"precision_score\", \"recall_score\", \"f1_score\"]\n",
    "\n",
    "metrics_dict = {}\n",
    "plot_dict = {}\n",
    "for model in models_report[\"model\"]:\n",
    "    for metric in metrics_names:\n",
    "        metrics_dict[f\"{model}-{metric}\"] = models_report[models_report[\"model\"]==model][metric].values[0]\n",
    "    disp = metrics.ConfusionMatrixDisplay(conf_matrix[model])\n",
    "    disp.plot()\n",
    "    plot_dict[f\"{model}-confusion-matrix\"] = plt\n",
    "\n",
    "mlf_run.log_metrics(metrics_dict)\n",
    "\n",
    "mlf_run.log_plots({\"ROC-curve\": plt}, step=1)\n",
    "mlf_run.log_plots(plot_dict, step=1)\n"
   ]
  },
  {
   "cell_type": "code",
   "execution_count": 18,
   "id": "N9QfSyShaZYR",
   "metadata": {
    "id": "N9QfSyShaZYR"
   },
   "outputs": [
    {
     "name": "stdout",
     "output_type": "stream",
     "text": [
      "computing GradientBoosting - Balanced \n",
      "computing LogisticRegression - Balanced \n",
      "computing RandomForestClassifier - Balanced \n",
      "[09:31:23] WARNING: C:/Users/Administrator/workspace/xgboost-win64_release_1.5.1/src/learner.cc:1115: Starting in XGBoost 1.3.0, the default evaluation metric used with the objective 'binary:logistic' was changed from 'error' to 'logloss'. Explicitly set eval_metric if you'd like to restore the old behavior.\n"
     ]
    },
    {
     "name": "stderr",
     "output_type": "stream",
     "text": [
      "e:\\true_faundry\\projectpro-external-main\\Projects\\venv\\lib\\site-packages\\xgboost\\sklearn.py:1224: UserWarning: The use of label encoder in XGBClassifier is deprecated and will be removed in a future release. To remove this warning, do the following: 1) Pass option use_label_encoder=False when constructing XGBClassifier object; and 2) Encode your labels (y) as integers starting with 0, i.e. 0, 1, 2, ..., [num_class - 1].\n",
      "  warnings.warn(label_encoder_deprecation_msg, UserWarning)\n"
     ]
    },
    {
     "name": "stdout",
     "output_type": "stream",
     "text": [
      "computing XGBClassifier - Balanced \n"
     ]
    },
    {
     "data": {
      "text/plain": [
       "GradientBoostingClassifier(max_depth=6, max_features=0.3)"
      ]
     },
     "execution_count": 18,
     "metadata": {},
     "output_type": "execute_result"
    },
    {
     "data": {
      "image/png": "[encoded data removed]",
      "text/plain": [
       "<Figure size 432x432 with 1 Axes>"
      ]
     },
     "metadata": {
      "needs_background": "light"
     },
     "output_type": "display_data"
    }
   ],
   "source": [
    "###########Synthetically balancing the dataset##################\n",
    "\n",
    "\n",
    "index_split = int(19*len(X_scaled)/20)\n",
    "X_train, y_train = SMOTE().fit_resample(X_scaled[0:index_split, :], y[0:index_split])\n",
    "X_test, y_test = X_scaled[index_split:], y[index_split:]\n",
    "\n",
    "models_report_bal, conf_matrix_bal, plt = run_models(X_train, y_train, X_test, y_test, model_type = 'Balanced')\n",
    "\n",
    "\n",
    "################Now we  know that GBM model performed the best so \n",
    "# save model\n",
    "gbm=GradientBoostingClassifier(max_depth= 6, n_estimators=100, max_features = 0.3)\n",
    "gbm.fit(X_scaled, y)\n",
    "#joblib.dump(gbm, 'GBM_Model_version1.pkl')\n",
    "# load model\n",
    "#gbm_pickle = joblib.load('GBM_Model_version1.pkl')"
   ]
  },
  {
   "cell_type": "code",
   "execution_count": 19,
   "id": "305d7a63",
   "metadata": {
    "id": "305d7a63"
   },
   "outputs": [
    {
     "name": "stdout",
     "output_type": "stream",
     "text": [
      "Link to the dashboard for the run: https://projectpro.truefoundry.com/mlfoundry/218/0fb5ef8fc8ed40d486e202ada2993c80/\n",
      "[mlfoundry] 2022-07-26T09:31:26+0530 WARNING failed to log git info because git repository is not present\n",
      "[mlfoundry] 2022-07-26T09:31:27+0530 INFO Run 'projectpro/hemjeet/loan-eligibility-prediction/GradientBoostingClassifier' has started.\n",
      "[mlfoundry] 2022-07-26T09:31:29+0530 INFO Shutting down background jobs and syncing data for run 'projectpro/hemjeet/loan-eligibility-prediction/balanced-data-models', please don't kill this process...\n",
      "[mlfoundry] 2022-07-26T09:31:30+0530 INFO Finished syncing data for run 'projectpro/hemjeet/loan-eligibility-prediction/balanced-data-models'. Thank you for waiting!\n",
      "Link to the dashboard for the run: https://projectpro.truefoundry.com/mlfoundry/218/470bebb4bcad4d209edea118b5bca157/\n",
      "[mlfoundry] 2022-07-26T09:31:49+0530 INFO Model logged successfully\n",
      "[mlfoundry] 2022-07-26T09:31:50+0530 INFO Parameters logged successfully\n",
      "[mlfoundry] 2022-07-26T09:31:50+0530 INFO Metrics logged successfully\n",
      "[mlfoundry] 2022-07-26T09:31:50+0530 INFO Logging Dataset, this might take a while ...\n",
      "[mlfoundry] 2022-07-26T09:32:07+0530 INFO Dataset logged successfully\n",
      "To visualize the logged dataset, click on the link https://projectpro.truefoundry.com/mlfoundry/218/0fb5ef8fc8ed40d486e202ada2993c80/?tab=data-feature-metrics\n"
     ]
    },
    {
     "data": {
      "image/png": "[encoded data removed]",
      "text/plain": [
       "<Figure size 432x432 with 1 Axes>"
      ]
     },
     "metadata": {
      "needs_background": "light"
     },
     "output_type": "display_data"
    },
    {
     "data": {
      "image/png": "[encoded data removed]",
      "text/plain": [
       "<Figure size 432x288 with 2 Axes>"
      ]
     },
     "metadata": {
      "needs_background": "light"
     },
     "output_type": "display_data"
    }
   ],
   "source": [
    "mlf_run = mlf_api.create_run(project_name='loan-eligibility-prediction', run_name=\"GradientBoostingClassifier\")\n",
    "\n",
    "mlf_run.log_model(gbm, mlf.ModelFramework.SKLEARN)\n",
    "mlf_run.log_params(gbm.get_params())\n",
    "\n",
    "y_pred = gbm.predict(X_scaled)\n",
    "\n",
    "metrics_dict = {\n",
    "    'accuracy': metrics.accuracy_score(y, y_pred),\n",
    "    'f1-score': metrics.f1_score(y, y_pred),    \n",
    "}\n",
    "mlf_run.log_metrics(metrics_dict)\n",
    "\n",
    "mlf_run.log_dataset(\n",
    "    dataset_name = 'test',\n",
    "    features = X_scaled,\n",
    "    predictions = y_pred,\n",
    "    actuals = y,\n",
    ")\n",
    "\n",
    "y_score = gbm.predict_proba(X_scaled)[:,1]\n",
    "fpr, tpr, thresholds = metrics.roc_curve(y, y_score)\n",
    "plt.figure(1, figsize=(6,6))\n",
    "plt.xlabel('false positive rate')\n",
    "plt.ylabel('true positive rate')\n",
    "plt.title('ROC curve')\n",
    "plt.plot(fpr, tpr )\n",
    "mlf_run.log_plots({\"ROC-curve\": plt}, step=1)\n",
    "\n",
    "conf_matrix = metrics.confusion_matrix(y_pred, y)\n",
    "disp = metrics.ConfusionMatrixDisplay(conf_matrix)\n",
    "disp.plot()\n",
    "mlf_run.log_plots({\"Confusion-matrix\": plt}, step=1)\n",
    "plt.show()"
   ]
  },
  {
   "cell_type": "code",
   "execution_count": null,
   "id": "2kJvFBirdFE4",
   "metadata": {
    "id": "2kJvFBirdFE4"
   },
   "outputs": [],
   "source": []
  }
 ],
 "metadata": {
  "colab": {
   "collapsed_sections": [],
   "name": "mlfoundry-loan-eligibility.ipynb",
   "provenance": []
  },
  "kernelspec": {
   "display_name": "Python 3.7.11 ('base')",
   "language": "python",
   "name": "python3"
  },
  "language_info": {
   "codemirror_mode": {
    "name": "ipython",
    "version": 3
   },
   "file_extension": ".py",
   "mimetype": "text/x-python",
   "name": "python",
   "nbconvert_exporter": "python",
   "pygments_lexer": "ipython3",
   "version": "3.7.11"
  },
  "vscode": {
   "interpreter": {
    "hash": "ad2bdc8ecc057115af97d19610ffacc2b4e99fae6737bb82f5d7fb13d2f2c186"
   }
  }
 },
 "nbformat": 4,
 "nbformat_minor": 5
}
